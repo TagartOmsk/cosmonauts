{
 "cells": [
  {
   "cell_type": "code",
   "execution_count": 17,
   "metadata": {},
   "outputs": [
    {
     "name": "stdout",
     "output_type": "stream",
     "text": [
      "The autoreload extension is already loaded. To reload it, use:\n",
      "  %reload_ext autoreload\n"
     ]
    }
   ],
   "source": [
    "import torch\n",
    "import torch.nn as nn\n",
    "import torch.optim as optim\n",
    "from torch.utils.data import DataLoader\n",
    "from torch.utils.data import sampler\n",
    "\n",
    "import torchvision.datasets as dset\n",
    "import torchvision.transforms as T\n",
    "\n",
    "import numpy as np\n",
    "import pandas as pd\n",
    "from matplotlib import pyplot as plt\n",
    "import seaborn as sns\n",
    "from sklearn.tree import DecisionTreeRegressor\n",
    "from sklearn.model_selection import train_test_split, cross_val_score\n",
    "from sklearn.linear_model import ARDRegression\n",
    "import random\n",
    "random.seed(42)\n",
    "\n",
    "%load_ext autoreload\n",
    "%autoreload 2"
   ]
  },
  {
   "cell_type": "code",
   "execution_count": 18,
   "metadata": {
    "scrolled": false
   },
   "outputs": [
    {
     "data": {
      "text/html": [
       "<div>\n",
       "<style scoped>\n",
       "    .dataframe tbody tr th:only-of-type {\n",
       "        vertical-align: middle;\n",
       "    }\n",
       "\n",
       "    .dataframe tbody tr th {\n",
       "        vertical-align: top;\n",
       "    }\n",
       "\n",
       "    .dataframe thead th {\n",
       "        text-align: right;\n",
       "    }\n",
       "</style>\n",
       "<table border=\"1\" class=\"dataframe\">\n",
       "  <thead>\n",
       "    <tr style=\"text-align: right;\">\n",
       "      <th></th>\n",
       "      <th>PhC</th>\n",
       "      <th>t1(passive,slow)</th>\n",
       "      <th>t2(passive,fast)</th>\n",
       "      <th>t3(active,slow)</th>\n",
       "      <th>t4(active,fast)</th>\n",
       "      <th>Cycle</th>\n",
       "      <th>Real_PhC</th>\n",
       "    </tr>\n",
       "  </thead>\n",
       "  <tbody>\n",
       "    <tr>\n",
       "      <th>17</th>\n",
       "      <td>0.000000</td>\n",
       "      <td>153.846512</td>\n",
       "      <td>316.010203</td>\n",
       "      <td>3437.961850</td>\n",
       "      <td>2024.176166</td>\n",
       "      <td>3.0</td>\n",
       "      <td>0.368382</td>\n",
       "    </tr>\n",
       "    <tr>\n",
       "      <th>18</th>\n",
       "      <td>0.368382</td>\n",
       "      <td>786.342177</td>\n",
       "      <td>77.156605</td>\n",
       "      <td>1771.759692</td>\n",
       "      <td>893.738942</td>\n",
       "      <td>4.0</td>\n",
       "      <td>0.411326</td>\n",
       "    </tr>\n",
       "    <tr>\n",
       "      <th>20</th>\n",
       "      <td>0.000000</td>\n",
       "      <td>545.487015</td>\n",
       "      <td>261.629143</td>\n",
       "      <td>1873.728844</td>\n",
       "      <td>1714.151515</td>\n",
       "      <td>4.0</td>\n",
       "      <td>0.342096</td>\n",
       "    </tr>\n",
       "    <tr>\n",
       "      <th>24</th>\n",
       "      <td>0.000000</td>\n",
       "      <td>0.000000</td>\n",
       "      <td>0.000000</td>\n",
       "      <td>0.000000</td>\n",
       "      <td>0.000000</td>\n",
       "      <td>5.0</td>\n",
       "      <td>0.388945</td>\n",
       "    </tr>\n",
       "    <tr>\n",
       "      <th>25</th>\n",
       "      <td>0.388945</td>\n",
       "      <td>0.000000</td>\n",
       "      <td>0.000000</td>\n",
       "      <td>0.000000</td>\n",
       "      <td>0.000000</td>\n",
       "      <td>5.0</td>\n",
       "      <td>0.367687</td>\n",
       "    </tr>\n",
       "    <tr>\n",
       "      <th>26</th>\n",
       "      <td>0.367687</td>\n",
       "      <td>643.769583</td>\n",
       "      <td>276.212507</td>\n",
       "      <td>1767.446580</td>\n",
       "      <td>890.568173</td>\n",
       "      <td>6.0</td>\n",
       "      <td>0.404209</td>\n",
       "    </tr>\n",
       "    <tr>\n",
       "      <th>28</th>\n",
       "      <td>0.000000</td>\n",
       "      <td>615.937749</td>\n",
       "      <td>166.170172</td>\n",
       "      <td>1237.616204</td>\n",
       "      <td>1712.271861</td>\n",
       "      <td>6.0</td>\n",
       "      <td>0.314929</td>\n",
       "    </tr>\n",
       "    <tr>\n",
       "      <th>30</th>\n",
       "      <td>0.000000</td>\n",
       "      <td>708.365771</td>\n",
       "      <td>197.774011</td>\n",
       "      <td>1773.355578</td>\n",
       "      <td>891.494309</td>\n",
       "      <td>7.0</td>\n",
       "      <td>0.336423</td>\n",
       "    </tr>\n",
       "    <tr>\n",
       "      <th>31</th>\n",
       "      <td>0.336423</td>\n",
       "      <td>1135.819101</td>\n",
       "      <td>961.948224</td>\n",
       "      <td>1328.705175</td>\n",
       "      <td>586.525000</td>\n",
       "      <td>7.0</td>\n",
       "      <td>0.352973</td>\n",
       "    </tr>\n",
       "    <tr>\n",
       "      <th>32</th>\n",
       "      <td>0.352973</td>\n",
       "      <td>582.269316</td>\n",
       "      <td>385.380876</td>\n",
       "      <td>2416.592410</td>\n",
       "      <td>1713.753680</td>\n",
       "      <td>7.0</td>\n",
       "      <td>0.358951</td>\n",
       "    </tr>\n",
       "    <tr>\n",
       "      <th>33</th>\n",
       "      <td>0.358951</td>\n",
       "      <td>679.531590</td>\n",
       "      <td>423.463610</td>\n",
       "      <td>1007.051401</td>\n",
       "      <td>107.948461</td>\n",
       "      <td>7.0</td>\n",
       "      <td>0.350083</td>\n",
       "    </tr>\n",
       "    <tr>\n",
       "      <th>34</th>\n",
       "      <td>0.350083</td>\n",
       "      <td>572.444647</td>\n",
       "      <td>384.403998</td>\n",
       "      <td>1774.420194</td>\n",
       "      <td>892.717539</td>\n",
       "      <td>8.0</td>\n",
       "      <td>0.311317</td>\n",
       "    </tr>\n",
       "    <tr>\n",
       "      <th>36</th>\n",
       "      <td>0.000000</td>\n",
       "      <td>622.050803</td>\n",
       "      <td>378.867756</td>\n",
       "      <td>2439.627541</td>\n",
       "      <td>1714.450164</td>\n",
       "      <td>8.0</td>\n",
       "      <td>0.352916</td>\n",
       "    </tr>\n",
       "    <tr>\n",
       "      <th>37</th>\n",
       "      <td>0.352916</td>\n",
       "      <td>0.000000</td>\n",
       "      <td>0.000000</td>\n",
       "      <td>0.000000</td>\n",
       "      <td>0.000000</td>\n",
       "      <td>8.0</td>\n",
       "      <td>0.332323</td>\n",
       "    </tr>\n",
       "    <tr>\n",
       "      <th>43</th>\n",
       "      <td>0.000000</td>\n",
       "      <td>36.989378</td>\n",
       "      <td>0.000000</td>\n",
       "      <td>0.000000</td>\n",
       "      <td>0.000000</td>\n",
       "      <td>10.0</td>\n",
       "      <td>0.381175</td>\n",
       "    </tr>\n",
       "    <tr>\n",
       "      <th>45</th>\n",
       "      <td>0.000000</td>\n",
       "      <td>615.729328</td>\n",
       "      <td>338.772151</td>\n",
       "      <td>1772.860378</td>\n",
       "      <td>892.634275</td>\n",
       "      <td>10.0</td>\n",
       "      <td>0.361751</td>\n",
       "    </tr>\n",
       "    <tr>\n",
       "      <th>46</th>\n",
       "      <td>0.361751</td>\n",
       "      <td>1010.608595</td>\n",
       "      <td>1097.704048</td>\n",
       "      <td>1334.801058</td>\n",
       "      <td>585.875616</td>\n",
       "      <td>11.0</td>\n",
       "      <td>0.356610</td>\n",
       "    </tr>\n",
       "    <tr>\n",
       "      <th>47</th>\n",
       "      <td>0.356610</td>\n",
       "      <td>506.867843</td>\n",
       "      <td>510.124410</td>\n",
       "      <td>2446.258507</td>\n",
       "      <td>1708.745617</td>\n",
       "      <td>11.0</td>\n",
       "      <td>0.361241</td>\n",
       "    </tr>\n",
       "    <tr>\n",
       "      <th>48</th>\n",
       "      <td>0.361241</td>\n",
       "      <td>426.524722</td>\n",
       "      <td>890.426333</td>\n",
       "      <td>18.513842</td>\n",
       "      <td>1893.534691</td>\n",
       "      <td>11.0</td>\n",
       "      <td>0.365281</td>\n",
       "    </tr>\n",
       "    <tr>\n",
       "      <th>49</th>\n",
       "      <td>0.365281</td>\n",
       "      <td>461.027951</td>\n",
       "      <td>502.555999</td>\n",
       "      <td>1768.519614</td>\n",
       "      <td>891.892916</td>\n",
       "      <td>11.0</td>\n",
       "      <td>0.349194</td>\n",
       "    </tr>\n",
       "  </tbody>\n",
       "</table>\n",
       "</div>"
      ],
      "text/plain": [
       "         PhC  t1(passive,slow)  t2(passive,fast)  t3(active,slow)  \\\n",
       "17  0.000000        153.846512        316.010203      3437.961850   \n",
       "18  0.368382        786.342177         77.156605      1771.759692   \n",
       "20  0.000000        545.487015        261.629143      1873.728844   \n",
       "24  0.000000          0.000000          0.000000         0.000000   \n",
       "25  0.388945          0.000000          0.000000         0.000000   \n",
       "26  0.367687        643.769583        276.212507      1767.446580   \n",
       "28  0.000000        615.937749        166.170172      1237.616204   \n",
       "30  0.000000        708.365771        197.774011      1773.355578   \n",
       "31  0.336423       1135.819101        961.948224      1328.705175   \n",
       "32  0.352973        582.269316        385.380876      2416.592410   \n",
       "33  0.358951        679.531590        423.463610      1007.051401   \n",
       "34  0.350083        572.444647        384.403998      1774.420194   \n",
       "36  0.000000        622.050803        378.867756      2439.627541   \n",
       "37  0.352916          0.000000          0.000000         0.000000   \n",
       "43  0.000000         36.989378          0.000000         0.000000   \n",
       "45  0.000000        615.729328        338.772151      1772.860378   \n",
       "46  0.361751       1010.608595       1097.704048      1334.801058   \n",
       "47  0.356610        506.867843        510.124410      2446.258507   \n",
       "48  0.361241        426.524722        890.426333        18.513842   \n",
       "49  0.365281        461.027951        502.555999      1768.519614   \n",
       "\n",
       "    t4(active,fast)  Cycle  Real_PhC  \n",
       "17      2024.176166    3.0  0.368382  \n",
       "18       893.738942    4.0  0.411326  \n",
       "20      1714.151515    4.0  0.342096  \n",
       "24         0.000000    5.0  0.388945  \n",
       "25         0.000000    5.0  0.367687  \n",
       "26       890.568173    6.0  0.404209  \n",
       "28      1712.271861    6.0  0.314929  \n",
       "30       891.494309    7.0  0.336423  \n",
       "31       586.525000    7.0  0.352973  \n",
       "32      1713.753680    7.0  0.358951  \n",
       "33       107.948461    7.0  0.350083  \n",
       "34       892.717539    8.0  0.311317  \n",
       "36      1714.450164    8.0  0.352916  \n",
       "37         0.000000    8.0  0.332323  \n",
       "43         0.000000   10.0  0.381175  \n",
       "45       892.634275   10.0  0.361751  \n",
       "46       585.875616   11.0  0.356610  \n",
       "47      1708.745617   11.0  0.361241  \n",
       "48      1893.534691   11.0  0.365281  \n",
       "49       891.892916   11.0  0.349194  "
      ]
     },
     "execution_count": 18,
     "metadata": {},
     "output_type": "execute_result"
    }
   ],
   "source": [
    "init_data1 = pd.read_excel(\"./phc_mo3_and_tripms.xls\")\n",
    "init_data2 = pd.read_excel(\"./PhC_MO3_and_tripms2.xls\")\n",
    "init_data3 = pd.read_excel(\"./PhC_MO3_and_tripms3.xls\")\n",
    "\n",
    "main_features2 = init_data2.copy()\n",
    "for col in main_features2:\n",
    "    if (col != 'PhC') & (col[0] != 't'):\n",
    "        main_features2.drop(columns=[col], inplace=True)\n",
    "\n",
    "main_features2[\"Cycle\"] = init_data2['Unnamed: 1']\n",
    "\n",
    "main_features2[\"Real_PhC\"]  = np.zeros(main_features2.shape[0])\n",
    "main_features2[\"Real_PhC\"][0:-2:1] = main_features2['PhC'][1:-1:1]\n",
    "\n",
    "# main_features2.drop(inplace=True, axis='rows')\n",
    "\n",
    "main_features2[np.isnan(main_features2)] = 0\n",
    "\n",
    "main_features2.drop(index=main_features2.index[main_features2['Real_PhC'] == 0], inplace=True)\n",
    "\n",
    "# print(main_features2['Real_PhC'][main_features2['Real_PhC'].idxmin()])\n",
    "main_features2.head(20)"
   ]
  },
  {
   "cell_type": "code",
   "execution_count": 19,
   "metadata": {},
   "outputs": [
    {
     "name": "stdout",
     "output_type": "stream",
     "text": [
      "using device: cpu\n"
     ]
    }
   ],
   "source": [
    "USE_GPU = False # на моём текущем устройстве не поддерживается новый пайторч\n",
    "\n",
    "if USE_GPU and torch.cuda.is_available():\n",
    "    device = torch.device('cuda')\n",
    "else:\n",
    "    device = torch.device('cpu')\n",
    "\n",
    "print('using device:', device)"
   ]
  },
  {
   "cell_type": "code",
   "execution_count": 20,
   "metadata": {},
   "outputs": [],
   "source": [
    "def max_line(target):\n",
    "    figure = plt.figure(figsize=(5,5))\n",
    "    mx = target[np.argmax(target)]\n",
    "    mn = target[np.argmin(target)]\n",
    "    sns.lineplot((mn, mx),(mn, mx))"
   ]
  },
  {
   "cell_type": "code",
   "execution_count": 21,
   "metadata": {},
   "outputs": [],
   "source": [
    "from networks.model import train\n",
    "from networks.Dataset import MyDataset\n",
    "\n",
    "def test_model(model, train_set, X_test, y_test, batch_size=20, num_epochs=10):\n",
    "    model.train()\n",
    "    %time train(model, train_set, batch_size, epochs=num_epochs)\n",
    "\n",
    "    model.eval()\n",
    "    y_pred = model.forward(torch.Tensor(np.asarray(X_test, dtype=np.float64))).detach().numpy().squeeze()\n",
    "    \n",
    "    sns.scatterplot(train_set.target, model.forward(torch.Tensor(np.asarray(X_train, dtype=np.float64))).detach().numpy().squeeze()) \n",
    "#     sns.scatterplot(y_test, y_pred)\n",
    "    return test_accuracy(y_test, y_pred)"
   ]
  },
  {
   "cell_type": "code",
   "execution_count": 22,
   "metadata": {},
   "outputs": [],
   "source": [
    "def test_accuracy(y_test, y_pred):\n",
    "    loss = np.mean(np.abs(y_pred.squeeze() - y_test.values))\n",
    "    print(\"ошибка текущей модели: %.15e\" % loss)\n",
    "    sns.scatterplot(y_test, y_pred)\n",
    "    \n",
    "    plt.xlabel('ФС')\n",
    "    plt.ylabel('Прогноз')\n",
    "    return loss"
   ]
  },
  {
   "cell_type": "markdown",
   "metadata": {},
   "source": [
    "# Naive dataset"
   ]
  },
  {
   "cell_type": "markdown",
   "metadata": {},
   "source": [
    "REGRESSION TREES"
   ]
  },
  {
   "cell_type": "code",
   "execution_count": 23,
   "metadata": {},
   "outputs": [],
   "source": [
    "X = main_features2.drop(['Real_PhC', 'PhC', 'Cycle'], axis='columns')\n",
    "y = main_features2['Real_PhC'].copy()\n",
    "X_train, X_test, y_train, y_test = train_test_split(X, y, test_size=0.20, random_state=42, shuffle=True)"
   ]
  },
  {
   "cell_type": "code",
   "execution_count": 24,
   "metadata": {},
   "outputs": [
    {
     "data": {
      "text/plain": [
       "(52, 4)"
      ]
     },
     "execution_count": 24,
     "metadata": {},
     "output_type": "execute_result"
    }
   ],
   "source": [
    "X_train.shape"
   ]
  },
  {
   "cell_type": "code",
   "execution_count": 25,
   "metadata": {},
   "outputs": [
    {
     "data": {
      "text/plain": [
       "array([-0.7107154 , -0.62573458, -1.71595484])"
      ]
     },
     "execution_count": 25,
     "metadata": {},
     "output_type": "execute_result"
    }
   ],
   "source": [
    "tree = DecisionTreeRegressor(criterion='mae', random_state=42)\n",
    "cross_val_score(tree, X_train, y_train, cv=3)"
   ]
  },
  {
   "cell_type": "code",
   "execution_count": 26,
   "metadata": {},
   "outputs": [
    {
     "name": "stdout",
     "output_type": "stream",
     "text": [
      "ошибка текущей модели: 1.797011510264827e-03\n",
      "ошибка текущей модели: 3.197692886578390e-02\n"
     ]
    },
    {
     "name": "stderr",
     "output_type": "stream",
     "text": [
      "/home/vyacheslav/.local/lib/python3.6/site-packages/numpy/core/fromnumeric.py:56: FutureWarning: 'argmax' is deprecated, use 'idxmax' instead. The behavior of 'argmax'\n",
      "will be corrected to return the positional maximum in the future.\n",
      "Use 'series.values.argmax' to get the position of the maximum now.\n",
      "  return getattr(obj, method)(*args, **kwds)\n",
      "/home/vyacheslav/.local/lib/python3.6/site-packages/numpy/core/fromnumeric.py:56: FutureWarning: 'argmin' is deprecated, use 'idxmin' instead. The behavior of 'argmin'\n",
      "will be corrected to return the positional minimum in the future.\n",
      "Use 'series.values.argmin' to get the position of the minimum now.\n",
      "  return getattr(obj, method)(*args, **kwds)\n"
     ]
    },
    {
     "data": {
      "text/plain": [
       "0.031976928865783905"
      ]
     },
     "execution_count": 26,
     "metadata": {},
     "output_type": "execute_result"
    },
    {
     "data": {
      "image/png": "[encoded data removed]",
      "text/plain": [
       "<Figure size 360x360 with 1 Axes>"
      ]
     },
     "metadata": {
      "needs_background": "light"
     },
     "output_type": "display_data"
    }
   ],
   "source": [
    "tree.fit(X_train, y_train)\n",
    "max_line(y)\n",
    "y_pred = tree.predict(X_train)\n",
    "test_accuracy(y_train, y_pred)\n",
    "y_pred = tree.predict(X_test)\n",
    "test_accuracy(y_test, y_pred)"
   ]
  },
  {
   "cell_type": "markdown",
   "metadata": {},
   "source": [
    "Linear Regression\n"
   ]
  },
  {
   "cell_type": "code",
   "execution_count": 27,
   "metadata": {},
   "outputs": [],
   "source": [
    "from sklearn.linear_model import Lasso\n",
    "from sklearn.linear_model import Ridge\n",
    "from sklearn.linear_model import LinearRegression\n",
    "lasso = Lasso(random_state=42)\n",
    "ridge = Ridge(random_state=42)\n",
    "linear = LinearRegression()\n",
    "lasso = lasso.fit(X_train, y_train)\n",
    "ridge = ridge.fit(X_train, y_train)\n",
    "linear = linear.fit(X_train, y_train)"
   ]
  },
  {
   "cell_type": "code",
   "execution_count": 28,
   "metadata": {},
   "outputs": [
    {
     "name": "stdout",
     "output_type": "stream",
     "text": [
      "ошибка текущей модели: 2.108257852172953e-02\n",
      "ошибка текущей модели: 2.049115787456648e-02\n"
     ]
    },
    {
     "name": "stderr",
     "output_type": "stream",
     "text": [
      "/home/vyacheslav/.local/lib/python3.6/site-packages/numpy/core/fromnumeric.py:56: FutureWarning: 'argmax' is deprecated, use 'idxmax' instead. The behavior of 'argmax'\n",
      "will be corrected to return the positional maximum in the future.\n",
      "Use 'series.values.argmax' to get the position of the maximum now.\n",
      "  return getattr(obj, method)(*args, **kwds)\n",
      "/home/vyacheslav/.local/lib/python3.6/site-packages/numpy/core/fromnumeric.py:56: FutureWarning: 'argmin' is deprecated, use 'idxmin' instead. The behavior of 'argmin'\n",
      "will be corrected to return the positional minimum in the future.\n",
      "Use 'series.values.argmin' to get the position of the minimum now.\n",
      "  return getattr(obj, method)(*args, **kwds)\n"
     ]
    },
    {
     "data": {
      "text/plain": [
       "0.02049115787456648"
      ]
     },
     "execution_count": 28,
     "metadata": {},
     "output_type": "execute_result"
    },
    {
     "data": {
      "image/png": "[encoded data removed]",
      "text/plain": [
       "<Figure size 360x360 with 1 Axes>"
      ]
     },
     "metadata": {
      "needs_background": "light"
     },
     "output_type": "display_data"
    }
   ],
   "source": [
    "max_line(y)\n",
    "y_pred = lasso.predict(X_train)\n",
    "test_accuracy(y_train, y_pred)\n",
    "y_pred = lasso.predict(X_test)\n",
    "test_accuracy(y_test, y_pred)"
   ]
  },
  {
   "cell_type": "code",
   "execution_count": 29,
   "metadata": {},
   "outputs": [
    {
     "name": "stdout",
     "output_type": "stream",
     "text": [
      "ошибка текущей модели: 2.158815049607707e-02\n",
      "ошибка текущей модели: 2.063248541001528e-02\n"
     ]
    },
    {
     "name": "stderr",
     "output_type": "stream",
     "text": [
      "/home/vyacheslav/.local/lib/python3.6/site-packages/numpy/core/fromnumeric.py:56: FutureWarning: 'argmax' is deprecated, use 'idxmax' instead. The behavior of 'argmax'\n",
      "will be corrected to return the positional maximum in the future.\n",
      "Use 'series.values.argmax' to get the position of the maximum now.\n",
      "  return getattr(obj, method)(*args, **kwds)\n",
      "/home/vyacheslav/.local/lib/python3.6/site-packages/numpy/core/fromnumeric.py:56: FutureWarning: 'argmin' is deprecated, use 'idxmin' instead. The behavior of 'argmin'\n",
      "will be corrected to return the positional minimum in the future.\n",
      "Use 'series.values.argmin' to get the position of the minimum now.\n",
      "  return getattr(obj, method)(*args, **kwds)\n"
     ]
    },
    {
     "data": {
      "text/plain": [
       "0.020632485410015285"
      ]
     },
     "execution_count": 29,
     "metadata": {},
     "output_type": "execute_result"
    },
    {
     "data": {
      "image/png": "[encoded data removed]",
      "text/plain": [
       "<Figure size 360x360 with 1 Axes>"
      ]
     },
     "metadata": {
      "needs_background": "light"
     },
     "output_type": "display_data"
    }
   ],
   "source": [
    "max_line(y)\n",
    "y_pred = ridge.predict(X_train)\n",
    "test_accuracy(y_train, y_pred)\n",
    "y_pred = ridge.predict(X_test)\n",
    "test_accuracy(y_test, y_pred)"
   ]
  },
  {
   "cell_type": "code",
   "execution_count": 30,
   "metadata": {
    "scrolled": false
   },
   "outputs": [
    {
     "name": "stdout",
     "output_type": "stream",
     "text": [
      "ошибка текущей модели: 2.158815072645974e-02\n",
      "ошибка текущей модели: 2.063248515613731e-02\n"
     ]
    },
    {
     "name": "stderr",
     "output_type": "stream",
     "text": [
      "/home/vyacheslav/.local/lib/python3.6/site-packages/numpy/core/fromnumeric.py:56: FutureWarning: 'argmax' is deprecated, use 'idxmax' instead. The behavior of 'argmax'\n",
      "will be corrected to return the positional maximum in the future.\n",
      "Use 'series.values.argmax' to get the position of the maximum now.\n",
      "  return getattr(obj, method)(*args, **kwds)\n",
      "/home/vyacheslav/.local/lib/python3.6/site-packages/numpy/core/fromnumeric.py:56: FutureWarning: 'argmin' is deprecated, use 'idxmin' instead. The behavior of 'argmin'\n",
      "will be corrected to return the positional minimum in the future.\n",
      "Use 'series.values.argmin' to get the position of the minimum now.\n",
      "  return getattr(obj, method)(*args, **kwds)\n"
     ]
    },
    {
     "data": {
      "text/plain": [
       "0.02063248515613731"
      ]
     },
     "execution_count": 30,
     "metadata": {},
     "output_type": "execute_result"
    },
    {
     "data": {
      "image/png": "[encoded data removed]",
      "text/plain": [
       "<Figure size 360x360 with 1 Axes>"
      ]
     },
     "metadata": {
      "needs_background": "light"
     },
     "output_type": "display_data"
    }
   ],
   "source": [
    "max_line(y)\n",
    "y_pred = linear.predict(X_train)\n",
    "test_accuracy(y_train, y_pred)\n",
    "y_pred = linear.predict(X_test)\n",
    "test_accuracy(y_test, y_pred)"
   ]
  },
  {
   "cell_type": "code",
   "execution_count": 31,
   "metadata": {},
   "outputs": [],
   "source": [
    "net = nn.Sequential(\n",
    "    nn.BatchNorm1d(4),\n",
    "    nn.Linear(4,32),\n",
    "    nn.BatchNorm1d(32),\n",
    "    nn.ReLU(),\n",
    "    nn.Linear(32, 64),\n",
    "    nn.BatchNorm1d(64),\n",
    "    nn.ReLU(),\n",
    "    nn.Linear(64,1)\n",
    ")"
   ]
  },
  {
   "cell_type": "code",
   "execution_count": 32,
   "metadata": {},
   "outputs": [],
   "source": [
    "train_set = MyDataset(train_data=X_train, train_target=y_train)\n",
    "num_epochs = 100\n",
    "batch_size = 16"
   ]
  },
  {
   "cell_type": "code",
   "execution_count": 33,
   "metadata": {},
   "outputs": [
    {
     "name": "stderr",
     "output_type": "stream",
     "text": [
      "/home/vyacheslav/.local/lib/python3.6/site-packages/numpy/core/fromnumeric.py:56: FutureWarning: 'argmax' is deprecated, use 'idxmax' instead. The behavior of 'argmax'\n",
      "will be corrected to return the positional maximum in the future.\n",
      "Use 'series.values.argmax' to get the position of the maximum now.\n",
      "  return getattr(obj, method)(*args, **kwds)\n",
      "/home/vyacheslav/.local/lib/python3.6/site-packages/numpy/core/fromnumeric.py:56: FutureWarning: 'argmin' is deprecated, use 'idxmin' instead. The behavior of 'argmin'\n",
      "will be corrected to return the positional minimum in the future.\n",
      "Use 'series.values.argmin' to get the position of the minimum now.\n",
      "  return getattr(obj, method)(*args, **kwds)\n"
     ]
    },
    {
     "name": "stdout",
     "output_type": "stream",
     "text": [
      "CPU times: user 8.82 s, sys: 41.3 ms, total: 8.86 s\n",
      "Wall time: 1.62 s\n",
      "ошибка текущей модели: 1.923813844127050e-02\n"
     ]
    },
    {
     "data": {
      "text/plain": [
       "0.019238138441270498"
      ]
     },
     "execution_count": 33,
     "metadata": {},
     "output_type": "execute_result"
    },
    {
     "data": {
      "image/png": "[encoded data removed]",
      "text/plain": [
       "<Figure size 360x360 with 1 Axes>"
      ]
     },
     "metadata": {
      "needs_background": "light"
     },
     "output_type": "display_data"
    }
   ],
   "source": [
    "max_line(y)\n",
    "test_model(net, train_set, X_test, y_test, batch_size, num_epochs)"
   ]
  },
  {
   "cell_type": "markdown",
   "metadata": {},
   "source": [
    "# previous day dataset"
   ]
  },
  {
   "cell_type": "code",
   "execution_count": 34,
   "metadata": {},
   "outputs": [
    {
     "name": "stderr",
     "output_type": "stream",
     "text": [
      "/home/vyacheslav/.local/lib/python3.6/site-packages/ipykernel_launcher.py:8: SettingWithCopyWarning: \n",
      "A value is trying to be set on a copy of a slice from a DataFrame\n",
      "\n",
      "See the caveats in the documentation: http://pandas.pydata.org/pandas-docs/stable/indexing.html#indexing-view-versus-copy\n",
      "  \n",
      "/home/vyacheslav/.local/lib/python3.6/site-packages/ipykernel_launcher.py:11: SettingWithCopyWarning: \n",
      "A value is trying to be set on a copy of a slice from a DataFrame\n",
      "\n",
      "See the caveats in the documentation: http://pandas.pydata.org/pandas-docs/stable/indexing.html#indexing-view-versus-copy\n",
      "  # This is added back by InteractiveShellApp.init_path()\n"
     ]
    },
    {
     "data": {
      "text/html": [
       "<div>\n",
       "<style scoped>\n",
       "    .dataframe tbody tr th:only-of-type {\n",
       "        vertical-align: middle;\n",
       "    }\n",
       "\n",
       "    .dataframe tbody tr th {\n",
       "        vertical-align: top;\n",
       "    }\n",
       "\n",
       "    .dataframe thead th {\n",
       "        text-align: right;\n",
       "    }\n",
       "</style>\n",
       "<table border=\"1\" class=\"dataframe\">\n",
       "  <thead>\n",
       "    <tr style=\"text-align: right;\">\n",
       "      <th></th>\n",
       "      <th>TRIMP1</th>\n",
       "      <th>TRIMP2</th>\n",
       "      <th>TRIMP3</th>\n",
       "      <th>TRIMP4</th>\n",
       "      <th>Real_PhC</th>\n",
       "      <th>Prev_PhC</th>\n",
       "    </tr>\n",
       "  </thead>\n",
       "  <tbody>\n",
       "    <tr>\n",
       "      <th>14</th>\n",
       "      <td>809.691</td>\n",
       "      <td>13.2364</td>\n",
       "      <td>1778.61</td>\n",
       "      <td>880.455</td>\n",
       "      <td>0.354685</td>\n",
       "      <td>0.353656</td>\n",
       "    </tr>\n",
       "    <tr>\n",
       "      <th>15</th>\n",
       "      <td>769.12</td>\n",
       "      <td>26.4721</td>\n",
       "      <td>1773.54</td>\n",
       "      <td>887.856</td>\n",
       "      <td>0.330189</td>\n",
       "      <td>0.354685</td>\n",
       "    </tr>\n",
       "    <tr>\n",
       "      <th>17</th>\n",
       "      <td>738.895</td>\n",
       "      <td>1.30417</td>\n",
       "      <td>2444.16</td>\n",
       "      <td>1676.64</td>\n",
       "      <td>0.371243</td>\n",
       "      <td>0.330189</td>\n",
       "    </tr>\n",
       "    <tr>\n",
       "      <th>18</th>\n",
       "      <td>670.607</td>\n",
       "      <td>10.3701</td>\n",
       "      <td>1779.52</td>\n",
       "      <td>877.502</td>\n",
       "      <td>0.319281</td>\n",
       "      <td>0.371243</td>\n",
       "    </tr>\n",
       "    <tr>\n",
       "      <th>19</th>\n",
       "      <td>722.044</td>\n",
       "      <td>51.7193</td>\n",
       "      <td>1776.15</td>\n",
       "      <td>889.079</td>\n",
       "      <td>0.347529</td>\n",
       "      <td>0.319281</td>\n",
       "    </tr>\n",
       "    <tr>\n",
       "      <th>21</th>\n",
       "      <td>812.129</td>\n",
       "      <td>15.1143</td>\n",
       "      <td>2433.37</td>\n",
       "      <td>1713.38</td>\n",
       "      <td>0.367796</td>\n",
       "      <td>0.347529</td>\n",
       "    </tr>\n",
       "    <tr>\n",
       "      <th>22</th>\n",
       "      <td>806.386</td>\n",
       "      <td>40.4501</td>\n",
       "      <td>1772.26</td>\n",
       "      <td>890.899</td>\n",
       "      <td>0.367804</td>\n",
       "      <td>0.367796</td>\n",
       "    </tr>\n",
       "    <tr>\n",
       "      <th>23</th>\n",
       "      <td>766.522</td>\n",
       "      <td>53.6372</td>\n",
       "      <td>1784.37</td>\n",
       "      <td>870.461</td>\n",
       "      <td>0.364584</td>\n",
       "      <td>0.367804</td>\n",
       "    </tr>\n",
       "    <tr>\n",
       "      <th>24</th>\n",
       "      <td>1522.22</td>\n",
       "      <td>190.882</td>\n",
       "      <td>1310.97</td>\n",
       "      <td>582.917</td>\n",
       "      <td>0.354662</td>\n",
       "      <td>0.364584</td>\n",
       "    </tr>\n",
       "    <tr>\n",
       "      <th>25</th>\n",
       "      <td>667.532</td>\n",
       "      <td>174.922</td>\n",
       "      <td>2442.51</td>\n",
       "      <td>1709.02</td>\n",
       "      <td>0.320565</td>\n",
       "      <td>0.354662</td>\n",
       "    </tr>\n",
       "    <tr>\n",
       "      <th>26</th>\n",
       "      <td>805.142</td>\n",
       "      <td>25.5912</td>\n",
       "      <td>1775.4</td>\n",
       "      <td>888.859</td>\n",
       "      <td>0.392411</td>\n",
       "      <td>0.320565</td>\n",
       "    </tr>\n",
       "    <tr>\n",
       "      <th>27</th>\n",
       "      <td>780.252</td>\n",
       "      <td>41.1178</td>\n",
       "      <td>1804.93</td>\n",
       "      <td>840.691</td>\n",
       "      <td>0.376781</td>\n",
       "      <td>0.392411</td>\n",
       "    </tr>\n",
       "    <tr>\n",
       "      <th>29</th>\n",
       "      <td>754.89</td>\n",
       "      <td>4.06347</td>\n",
       "      <td>2433.25</td>\n",
       "      <td>1701.79</td>\n",
       "      <td>0.346427</td>\n",
       "      <td>0.376781</td>\n",
       "    </tr>\n",
       "    <tr>\n",
       "      <th>30</th>\n",
       "      <td>805.487</td>\n",
       "      <td>19.198</td>\n",
       "      <td>1842.64</td>\n",
       "      <td>749.67</td>\n",
       "      <td>0.401156</td>\n",
       "      <td>0.346427</td>\n",
       "    </tr>\n",
       "    <tr>\n",
       "      <th>33</th>\n",
       "      <td>710.089</td>\n",
       "      <td>18.3074</td>\n",
       "      <td>2440.27</td>\n",
       "      <td>1706.33</td>\n",
       "      <td>0.321485</td>\n",
       "      <td>0.401156</td>\n",
       "    </tr>\n",
       "  </tbody>\n",
       "</table>\n",
       "</div>"
      ],
      "text/plain": [
       "     TRIMP1   TRIMP2   TRIMP3   TRIMP4  Real_PhC  Prev_PhC\n",
       "14  809.691  13.2364  1778.61  880.455  0.354685  0.353656\n",
       "15   769.12  26.4721  1773.54  887.856  0.330189  0.354685\n",
       "17  738.895  1.30417  2444.16  1676.64  0.371243  0.330189\n",
       "18  670.607  10.3701  1779.52  877.502  0.319281  0.371243\n",
       "19  722.044  51.7193  1776.15  889.079  0.347529  0.319281\n",
       "21  812.129  15.1143  2433.37  1713.38  0.367796  0.347529\n",
       "22  806.386  40.4501  1772.26  890.899  0.367804  0.367796\n",
       "23  766.522  53.6372  1784.37  870.461  0.364584  0.367804\n",
       "24  1522.22  190.882  1310.97  582.917  0.354662  0.364584\n",
       "25  667.532  174.922  2442.51  1709.02  0.320565  0.354662\n",
       "26  805.142  25.5912   1775.4  888.859  0.392411  0.320565\n",
       "27  780.252  41.1178  1804.93  840.691  0.376781  0.392411\n",
       "29   754.89  4.06347  2433.25  1701.79  0.346427  0.376781\n",
       "30  805.487   19.198  1842.64   749.67  0.401156  0.346427\n",
       "33  710.089  18.3074  2440.27  1706.33  0.321485  0.401156"
      ]
     },
     "execution_count": 34,
     "metadata": {},
     "output_type": "execute_result"
    }
   ],
   "source": [
    "main_features1 = init_data1.drop(columns=['Forecast', 'day number', 'Speed','Heart rate','Load','Avg PhC 9days', 'Avg PhC 3days',\n",
    "'Avg Forecast 3 days','Unnamed: 13','Unnamed: 14','Unnamed: 15', 'Unnamed: 16', 'Unnamed: 17', 'Unnamed: 18', \n",
    "                        'Unnamed: 19'], axis=0)\n",
    "main_features1.drop(labels=range(11), inplace=True)\n",
    "main_features1.dropna(inplace=True)\n",
    "\n",
    "main_features1['Real_PhC'] = np.zeros(main_features1.shape[0])\n",
    "main_features1['Real_PhC'][1:-1:1] = main_features1['Physiological Cost (PhC)'][0:-2:1]\n",
    "\n",
    "main_features1['Prev_PhC'] = np.zeros(main_features1.shape[0])\n",
    "main_features1['Prev_PhC'][1:-1:1] = main_features1['Real_PhC'][0:-2:1]\n",
    "\n",
    "main_features1.drop(index=main_features1.index[main_features1['Real_PhC'] == 0], inplace=True)\n",
    "\n",
    "main_features1.drop(index=main_features1.index[0:2], inplace=True)\n",
    "main_features1.drop(columns=['Physiological Cost (PhC)'], inplace=True)\n",
    "main_features1.head(15)"
   ]
  },
  {
   "cell_type": "code",
   "execution_count": 35,
   "metadata": {},
   "outputs": [],
   "source": [
    "X = main_features1.drop(columns=['Real_PhC'])\n",
    "y = main_features1['Real_PhC'].copy()\n",
    "X_train, X_test, y_train, y_test = train_test_split(X, y, test_size=0.20, random_state=42, shuffle=True)"
   ]
  },
  {
   "cell_type": "code",
   "execution_count": 36,
   "metadata": {},
   "outputs": [],
   "source": [
    "lasso = Lasso(random_state=42)\n",
    "ridge = Ridge(random_state=42)\n",
    "linear = LinearRegression()\n",
    "tree = DecisionTreeRegressor(criterion='mae', random_state=42)\n",
    "tree.fit(X_train, y_train)\n",
    "lasso = lasso.fit(X_train, y_train)\n",
    "ridge = ridge.fit(X_train, y_train)\n",
    "linear = linear.fit(X_train, y_train)"
   ]
  },
  {
   "cell_type": "code",
   "execution_count": 37,
   "metadata": {},
   "outputs": [
    {
     "name": "stdout",
     "output_type": "stream",
     "text": [
      "ошибка текущей модели: 0.000000000000000e+00\n",
      "ошибка текущей модели: 1.950460319999999e-02\n"
     ]
    },
    {
     "name": "stderr",
     "output_type": "stream",
     "text": [
      "/home/vyacheslav/.local/lib/python3.6/site-packages/numpy/core/fromnumeric.py:56: FutureWarning: 'argmax' is deprecated, use 'idxmax' instead. The behavior of 'argmax'\n",
      "will be corrected to return the positional maximum in the future.\n",
      "Use 'series.values.argmax' to get the position of the maximum now.\n",
      "  return getattr(obj, method)(*args, **kwds)\n",
      "/home/vyacheslav/.local/lib/python3.6/site-packages/numpy/core/fromnumeric.py:56: FutureWarning: 'argmin' is deprecated, use 'idxmin' instead. The behavior of 'argmin'\n",
      "will be corrected to return the positional minimum in the future.\n",
      "Use 'series.values.argmin' to get the position of the minimum now.\n",
      "  return getattr(obj, method)(*args, **kwds)\n"
     ]
    },
    {
     "data": {
      "text/plain": [
       "0.019504603199999995"
      ]
     },
     "execution_count": 37,
     "metadata": {},
     "output_type": "execute_result"
    },
    {
     "data": {
      "image/png": "[encoded data removed]",
      "text/plain": [
       "<Figure size 360x360 with 1 Axes>"
      ]
     },
     "metadata": {
      "needs_background": "light"
     },
     "output_type": "display_data"
    }
   ],
   "source": [
    "max_line(y)\n",
    "y_pred = tree.predict(X_train)\n",
    "test_accuracy(y_train, y_pred)\n",
    "y_pred = tree.predict(X_test)\n",
    "test_accuracy(y_test, y_pred)"
   ]
  },
  {
   "cell_type": "code",
   "execution_count": 38,
   "metadata": {},
   "outputs": [
    {
     "name": "stdout",
     "output_type": "stream",
     "text": [
      "ошибка текущей модели: 1.959286098378393e-02\n",
      "ошибка текущей модели: 1.823820149078616e-02\n"
     ]
    },
    {
     "name": "stderr",
     "output_type": "stream",
     "text": [
      "/home/vyacheslav/.local/lib/python3.6/site-packages/numpy/core/fromnumeric.py:56: FutureWarning: 'argmax' is deprecated, use 'idxmax' instead. The behavior of 'argmax'\n",
      "will be corrected to return the positional maximum in the future.\n",
      "Use 'series.values.argmax' to get the position of the maximum now.\n",
      "  return getattr(obj, method)(*args, **kwds)\n",
      "/home/vyacheslav/.local/lib/python3.6/site-packages/numpy/core/fromnumeric.py:56: FutureWarning: 'argmin' is deprecated, use 'idxmin' instead. The behavior of 'argmin'\n",
      "will be corrected to return the positional minimum in the future.\n",
      "Use 'series.values.argmin' to get the position of the minimum now.\n",
      "  return getattr(obj, method)(*args, **kwds)\n"
     ]
    },
    {
     "data": {
      "text/plain": [
       "0.018238201490786164"
      ]
     },
     "execution_count": 38,
     "metadata": {},
     "output_type": "execute_result"
    },
    {
     "data": {
      "image/png": "[encoded data removed]",
      "text/plain": [
       "<Figure size 360x360 with 1 Axes>"
      ]
     },
     "metadata": {
      "needs_background": "light"
     },
     "output_type": "display_data"
    }
   ],
   "source": [
    "max_line(y)\n",
    "y_pred = lasso.predict(X_train)\n",
    "test_accuracy(y_train, y_pred)\n",
    "y_pred = lasso.predict(X_test)\n",
    "test_accuracy(y_test, y_pred)"
   ]
  },
  {
   "cell_type": "code",
   "execution_count": 39,
   "metadata": {},
   "outputs": [
    {
     "name": "stdout",
     "output_type": "stream",
     "text": [
      "ошибка текущей модели: 1.904553651910265e-02\n",
      "ошибка текущей модели: 1.641612094245345e-02\n"
     ]
    },
    {
     "name": "stderr",
     "output_type": "stream",
     "text": [
      "/home/vyacheslav/.local/lib/python3.6/site-packages/numpy/core/fromnumeric.py:56: FutureWarning: 'argmax' is deprecated, use 'idxmax' instead. The behavior of 'argmax'\n",
      "will be corrected to return the positional maximum in the future.\n",
      "Use 'series.values.argmax' to get the position of the maximum now.\n",
      "  return getattr(obj, method)(*args, **kwds)\n",
      "/home/vyacheslav/.local/lib/python3.6/site-packages/numpy/core/fromnumeric.py:56: FutureWarning: 'argmin' is deprecated, use 'idxmin' instead. The behavior of 'argmin'\n",
      "will be corrected to return the positional minimum in the future.\n",
      "Use 'series.values.argmin' to get the position of the minimum now.\n",
      "  return getattr(obj, method)(*args, **kwds)\n"
     ]
    },
    {
     "data": {
      "text/plain": [
       "0.016416120942453448"
      ]
     },
     "execution_count": 39,
     "metadata": {},
     "output_type": "execute_result"
    },
    {
     "data": {
      "image/png": "[encoded data removed]",
      "text/plain": [
       "<Figure size 360x360 with 1 Axes>"
      ]
     },
     "metadata": {
      "needs_background": "light"
     },
     "output_type": "display_data"
    }
   ],
   "source": [
    "max_line(y)\n",
    "y_pred = ridge.predict(X_train)\n",
    "test_accuracy(y_train, y_pred)\n",
    "y_pred = ridge.predict(X_test)\n",
    "test_accuracy(y_test, y_pred)"
   ]
  },
  {
   "cell_type": "code",
   "execution_count": 40,
   "metadata": {},
   "outputs": [
    {
     "name": "stdout",
     "output_type": "stream",
     "text": [
      "ошибка текущей модели: 1.905693362271197e-02\n",
      "ошибка текущей модели: 1.693532081614410e-02\n"
     ]
    },
    {
     "name": "stderr",
     "output_type": "stream",
     "text": [
      "/home/vyacheslav/.local/lib/python3.6/site-packages/numpy/core/fromnumeric.py:56: FutureWarning: 'argmax' is deprecated, use 'idxmax' instead. The behavior of 'argmax'\n",
      "will be corrected to return the positional maximum in the future.\n",
      "Use 'series.values.argmax' to get the position of the maximum now.\n",
      "  return getattr(obj, method)(*args, **kwds)\n",
      "/home/vyacheslav/.local/lib/python3.6/site-packages/numpy/core/fromnumeric.py:56: FutureWarning: 'argmin' is deprecated, use 'idxmin' instead. The behavior of 'argmin'\n",
      "will be corrected to return the positional minimum in the future.\n",
      "Use 'series.values.argmin' to get the position of the minimum now.\n",
      "  return getattr(obj, method)(*args, **kwds)\n"
     ]
    },
    {
     "data": {
      "text/plain": [
       "0.016935320816144104"
      ]
     },
     "execution_count": 40,
     "metadata": {},
     "output_type": "execute_result"
    },
    {
     "data": {
      "image/png": "[encoded data removed]",
      "text/plain": [
       "<Figure size 360x360 with 1 Axes>"
      ]
     },
     "metadata": {
      "needs_background": "light"
     },
     "output_type": "display_data"
    }
   ],
   "source": [
    "max_line(y)\n",
    "y_pred = linear.predict(X_train)\n",
    "test_accuracy(y_train, y_pred)\n",
    "y_pred = linear.predict(X_test)\n",
    "test_accuracy(y_test, y_pred)"
   ]
  },
  {
   "cell_type": "code",
   "execution_count": 41,
   "metadata": {},
   "outputs": [],
   "source": [
    "net = nn.Sequential(\n",
    "    nn.BatchNorm1d(5),\n",
    "    nn.Linear(5,32),\n",
    "    nn.BatchNorm1d(32),\n",
    "    nn.ReLU(),\n",
    "    nn.Linear(32, 64),\n",
    "    nn.BatchNorm1d(64),\n",
    "    nn.ReLU(),\n",
    "    nn.Linear(64,1)\n",
    ")"
   ]
  },
  {
   "cell_type": "code",
   "execution_count": 42,
   "metadata": {
    "scrolled": false
   },
   "outputs": [
    {
     "name": "stderr",
     "output_type": "stream",
     "text": [
      "/home/vyacheslav/.local/lib/python3.6/site-packages/numpy/core/fromnumeric.py:56: FutureWarning: 'argmax' is deprecated, use 'idxmax' instead. The behavior of 'argmax'\n",
      "will be corrected to return the positional maximum in the future.\n",
      "Use 'series.values.argmax' to get the position of the maximum now.\n",
      "  return getattr(obj, method)(*args, **kwds)\n",
      "/home/vyacheslav/.local/lib/python3.6/site-packages/numpy/core/fromnumeric.py:56: FutureWarning: 'argmin' is deprecated, use 'idxmin' instead. The behavior of 'argmin'\n",
      "will be corrected to return the positional minimum in the future.\n",
      "Use 'series.values.argmin' to get the position of the minimum now.\n",
      "  return getattr(obj, method)(*args, **kwds)\n"
     ]
    },
    {
     "name": "stdout",
     "output_type": "stream",
     "text": [
      "CPU times: user 11 s, sys: 52.8 ms, total: 11 s\n",
      "Wall time: 2 s\n",
      "ошибка текущей модели: 2.584051136009293e-02\n"
     ]
    },
    {
     "data": {
      "text/plain": [
       "0.025840511360092928"
      ]
     },
     "execution_count": 42,
     "metadata": {},
     "output_type": "execute_result"
    },
    {
     "data": {
      "image/png": "[encoded data removed]",
      "text/plain": [
       "<Figure size 360x360 with 1 Axes>"
      ]
     },
     "metadata": {
      "needs_background": "light"
     },
     "output_type": "display_data"
    }
   ],
   "source": [
    "max_line(y)\n",
    "train_set = MyDataset(train_data=X_train, train_target=y_train)\n",
    "test_model(net, train_set, X_test, y_test, batch_size, num_epochs)"
   ]
  },
  {
   "cell_type": "markdown",
   "metadata": {},
   "source": [
    "# Cycle days dataset\n"
   ]
  },
  {
   "cell_type": "code",
   "execution_count": 43,
   "metadata": {
    "scrolled": true
   },
   "outputs": [
    {
     "name": "stdout",
     "output_type": "stream",
     "text": [
      "(83, 8)\n"
     ]
    },
    {
     "data": {
      "text/html": [
       "<div>\n",
       "<style scoped>\n",
       "    .dataframe tbody tr th:only-of-type {\n",
       "        vertical-align: middle;\n",
       "    }\n",
       "\n",
       "    .dataframe tbody tr th {\n",
       "        vertical-align: top;\n",
       "    }\n",
       "\n",
       "    .dataframe thead th {\n",
       "        text-align: right;\n",
       "    }\n",
       "</style>\n",
       "<table border=\"1\" class=\"dataframe\">\n",
       "  <thead>\n",
       "    <tr style=\"text-align: right;\">\n",
       "      <th></th>\n",
       "      <th>t1(passive,slow)</th>\n",
       "      <th>t2(passive,fast)</th>\n",
       "      <th>t3(active,slow)</th>\n",
       "      <th>t4(active,fast)</th>\n",
       "      <th>Real_PhC</th>\n",
       "      <th>cyc_day_1</th>\n",
       "      <th>cyc_day_2</th>\n",
       "      <th>cyc_day_3</th>\n",
       "    </tr>\n",
       "  </thead>\n",
       "  <tbody>\n",
       "    <tr>\n",
       "      <th>33</th>\n",
       "      <td>621.926554</td>\n",
       "      <td>53.072229</td>\n",
       "      <td>1984.432684</td>\n",
       "      <td>1712.556739</td>\n",
       "      <td>0.372696</td>\n",
       "      <td>0.0</td>\n",
       "      <td>1.0</td>\n",
       "      <td>0.0</td>\n",
       "    </tr>\n",
       "    <tr>\n",
       "      <th>34</th>\n",
       "      <td>811.103615</td>\n",
       "      <td>22.553583</td>\n",
       "      <td>1316.121691</td>\n",
       "      <td>890.204572</td>\n",
       "      <td>0.474150</td>\n",
       "      <td>0.0</td>\n",
       "      <td>0.0</td>\n",
       "      <td>1.0</td>\n",
       "    </tr>\n",
       "    <tr>\n",
       "      <th>35</th>\n",
       "      <td>1440.247939</td>\n",
       "      <td>460.742262</td>\n",
       "      <td>906.896449</td>\n",
       "      <td>587.109338</td>\n",
       "      <td>0.446676</td>\n",
       "      <td>1.0</td>\n",
       "      <td>0.0</td>\n",
       "      <td>0.0</td>\n",
       "    </tr>\n",
       "    <tr>\n",
       "      <th>37</th>\n",
       "      <td>721.064555</td>\n",
       "      <td>115.665511</td>\n",
       "      <td>1315.034756</td>\n",
       "      <td>895.210557</td>\n",
       "      <td>0.462178</td>\n",
       "      <td>0.0</td>\n",
       "      <td>0.0</td>\n",
       "      <td>1.0</td>\n",
       "    </tr>\n",
       "    <tr>\n",
       "      <th>39</th>\n",
       "      <td>480.045496</td>\n",
       "      <td>219.343924</td>\n",
       "      <td>2001.282949</td>\n",
       "      <td>1678.310272</td>\n",
       "      <td>0.439352</td>\n",
       "      <td>0.0</td>\n",
       "      <td>1.0</td>\n",
       "      <td>0.0</td>\n",
       "    </tr>\n",
       "    <tr>\n",
       "      <th>40</th>\n",
       "      <td>560.373593</td>\n",
       "      <td>311.105758</td>\n",
       "      <td>1319.198824</td>\n",
       "      <td>887.306780</td>\n",
       "      <td>0.443918</td>\n",
       "      <td>0.0</td>\n",
       "      <td>0.0</td>\n",
       "      <td>1.0</td>\n",
       "    </tr>\n",
       "    <tr>\n",
       "      <th>41</th>\n",
       "      <td>1097.596709</td>\n",
       "      <td>881.267415</td>\n",
       "      <td>911.701334</td>\n",
       "      <td>585.403947</td>\n",
       "      <td>0.480746</td>\n",
       "      <td>1.0</td>\n",
       "      <td>0.0</td>\n",
       "      <td>0.0</td>\n",
       "    </tr>\n",
       "    <tr>\n",
       "      <th>42</th>\n",
       "      <td>527.184820</td>\n",
       "      <td>166.336664</td>\n",
       "      <td>1975.086037</td>\n",
       "      <td>1711.362546</td>\n",
       "      <td>0.458545</td>\n",
       "      <td>0.0</td>\n",
       "      <td>1.0</td>\n",
       "      <td>0.0</td>\n",
       "    </tr>\n",
       "    <tr>\n",
       "      <th>43</th>\n",
       "      <td>694.813064</td>\n",
       "      <td>158.436406</td>\n",
       "      <td>1313.837434</td>\n",
       "      <td>891.898987</td>\n",
       "      <td>0.440613</td>\n",
       "      <td>0.0</td>\n",
       "      <td>0.0</td>\n",
       "      <td>1.0</td>\n",
       "    </tr>\n",
       "    <tr>\n",
       "      <th>44</th>\n",
       "      <td>754.286057</td>\n",
       "      <td>222.693012</td>\n",
       "      <td>1039.998877</td>\n",
       "      <td>0.000000</td>\n",
       "      <td>0.497432</td>\n",
       "      <td>1.0</td>\n",
       "      <td>0.0</td>\n",
       "      <td>0.0</td>\n",
       "    </tr>\n",
       "  </tbody>\n",
       "</table>\n",
       "</div>"
      ],
      "text/plain": [
       "    t1(passive,slow)  t2(passive,fast)  t3(active,slow)  t4(active,fast)  \\\n",
       "33        621.926554         53.072229      1984.432684      1712.556739   \n",
       "34        811.103615         22.553583      1316.121691       890.204572   \n",
       "35       1440.247939        460.742262       906.896449       587.109338   \n",
       "37        721.064555        115.665511      1315.034756       895.210557   \n",
       "39        480.045496        219.343924      2001.282949      1678.310272   \n",
       "40        560.373593        311.105758      1319.198824       887.306780   \n",
       "41       1097.596709        881.267415       911.701334       585.403947   \n",
       "42        527.184820        166.336664      1975.086037      1711.362546   \n",
       "43        694.813064        158.436406      1313.837434       891.898987   \n",
       "44        754.286057        222.693012      1039.998877         0.000000   \n",
       "\n",
       "    Real_PhC  cyc_day_1  cyc_day_2  cyc_day_3  \n",
       "33  0.372696        0.0        1.0        0.0  \n",
       "34  0.474150        0.0        0.0        1.0  \n",
       "35  0.446676        1.0        0.0        0.0  \n",
       "37  0.462178        0.0        0.0        1.0  \n",
       "39  0.439352        0.0        1.0        0.0  \n",
       "40  0.443918        0.0        0.0        1.0  \n",
       "41  0.480746        1.0        0.0        0.0  \n",
       "42  0.458545        0.0        1.0        0.0  \n",
       "43  0.440613        0.0        0.0        1.0  \n",
       "44  0.497432        1.0        0.0        0.0  "
      ]
     },
     "execution_count": 43,
     "metadata": {},
     "output_type": "execute_result"
    }
   ],
   "source": [
    "main_features3 = init_data3.copy()\n",
    "for col in main_features3:\n",
    "    if (col != 'PhC') & (col[0] != 't'):\n",
    "        main_features3.drop(columns=[col], inplace=True)\n",
    "        \n",
    "main_features3['Real_PhC'] = np.zeros(main_features3.shape[0])\n",
    "main_features3['Real_PhC'][1:-1:1] = main_features3['PhC'][0:-2:1]\n",
    "main_features3.drop(columns=['PhC'], inplace=True)\n",
    "\n",
    "main_features3[\"Cycle\"] = init_data2['Unnamed: 1']\n",
    "main_features3[\"cyc_day\"] = init_data3['Unnamed: 2'] // 100 + 1\n",
    "\n",
    "main_features3[\"cyc_day_1\"] = np.zeros(main_features3.shape[0])\n",
    "main_features3[\"cyc_day_2\"] = np.zeros(main_features3.shape[0])\n",
    "main_features3[\"cyc_day_3\"] = np.zeros(main_features3.shape[0])\n",
    "\n",
    "for i in main_features3.index:\n",
    "    if not np.isnan(main_features3[\"cyc_day\"][i]):\n",
    "        main_features3[\"cyc_day_\"+str(int(main_features3[\"cyc_day\"][i]))][i] = 1\n",
    "\n",
    "main_features3.dropna(inplace=True)\n",
    "\n",
    "# for i in range(main_features3.shape[0]): запустить на полных циклах\n",
    "    \n",
    "\n",
    "main_features3.drop(columns=['Cycle', 'cyc_day'], inplace=True)\n",
    "\n",
    "print(main_features3.shape)\n",
    "main_features3.head(10)"
   ]
  },
  {
   "cell_type": "code",
   "execution_count": 44,
   "metadata": {},
   "outputs": [],
   "source": [
    "X = main_features3.drop(columns=['Real_PhC'])\n",
    "y = main_features3['Real_PhC'].copy()\n",
    "X_train, X_test, y_train, y_test = train_test_split(X, y, test_size=0.20, random_state=42, shuffle=True)"
   ]
  },
  {
   "cell_type": "code",
   "execution_count": 45,
   "metadata": {},
   "outputs": [],
   "source": [
    "lasso = Lasso(random_state=42)\n",
    "ridge = Ridge(random_state=42)\n",
    "linear = LinearRegression()\n",
    "tree = DecisionTreeRegressor(criterion='mae', random_state=42)\n",
    "tree.fit(X_train, y_train)\n",
    "lasso = lasso.fit(X_train, y_train)\n",
    "ridge = ridge.fit(X_train, y_train)\n",
    "linear = linear.fit(X_train, y_train)"
   ]
  },
  {
   "cell_type": "code",
   "execution_count": 46,
   "metadata": {},
   "outputs": [
    {
     "name": "stdout",
     "output_type": "stream",
     "text": [
      "ошибка текущей модели: 0.000000000000000e+00\n",
      "ошибка текущей модели: 4.485633280370966e-02\n"
     ]
    },
    {
     "name": "stderr",
     "output_type": "stream",
     "text": [
      "/home/vyacheslav/.local/lib/python3.6/site-packages/numpy/core/fromnumeric.py:56: FutureWarning: 'argmax' is deprecated, use 'idxmax' instead. The behavior of 'argmax'\n",
      "will be corrected to return the positional maximum in the future.\n",
      "Use 'series.values.argmax' to get the position of the maximum now.\n",
      "  return getattr(obj, method)(*args, **kwds)\n",
      "/home/vyacheslav/.local/lib/python3.6/site-packages/numpy/core/fromnumeric.py:56: FutureWarning: 'argmin' is deprecated, use 'idxmin' instead. The behavior of 'argmin'\n",
      "will be corrected to return the positional minimum in the future.\n",
      "Use 'series.values.argmin' to get the position of the minimum now.\n",
      "  return getattr(obj, method)(*args, **kwds)\n"
     ]
    },
    {
     "data": {
      "text/plain": [
       "0.04485633280370966"
      ]
     },
     "execution_count": 46,
     "metadata": {},
     "output_type": "execute_result"
    },
    {
     "data": {
      "image/png": "[encoded data removed]",
      "text/plain": [
       "<Figure size 360x360 with 1 Axes>"
      ]
     },
     "metadata": {
      "needs_background": "light"
     },
     "output_type": "display_data"
    }
   ],
   "source": [
    "max_line(y)\n",
    "y_pred = tree.predict(X_train)\n",
    "test_accuracy(y_train, y_pred)\n",
    "y_pred = tree.predict(X_test)\n",
    "test_accuracy(y_test, y_pred)"
   ]
  },
  {
   "cell_type": "code",
   "execution_count": 47,
   "metadata": {},
   "outputs": [
    {
     "name": "stdout",
     "output_type": "stream",
     "text": [
      "ошибка текущей модели: 2.835454919898081e-02\n",
      "ошибка текущей модели: 3.105799031357311e-02\n"
     ]
    },
    {
     "name": "stderr",
     "output_type": "stream",
     "text": [
      "/home/vyacheslav/.local/lib/python3.6/site-packages/numpy/core/fromnumeric.py:56: FutureWarning: 'argmax' is deprecated, use 'idxmax' instead. The behavior of 'argmax'\n",
      "will be corrected to return the positional maximum in the future.\n",
      "Use 'series.values.argmax' to get the position of the maximum now.\n",
      "  return getattr(obj, method)(*args, **kwds)\n",
      "/home/vyacheslav/.local/lib/python3.6/site-packages/numpy/core/fromnumeric.py:56: FutureWarning: 'argmin' is deprecated, use 'idxmin' instead. The behavior of 'argmin'\n",
      "will be corrected to return the positional minimum in the future.\n",
      "Use 'series.values.argmin' to get the position of the minimum now.\n",
      "  return getattr(obj, method)(*args, **kwds)\n"
     ]
    },
    {
     "data": {
      "text/plain": [
       "0.03105799031357311"
      ]
     },
     "execution_count": 47,
     "metadata": {},
     "output_type": "execute_result"
    },
    {
     "data": {
      "image/png": "[encoded data removed]",
      "text/plain": [
       "<Figure size 360x360 with 1 Axes>"
      ]
     },
     "metadata": {
      "needs_background": "light"
     },
     "output_type": "display_data"
    }
   ],
   "source": [
    "max_line(y)\n",
    "y_pred = lasso.predict(X_train)\n",
    "test_accuracy(y_train, y_pred)\n",
    "y_pred = lasso.predict(X_test)\n",
    "test_accuracy(y_test, y_pred)"
   ]
  },
  {
   "cell_type": "code",
   "execution_count": 48,
   "metadata": {},
   "outputs": [
    {
     "name": "stdout",
     "output_type": "stream",
     "text": [
      "ошибка текущей модели: 2.702585580922578e-02\n",
      "ошибка текущей модели: 3.510950650169641e-02\n"
     ]
    },
    {
     "name": "stderr",
     "output_type": "stream",
     "text": [
      "/home/vyacheslav/.local/lib/python3.6/site-packages/numpy/core/fromnumeric.py:56: FutureWarning: 'argmax' is deprecated, use 'idxmax' instead. The behavior of 'argmax'\n",
      "will be corrected to return the positional maximum in the future.\n",
      "Use 'series.values.argmax' to get the position of the maximum now.\n",
      "  return getattr(obj, method)(*args, **kwds)\n",
      "/home/vyacheslav/.local/lib/python3.6/site-packages/numpy/core/fromnumeric.py:56: FutureWarning: 'argmin' is deprecated, use 'idxmin' instead. The behavior of 'argmin'\n",
      "will be corrected to return the positional minimum in the future.\n",
      "Use 'series.values.argmin' to get the position of the minimum now.\n",
      "  return getattr(obj, method)(*args, **kwds)\n"
     ]
    },
    {
     "data": {
      "text/plain": [
       "0.03510950650169641"
      ]
     },
     "execution_count": 48,
     "metadata": {},
     "output_type": "execute_result"
    },
    {
     "data": {
      "image/png": "[encoded data removed]",
      "text/plain": [
       "<Figure size 360x360 with 1 Axes>"
      ]
     },
     "metadata": {
      "needs_background": "light"
     },
     "output_type": "display_data"
    }
   ],
   "source": [
    "max_line(y)\n",
    "y_pred = ridge.predict(X_train)\n",
    "test_accuracy(y_train, y_pred)\n",
    "y_pred = ridge.predict(X_test)\n",
    "test_accuracy(y_test, y_pred)"
   ]
  },
  {
   "cell_type": "code",
   "execution_count": 50,
   "metadata": {},
   "outputs": [
    {
     "name": "stdout",
     "output_type": "stream",
     "text": [
      "ошибка текущей модели: 2.700741701183477e-02\n",
      "ошибка текущей модели: 3.524515697391927e-02\n"
     ]
    },
    {
     "name": "stderr",
     "output_type": "stream",
     "text": [
      "/home/vyacheslav/.local/lib/python3.6/site-packages/numpy/core/fromnumeric.py:56: FutureWarning: 'argmax' is deprecated, use 'idxmax' instead. The behavior of 'argmax'\n",
      "will be corrected to return the positional maximum in the future.\n",
      "Use 'series.values.argmax' to get the position of the maximum now.\n",
      "  return getattr(obj, method)(*args, **kwds)\n",
      "/home/vyacheslav/.local/lib/python3.6/site-packages/numpy/core/fromnumeric.py:56: FutureWarning: 'argmin' is deprecated, use 'idxmin' instead. The behavior of 'argmin'\n",
      "will be corrected to return the positional minimum in the future.\n",
      "Use 'series.values.argmin' to get the position of the minimum now.\n",
      "  return getattr(obj, method)(*args, **kwds)\n"
     ]
    },
    {
     "data": {
      "text/plain": [
       "0.03524515697391927"
      ]
     },
     "execution_count": 50,
     "metadata": {},
     "output_type": "execute_result"
    },
    {
     "data": {
      "image/png": "[encoded data removed]",
      "text/plain": [
       "<Figure size 360x360 with 1 Axes>"
      ]
     },
     "metadata": {
      "needs_background": "light"
     },
     "output_type": "display_data"
    }
   ],
   "source": [
    "max_line(y)\n",
    "y_pred = linear.predict(X_train)\n",
    "test_accuracy(y_train, y_pred)\n",
    "y_pred = linear.predict(X_test)\n",
    "test_accuracy(y_test, y_pred)"
   ]
  },
  {
   "cell_type": "code",
   "execution_count": 51,
   "metadata": {},
   "outputs": [],
   "source": [
    "net = nn.Sequential(\n",
    "    nn.BatchNorm1d(7),\n",
    "    nn.Linear(7,32),\n",
    "    nn.BatchNorm1d(32),\n",
    "    nn.ReLU(),\n",
    "    nn.Linear(32, 64),\n",
    "    nn.BatchNorm1d(64),\n",
    "    nn.ReLU(),\n",
    "    nn.Linear(64,1)\n",
    ")"
   ]
  },
  {
   "cell_type": "code",
   "execution_count": 52,
   "metadata": {
    "scrolled": false
   },
   "outputs": [
    {
     "name": "stderr",
     "output_type": "stream",
     "text": [
      "/home/vyacheslav/.local/lib/python3.6/site-packages/numpy/core/fromnumeric.py:56: FutureWarning: 'argmax' is deprecated, use 'idxmax' instead. The behavior of 'argmax'\n",
      "will be corrected to return the positional maximum in the future.\n",
      "Use 'series.values.argmax' to get the position of the maximum now.\n",
      "  return getattr(obj, method)(*args, **kwds)\n",
      "/home/vyacheslav/.local/lib/python3.6/site-packages/numpy/core/fromnumeric.py:56: FutureWarning: 'argmin' is deprecated, use 'idxmin' instead. The behavior of 'argmin'\n",
      "will be corrected to return the positional minimum in the future.\n",
      "Use 'series.values.argmin' to get the position of the minimum now.\n",
      "  return getattr(obj, method)(*args, **kwds)\n"
     ]
    },
    {
     "name": "stdout",
     "output_type": "stream",
     "text": [
      "CPU times: user 11 s, sys: 88 ms, total: 11.1 s\n",
      "Wall time: 2.07 s\n",
      "ошибка текущей модели: 3.829193824089466e-02\n"
     ]
    },
    {
     "data": {
      "text/plain": [
       "0.03829193824089466"
      ]
     },
     "execution_count": 52,
     "metadata": {},
     "output_type": "execute_result"
    },
    {
     "data": {
      "image/png": "[encoded data removed]",
      "text/plain": [
       "<Figure size 360x360 with 1 Axes>"
      ]
     },
     "metadata": {
      "needs_background": "light"
     },
     "output_type": "display_data"
    }
   ],
   "source": [
    "max_line(y)\n",
    "train_set = MyDataset(train_data=X_train, train_target=y_train)\n",
    "test_model(net, train_set, X_test, y_test, batch_size, num_epochs)"
   ]
  }
 ],
 "metadata": {
  "kernelspec": {
   "display_name": "Python 3",
   "language": "python",
   "name": "python3"
  },
  "language_info": {
   "codemirror_mode": {
    "name": "ipython",
    "version": 3
   },
   "file_extension": ".py",
   "mimetype": "text/x-python",
   "name": "python",
   "nbconvert_exporter": "python",
   "pygments_lexer": "ipython3",
   "version": "3.6.9"
  }
 },
 "nbformat": 4,
 "nbformat_minor": 2
}
