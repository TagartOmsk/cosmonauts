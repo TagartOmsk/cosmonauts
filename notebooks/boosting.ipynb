{
 "cells": [
  {
   "cell_type": "code",
   "execution_count": 1,
   "metadata": {},
   "outputs": [],
   "source": [
    "from sklearn.tree import DecisionTreeRegressor\n",
    "from sklearn.linear_model import LinearRegression\n",
    "from sklearn.model_selection import train_test_split\n",
    "from sklearn.metrics import r2_score\n",
    "\n",
    "import pandas as pd\n",
    "import numpy as np\n",
    "import seaborn as sns\n",
    "from matplotlib import pyplot as plt\n",
    "from pprint import pprint"
   ]
  },
  {
   "cell_type": "code",
   "execution_count": 2,
   "metadata": {},
   "outputs": [],
   "source": [
    "def load_artembev():\n",
    "    res = pd.read_excel('../data/1Artembev_PhC_sport_and_tripms.xls', header=0)\n",
    "    res = res[['Physiological Cost (PhC)', 'TRIMP1', 'TRIMP2', 'TRIMP3', 'TRIMP4']]\n",
    "    res['PhC'] = res['Physiological Cost (PhC)']\n",
    "    res.drop(columns=[\"Physiological Cost (PhC)\"], inplace=True)\n",
    "    return res[11::]"
   ]
  },
  {
   "cell_type": "code",
   "execution_count": 3,
   "metadata": {},
   "outputs": [],
   "source": [
    "def load_others():\n",
    "    columns_to_remain = ['PhC', \"t1(passive,slow)\", \"t2(passive,fast)\", \"t3(active,slow)\", 't4(active,fast)']\n",
    "    prokopbev = pd.read_excel('../data/2Prokopbev_PhC_sport_and_tripms.xls', header=0)\n",
    "    prokopbev = prokopbev[columns_to_remain]\n",
    "    prokopbev['TRIMP1'] = prokopbev[\"t1(passive,slow)\"]\n",
    "    prokopbev['TRIMP2'] = prokopbev[\"t2(passive,fast)\"]\n",
    "    prokopbev['TRIMP3'] = prokopbev[\"t3(active,slow)\"]\n",
    "    prokopbev['TRIMP4'] = prokopbev['t4(active,fast)']\n",
    "    volkov = pd.read_excel('../data/3Volkov_PhC_sport_and_tripms.xls', header=0)\n",
    "    volkov = volkov[columns_to_remain]\n",
    "    volkov['TRIMP1'] = volkov[\"t1(passive,slow)\"]\n",
    "    volkov['TRIMP2'] = volkov[\"t2(passive,fast)\"]\n",
    "    volkov['TRIMP3'] = volkov[\"t3(active,slow)\"]\n",
    "    volkov['TRIMP4'] = volkov['t4(active,fast)']\n",
    "    \n",
    "    cols_to_remove = [\"t1(passive,slow)\", \"t2(passive,fast)\", \"t3(active,slow)\", 't4(active,fast)']\n",
    "    \n",
    "    prokopbev.drop(columns=cols_to_remove, inplace=True)\n",
    "    volkov.drop(columns=cols_to_remove, inplace=True)\n",
    "    return prokopbev[8::], volkov[34::]"
   ]
  },
  {
   "cell_type": "code",
   "execution_count": 4,
   "metadata": {
    "scrolled": true
   },
   "outputs": [],
   "source": [
    "# import sklearn.tree\n",
    "# help(sklearn.tree._tree.Tree)"
   ]
  },
  {
   "cell_type": "code",
   "execution_count": 5,
   "metadata": {},
   "outputs": [],
   "source": [
    "# def boost_tree(X, y, tree_depth=None):\n",
    "#     from sklearn.tree._tree import TREE_LEAF\n",
    "#     tree = DecisionTreeRegressor(max_depth=tree_depth)\n",
    "#     tree.fit(X, y)\n",
    "# #     print(tree.n_outputs_)\n",
    "# #     print(tree.n_classes_)\n",
    "# #     print(tree.n_features_)\n",
    "# #     print(tree.tree_.node_count)\n",
    "#     leaves_count = np.sum([tree.tree_.children_left[i] == TREE_LEAF and tree.tree_.children_right[i] == TREE_LEAF\n",
    "#      for i in range(tree.tree_.node_count)])\n",
    "# #     print(leaves_count)\n",
    "#     y_pred = tree.predict(X)\n",
    "    \n",
    "#     linear = {}\n",
    "    \n",
    "#     for val in np.unique(y_pred):\n",
    "#         linreg = LinearRegression()\n",
    "        \n",
    "#         X_node = X[y_pred == val]\n",
    "#         y_node = y[y_pred == val]\n",
    "        \n",
    "#         linreg.fit()\n",
    "        \n",
    "#         linear.update({val: })\n",
    "        \n",
    "        \n",
    "#     plt.figure(figsize=(7,7))\n",
    "#     sns.scatterplot(y, y_pred)\n",
    "#     sns.scatterplot(y, y)\n",
    "#     plt.xlabel('Истинное значение')\n",
    "#     plt.ylabel('Прогноз')"
   ]
  },
  {
   "cell_type": "code",
   "execution_count": 6,
   "metadata": {},
   "outputs": [],
   "source": [
    "class TreeBoosting:\n",
    "    def __init__(self, depth):\n",
    "        self.linears = {}\n",
    "        self.tree = None\n",
    "        self.depth = depth\n",
    "    \n",
    "    def fit(self, X, y):\n",
    "        from sklearn.tree._tree import TREE_LEAF\n",
    "        self.tree = DecisionTreeRegressor(max_depth=self.depth)\n",
    "        self.tree.fit(X, y)\n",
    "        \n",
    "        leaves_count = np.sum([self.tree.tree_.children_left[i] == TREE_LEAF and \n",
    "                                    self.tree.tree_.children_right[i] == TREE_LEAF \n",
    "                                    for i in range(self.tree.tree_.node_count)])\n",
    "        y_pred = self.tree.predict(X)\n",
    "\n",
    "        self.possible_values = np.unique(y_pred)\n",
    "        \n",
    "#         possible_values = np.vstack((possible_values, np.arange(possible_values.shape[0])))\n",
    "        \n",
    "#         print(self.possible_values)\n",
    "        \n",
    "        for i in range(self.possible_values.shape[0]):\n",
    "            linreg = LinearRegression(fit_intercept=True)\n",
    "\n",
    "            X_node = X[y_pred == self.possible_values[i]]\n",
    "            y_node = y[y_pred == self.possible_values[i]]\n",
    "            \n",
    "            print(f'Output #{i}\\nLength {y_node.shape[0]}')\n",
    "\n",
    "            linreg.fit(X_node, y_node)\n",
    "\n",
    "            self.linears.update({i: linreg})\n",
    "            \n",
    "    def predict(self, X):\n",
    "        idx = self.tree.predict(X)\n",
    "        \n",
    "        for i in range(self.possible_values.shape[0]):\n",
    "            idx[idx == self.possible_values[i]] = i\n",
    "        \n",
    "#         print(idx)\n",
    "#         print(type(idx))\n",
    "        \n",
    "        res = idx.copy()\n",
    "        \n",
    "        for i in range(res.shape[0]):\n",
    "            res[i] = self.linears[int(res[i])].predict([X.iloc[i]])[0]\n",
    "            \n",
    "#         print(res)\n",
    "        \n",
    "        return res"
   ]
  },
  {
   "cell_type": "code",
   "execution_count": 7,
   "metadata": {},
   "outputs": [],
   "source": [
    "artembev = load_artembev().dropna()\n",
    "y = artembev['PhC']\n",
    "X = artembev.drop(columns=['PhC'])"
   ]
  },
  {
   "cell_type": "code",
   "execution_count": 8,
   "metadata": {},
   "outputs": [
    {
     "name": "stdout",
     "output_type": "stream",
     "text": [
      "Output #0\n",
      "Length 59\n",
      "Output #1\n",
      "Length 14\n",
      "-0.09229730522025159\n"
     ]
    },
    {
     "data": {
      "text/plain": [
       "Text(0, 0.5, 'Прогноз')"
      ]
     },
     "execution_count": 8,
     "metadata": {},
     "output_type": "execute_result"
    },
    {
     "data": {
      "image/png": "[encoded data removed]",
      "text/plain": [
       "<Figure size 504x504 with 1 Axes>"
      ]
     },
     "metadata": {
      "needs_background": "light"
     },
     "output_type": "display_data"
    }
   ],
   "source": [
    "tree = TreeBoosting(1)\n",
    "\n",
    "X_train, X_test, y_train, y_test = train_test_split(X, y, test_size=0.2, random_state=42, shuffle=True)\n",
    "\n",
    "tree.fit(X_train, y_train)\n",
    "\n",
    "y_pred = tree.predict(X_test)\n",
    "\n",
    "print(r2_score(y_test, y_pred))\n",
    "plt.figure(figsize=(7,7))\n",
    "sns.scatterplot(y_test, y_pred)\n",
    "sns.scatterplot(y_test, y_test)\n",
    "plt.xlabel('Истинное значение')\n",
    "plt.ylabel('Прогноз')"
   ]
  },
  {
   "cell_type": "markdown",
   "metadata": {},
   "source": [
    "## Артемьев, среднее за 3 дня"
   ]
  },
  {
   "cell_type": "code",
   "execution_count": 52,
   "metadata": {},
   "outputs": [],
   "source": [
    "artembev = load_artembev()"
   ]
  },
  {
   "cell_type": "code",
   "execution_count": 53,
   "metadata": {},
   "outputs": [
    {
     "data": {
      "text/html": [
       "<div>\n",
       "<style scoped>\n",
       "    .dataframe tbody tr th:only-of-type {\n",
       "        vertical-align: middle;\n",
       "    }\n",
       "\n",
       "    .dataframe tbody tr th {\n",
       "        vertical-align: top;\n",
       "    }\n",
       "\n",
       "    .dataframe thead th {\n",
       "        text-align: right;\n",
       "    }\n",
       "</style>\n",
       "<table border=\"1\" class=\"dataframe\">\n",
       "  <thead>\n",
       "    <tr style=\"text-align: right;\">\n",
       "      <th></th>\n",
       "      <th>TRIMP1_mean_3_days</th>\n",
       "      <th>TRIMP2_mean_3_days</th>\n",
       "      <th>TRIMP3_mean_3_days</th>\n",
       "      <th>TRIMP4_mean_3_days</th>\n",
       "      <th>PhC_mean_3_days</th>\n",
       "      <th>PhC_mean_target_3_days</th>\n",
       "    </tr>\n",
       "  </thead>\n",
       "  <tbody>\n",
       "    <tr>\n",
       "      <th>12</th>\n",
       "      <td>994.960748</td>\n",
       "      <td>103.188621</td>\n",
       "      <td>1260.987536</td>\n",
       "      <td>758.520146</td>\n",
       "      <td>0.395014</td>\n",
       "      <td>0.408444</td>\n",
       "    </tr>\n",
       "    <tr>\n",
       "      <th>13</th>\n",
       "      <td>997.482226</td>\n",
       "      <td>61.388053</td>\n",
       "      <td>1853.448052</td>\n",
       "      <td>1052.005165</td>\n",
       "      <td>0.393683</td>\n",
       "      <td>0.378842</td>\n",
       "    </tr>\n",
       "    <tr>\n",
       "      <th>14</th>\n",
       "      <td>770.478993</td>\n",
       "      <td>36.772901</td>\n",
       "      <td>1997.440934</td>\n",
       "      <td>1154.630564</td>\n",
       "      <td>0.393683</td>\n",
       "      <td>0.349240</td>\n",
       "    </tr>\n",
       "    <tr>\n",
       "      <th>15</th>\n",
       "      <td>981.762669</td>\n",
       "      <td>177.930531</td>\n",
       "      <td>1626.721428</td>\n",
       "      <td>784.579500</td>\n",
       "      <td>0.400398</td>\n",
       "      <td>0.372751</td>\n",
       "    </tr>\n",
       "    <tr>\n",
       "      <th>16</th>\n",
       "      <td>958.164133</td>\n",
       "      <td>173.953128</td>\n",
       "      <td>1848.569418</td>\n",
       "      <td>1049.974340</td>\n",
       "      <td>0.408444</td>\n",
       "      <td>0.396262</td>\n",
       "    </tr>\n",
       "  </tbody>\n",
       "</table>\n",
       "</div>"
      ],
      "text/plain": [
       "    TRIMP1_mean_3_days  TRIMP2_mean_3_days  TRIMP3_mean_3_days  \\\n",
       "12          994.960748          103.188621         1260.987536   \n",
       "13          997.482226           61.388053         1853.448052   \n",
       "14          770.478993           36.772901         1997.440934   \n",
       "15          981.762669          177.930531         1626.721428   \n",
       "16          958.164133          173.953128         1848.569418   \n",
       "\n",
       "    TRIMP4_mean_3_days  PhC_mean_3_days  PhC_mean_target_3_days  \n",
       "12          758.520146         0.395014                0.408444  \n",
       "13         1052.005165         0.393683                0.378842  \n",
       "14         1154.630564         0.393683                0.349240  \n",
       "15          784.579500         0.400398                0.372751  \n",
       "16         1049.974340         0.408444                0.396262  "
      ]
     },
     "execution_count": 53,
     "metadata": {},
     "output_type": "execute_result"
    }
   ],
   "source": [
    "data = artembev.copy()\n",
    "# data.drop(columns=['day number'], inplace=True)\n",
    "data[\"PhC\"] = data[\"PhC\"][1::]\n",
    "cols_to_drop = []\n",
    "for col in data.columns:\n",
    "    data[col+'_mean_3_days'] = np.asarray([data.loc[i-1:i+1, col].mean() for i in data.index])\n",
    "#     data.drop(columns=[col], inplace=True)\n",
    "    cols_to_drop.append(col)\n",
    "OLD_PHC_COLNAME = \"PhC_mean_3_days\"\n",
    "NEW_PHC_COLNAME = 'PhC_mean_target_3_days'\n",
    "data[NEW_PHC_COLNAME] = data[OLD_PHC_COLNAME][3::].tolist() + 3*[np.nan]\n",
    "data[OLD_PHC_COLNAME] = np.asarray([data.loc[i-2:i, \"PhC\"].mean() for i in data.index])\n",
    "# data['const'] = np.full(data.shape[0], 1)\n",
    "# cols_to_drop.append(OLD_PHC_COLNAME)\n",
    "data.drop(columns=cols_to_drop, inplace=True)\n",
    "data.dropna(inplace=True)\n",
    "data.head()"
   ]
  },
  {
   "cell_type": "code",
   "execution_count": 54,
   "metadata": {},
   "outputs": [],
   "source": [
    "y = data[NEW_PHC_COLNAME]\n",
    "X = data.drop(columns=[NEW_PHC_COLNAME])"
   ]
  },
  {
   "cell_type": "code",
   "execution_count": 55,
   "metadata": {},
   "outputs": [
    {
     "data": {
      "text/html": [
       "<div>\n",
       "<style scoped>\n",
       "    .dataframe tbody tr th:only-of-type {\n",
       "        vertical-align: middle;\n",
       "    }\n",
       "\n",
       "    .dataframe tbody tr th {\n",
       "        vertical-align: top;\n",
       "    }\n",
       "\n",
       "    .dataframe thead th {\n",
       "        text-align: right;\n",
       "    }\n",
       "</style>\n",
       "<table border=\"1\" class=\"dataframe\">\n",
       "  <thead>\n",
       "    <tr style=\"text-align: right;\">\n",
       "      <th></th>\n",
       "      <th>TRIMP1_mean_3_days</th>\n",
       "      <th>TRIMP2_mean_3_days</th>\n",
       "      <th>TRIMP3_mean_3_days</th>\n",
       "      <th>TRIMP4_mean_3_days</th>\n",
       "      <th>PhC_mean_3_days</th>\n",
       "    </tr>\n",
       "  </thead>\n",
       "  <tbody>\n",
       "    <tr>\n",
       "      <th>12</th>\n",
       "      <td>994.960748</td>\n",
       "      <td>103.188621</td>\n",
       "      <td>1260.987536</td>\n",
       "      <td>758.520146</td>\n",
       "      <td>0.395014</td>\n",
       "    </tr>\n",
       "    <tr>\n",
       "      <th>13</th>\n",
       "      <td>997.482226</td>\n",
       "      <td>61.388053</td>\n",
       "      <td>1853.448052</td>\n",
       "      <td>1052.005165</td>\n",
       "      <td>0.393683</td>\n",
       "    </tr>\n",
       "    <tr>\n",
       "      <th>14</th>\n",
       "      <td>770.478993</td>\n",
       "      <td>36.772901</td>\n",
       "      <td>1997.440934</td>\n",
       "      <td>1154.630564</td>\n",
       "      <td>0.393683</td>\n",
       "    </tr>\n",
       "    <tr>\n",
       "      <th>15</th>\n",
       "      <td>981.762669</td>\n",
       "      <td>177.930531</td>\n",
       "      <td>1626.721428</td>\n",
       "      <td>784.579500</td>\n",
       "      <td>0.400398</td>\n",
       "    </tr>\n",
       "    <tr>\n",
       "      <th>16</th>\n",
       "      <td>958.164133</td>\n",
       "      <td>173.953128</td>\n",
       "      <td>1848.569418</td>\n",
       "      <td>1049.974340</td>\n",
       "      <td>0.408444</td>\n",
       "    </tr>\n",
       "  </tbody>\n",
       "</table>\n",
       "</div>"
      ],
      "text/plain": [
       "    TRIMP1_mean_3_days  TRIMP2_mean_3_days  TRIMP3_mean_3_days  \\\n",
       "12          994.960748          103.188621         1260.987536   \n",
       "13          997.482226           61.388053         1853.448052   \n",
       "14          770.478993           36.772901         1997.440934   \n",
       "15          981.762669          177.930531         1626.721428   \n",
       "16          958.164133          173.953128         1848.569418   \n",
       "\n",
       "    TRIMP4_mean_3_days  PhC_mean_3_days  \n",
       "12          758.520146         0.395014  \n",
       "13         1052.005165         0.393683  \n",
       "14         1154.630564         0.393683  \n",
       "15          784.579500         0.400398  \n",
       "16         1049.974340         0.408444  "
      ]
     },
     "execution_count": 55,
     "metadata": {},
     "output_type": "execute_result"
    }
   ],
   "source": [
    "X.head()"
   ]
  },
  {
   "cell_type": "code",
   "execution_count": 56,
   "metadata": {},
   "outputs": [
    {
     "name": "stdout",
     "output_type": "stream",
     "text": [
      "Output #0\n",
      "Length 75\n",
      "Output #1\n",
      "Length 24\n",
      "0.5516590644182973\n"
     ]
    },
    {
     "data": {
      "text/plain": [
       "Text(0, 0.5, 'Прогноз')"
      ]
     },
     "execution_count": 56,
     "metadata": {},
     "output_type": "execute_result"
    },
    {
     "data": {
      "image/png": "[encoded data removed]",
      "text/plain": [
       "<Figure size 504x504 with 1 Axes>"
      ]
     },
     "metadata": {
      "needs_background": "light"
     },
     "output_type": "display_data"
    }
   ],
   "source": [
    "tree = TreeBoosting(1)\n",
    "\n",
    "X_train, X_test, y_train, y_test = train_test_split(X, y, test_size=0.2, random_state=42, shuffle=True)\n",
    "\n",
    "tree.fit(X_train, y_train)\n",
    "\n",
    "y_pred = tree.predict(X_test)\n",
    "\n",
    "print(r2_score(y_test, y_pred))\n",
    "plt.figure(figsize=(7,7))\n",
    "sns.scatterplot(y_test, y_pred)\n",
    "sns.scatterplot(y_test, y_test)\n",
    "plt.xlabel('Истинное значение')\n",
    "plt.ylabel('Прогноз')"
   ]
  },
  {
   "cell_type": "markdown",
   "metadata": {},
   "source": [
    "## Волков, среднее за 3 дня"
   ]
  },
  {
   "cell_type": "code",
   "execution_count": 57,
   "metadata": {},
   "outputs": [],
   "source": [
    "_, volkov = load_others()"
   ]
  },
  {
   "cell_type": "code",
   "execution_count": 58,
   "metadata": {},
   "outputs": [
    {
     "data": {
      "text/html": [
       "<div>\n",
       "<style scoped>\n",
       "    .dataframe tbody tr th:only-of-type {\n",
       "        vertical-align: middle;\n",
       "    }\n",
       "\n",
       "    .dataframe tbody tr th {\n",
       "        vertical-align: top;\n",
       "    }\n",
       "\n",
       "    .dataframe thead th {\n",
       "        text-align: right;\n",
       "    }\n",
       "</style>\n",
       "<table border=\"1\" class=\"dataframe\">\n",
       "  <thead>\n",
       "    <tr style=\"text-align: right;\">\n",
       "      <th></th>\n",
       "      <th>PhC_mean_3_days</th>\n",
       "      <th>TRIMP1_mean_3_days</th>\n",
       "      <th>TRIMP2_mean_3_days</th>\n",
       "      <th>TRIMP3_mean_3_days</th>\n",
       "      <th>TRIMP4_mean_3_days</th>\n",
       "      <th>PhC_mean_target_3_days</th>\n",
       "    </tr>\n",
       "  </thead>\n",
       "  <tbody>\n",
       "    <tr>\n",
       "      <th>35</th>\n",
       "      <td>0.372535</td>\n",
       "      <td>1210.966770</td>\n",
       "      <td>534.391373</td>\n",
       "      <td>1705.116494</td>\n",
       "      <td>1258.114116</td>\n",
       "      <td>0.454231</td>\n",
       "    </tr>\n",
       "    <tr>\n",
       "      <th>36</th>\n",
       "      <td>0.423240</td>\n",
       "      <td>1250.191466</td>\n",
       "      <td>495.574388</td>\n",
       "      <td>1704.549627</td>\n",
       "      <td>1258.606351</td>\n",
       "      <td>0.461979</td>\n",
       "    </tr>\n",
       "    <tr>\n",
       "      <th>37</th>\n",
       "      <td>0.430988</td>\n",
       "      <td>957.759369</td>\n",
       "      <td>178.789358</td>\n",
       "      <td>1402.483608</td>\n",
       "      <td>1063.290216</td>\n",
       "      <td>0.450571</td>\n",
       "    </tr>\n",
       "    <tr>\n",
       "      <th>38</th>\n",
       "      <td>0.460214</td>\n",
       "      <td>946.339431</td>\n",
       "      <td>194.499908</td>\n",
       "      <td>1402.702149</td>\n",
       "      <td>1062.777820</td>\n",
       "      <td>0.441445</td>\n",
       "    </tr>\n",
       "    <tr>\n",
       "      <th>39</th>\n",
       "      <td>0.454231</td>\n",
       "      <td>916.326411</td>\n",
       "      <td>225.537217</td>\n",
       "      <td>1402.339838</td>\n",
       "      <td>1064.446482</td>\n",
       "      <td>0.454477</td>\n",
       "    </tr>\n",
       "  </tbody>\n",
       "</table>\n",
       "</div>"
      ],
      "text/plain": [
       "    PhC_mean_3_days  TRIMP1_mean_3_days  TRIMP2_mean_3_days  \\\n",
       "35         0.372535         1210.966770          534.391373   \n",
       "36         0.423240         1250.191466          495.574388   \n",
       "37         0.430988          957.759369          178.789358   \n",
       "38         0.460214          946.339431          194.499908   \n",
       "39         0.454231          916.326411          225.537217   \n",
       "\n",
       "    TRIMP3_mean_3_days  TRIMP4_mean_3_days  PhC_mean_target_3_days  \n",
       "35         1705.116494         1258.114116                0.454231  \n",
       "36         1704.549627         1258.606351                0.461979  \n",
       "37         1402.483608         1063.290216                0.450571  \n",
       "38         1402.702149         1062.777820                0.441445  \n",
       "39         1402.339838         1064.446482                0.454477  "
      ]
     },
     "execution_count": 58,
     "metadata": {},
     "output_type": "execute_result"
    }
   ],
   "source": [
    "data = volkov.copy()\n",
    "# data.drop(columns=['day number'], inplace=True)\n",
    "data[\"PhC\"] = data[\"PhC\"][1::]\n",
    "cols_to_drop = []\n",
    "for col in data.columns:\n",
    "    data[col+'_mean_3_days'] = np.asarray([data.loc[i-1:i+1, col].mean() for i in data.index])\n",
    "#     data.drop(columns=[col], inplace=True)\n",
    "    cols_to_drop.append(col)\n",
    "OLD_PHC_COLNAME = \"PhC_mean_3_days\"\n",
    "NEW_PHC_COLNAME = 'PhC_mean_target_3_days'\n",
    "data[NEW_PHC_COLNAME] = data[OLD_PHC_COLNAME][3::].tolist() + 3*[np.nan]\n",
    "data[OLD_PHC_COLNAME] = np.asarray([data.loc[i-2:i, \"PhC\"].mean() for i in data.index])\n",
    "# data['const'] = np.full(data.shape[0], 1)\n",
    "# cols_to_drop.append(OLD_PHC_COLNAME)\n",
    "data.drop(columns=cols_to_drop, inplace=True)\n",
    "data.dropna(inplace=True)\n",
    "data.head()"
   ]
  },
  {
   "cell_type": "code",
   "execution_count": 60,
   "metadata": {},
   "outputs": [],
   "source": [
    "y = data[NEW_PHC_COLNAME]\n",
    "X = data.drop(columns=[NEW_PHC_COLNAME])"
   ]
  },
  {
   "cell_type": "code",
   "execution_count": 95,
   "metadata": {},
   "outputs": [
    {
     "name": "stdout",
     "output_type": "stream",
     "text": [
      "Output #0\n",
      "Length 59\n",
      "Output #1\n",
      "Length 4\n",
      "Output #2\n",
      "Length 25\n",
      "Output #3\n",
      "Length 11\n",
      "0.18612517814164342\n"
     ]
    },
    {
     "data": {
      "text/plain": [
       "Text(0, 0.5, 'Прогноз')"
      ]
     },
     "execution_count": 95,
     "metadata": {},
     "output_type": "execute_result"
    },
    {
     "data": {
      "image/png": "[encoded data removed]",
      "text/plain": [
       "<Figure size 504x504 with 1 Axes>"
      ]
     },
     "metadata": {
      "needs_background": "light"
     },
     "output_type": "display_data"
    }
   ],
   "source": [
    "tree = TreeBoosting(2)\n",
    "\n",
    "X_train, X_test, y_train, y_test = train_test_split(X, y, test_size=0.2, random_state=42, shuffle=True)\n",
    "\n",
    "tree.fit(X_train, y_train)\n",
    "\n",
    "y_pred = tree.predict(X_test)\n",
    "\n",
    "print(r2_score(y_test, y_pred))\n",
    "plt.figure(figsize=(7,7))\n",
    "sns.scatterplot(y_test, y_pred)\n",
    "sns.scatterplot(y_test, y_test)\n",
    "plt.xlabel('Истинное значение')\n",
    "plt.ylabel('Прогноз')"
   ]
  },
  {
   "cell_type": "code",
   "execution_count": 83,
   "metadata": {},
   "outputs": [
    {
     "data": {
      "text/plain": [
       "array([0.40639764, 0.41315739, 0.42683001, 0.45594994])"
      ]
     },
     "execution_count": 83,
     "metadata": {},
     "output_type": "execute_result"
    }
   ],
   "source": [
    "tree.possible_values"
   ]
  },
  {
   "cell_type": "code",
   "execution_count": 92,
   "metadata": {},
   "outputs": [
    {
     "name": "stdout",
     "output_type": "stream",
     "text": [
      "[ 9.05944059e-01 -2.78952360e-05  3.49015186e-05 -6.48761961e-05\n",
      "  5.11938831e-05]\n",
      "0.08745480613611983\n"
     ]
    }
   ],
   "source": [
    "lin = tree.linears[3]\n",
    "print(lin.coef_)\n",
    "print(lin.intercept_)"
   ]
  },
  {
   "cell_type": "code",
   "execution_count": 97,
   "metadata": {},
   "outputs": [
    {
     "name": "stdout",
     "output_type": "stream",
     "text": [
      "Output #0\n",
      "Length 1\n",
      "Output #1\n",
      "Length 7\n",
      "Output #2\n",
      "Length 43\n",
      "Output #3\n",
      "Length 16\n",
      "Output #4\n",
      "Length 3\n",
      "Output #5\n",
      "Length 18\n",
      "Output #6\n",
      "Length 5\n",
      "Output #7\n",
      "Length 6\n",
      "0.7453905359254382\n"
     ]
    },
    {
     "data": {
      "text/plain": [
       "Text(0, 0.5, 'Прогноз')"
      ]
     },
     "execution_count": 97,
     "metadata": {},
     "output_type": "execute_result"
    },
    {
     "data": {
      "image/png": "[encoded data removed]",
      "text/plain": [
       "<Figure size 504x504 with 1 Axes>"
      ]
     },
     "metadata": {
      "needs_background": "light"
     },
     "output_type": "display_data"
    }
   ],
   "source": [
    "tree = TreeBoosting(3)\n",
    "\n",
    "X_train, X_test, y_train, y_test = train_test_split(X, y, test_size=0.2, random_state=42, shuffle=True)\n",
    "\n",
    "tree.fit(X_train, y_train)\n",
    "\n",
    "y_pred = tree.predict(X_train)\n",
    "\n",
    "print(r2_score(y_train, y_pred))\n",
    "plt.figure(figsize=(7,7))\n",
    "sns.scatterplot(y_train, y_pred)\n",
    "sns.scatterplot(y_train, y_train)\n",
    "plt.xlabel('Истинное значение')\n",
    "plt.ylabel('Прогноз')"
   ]
  }
 ],
 "metadata": {
  "kernelspec": {
   "display_name": "Python 3",
   "language": "python",
   "name": "python3"
  },
  "language_info": {
   "codemirror_mode": {
    "name": "ipython",
    "version": 3
   },
   "file_extension": ".py",
   "mimetype": "text/x-python",
   "name": "python",
   "nbconvert_exporter": "python",
   "pygments_lexer": "ipython3",
   "version": "3.6.9"
  }
 },
 "nbformat": 4,
 "nbformat_minor": 2
}
