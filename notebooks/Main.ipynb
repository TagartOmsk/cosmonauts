{
 "cells": [
  {
   "cell_type": "markdown",
   "metadata": {},
   "source": [
    "ТОДО:\n",
    "    визуализировать деревья\n",
    "    алгоритм в дереве\n",
    "    нарисовать прогноз на следующий день\n",
    "    радиально-базисные функции"
   ]
  },
  {
   "cell_type": "code",
   "execution_count": 1,
   "metadata": {},
   "outputs": [],
   "source": [
    "import torch\n",
    "import torch.nn as nn\n",
    "import torch.optim as optim\n",
    "from torch.utils.data import DataLoader\n",
    "from torch.utils.data import sampler\n",
    "\n",
    "import torchvision.datasets as dset\n",
    "import torchvision.transforms as T\n",
    "\n",
    "import numpy as np\n",
    "import pandas as pd\n",
    "from matplotlib import pyplot as plt\n",
    "import seaborn as sns\n",
    "from sklearn.model_selection import train_test_split\n",
    "from sklearn.linear_model import ARDRegression\n",
    "import random\n",
    "random.seed(42)\n",
    "\n",
    "%load_ext autoreload\n",
    "%autoreload 2"
   ]
  },
  {
   "cell_type": "code",
   "execution_count": 9,
   "metadata": {},
   "outputs": [
    {
     "name": "stdout",
     "output_type": "stream",
     "text": [
      "(204, 6)\n",
      "(204, 5)\n"
     ]
    },
    {
     "data": {
      "text/html": [
       "<div>\n",
       "<style scoped>\n",
       "    .dataframe tbody tr th:only-of-type {\n",
       "        vertical-align: middle;\n",
       "    }\n",
       "\n",
       "    .dataframe tbody tr th {\n",
       "        vertical-align: top;\n",
       "    }\n",
       "\n",
       "    .dataframe thead th {\n",
       "        text-align: right;\n",
       "    }\n",
       "</style>\n",
       "<table border=\"1\" class=\"dataframe\">\n",
       "  <thead>\n",
       "    <tr style=\"text-align: right;\">\n",
       "      <th></th>\n",
       "      <th>Physiological Cost (PhC)</th>\n",
       "      <th>TRIMP1</th>\n",
       "      <th>TRIMP2</th>\n",
       "      <th>TRIMP3</th>\n",
       "      <th>TRIMP4</th>\n",
       "    </tr>\n",
       "  </thead>\n",
       "  <tbody>\n",
       "    <tr>\n",
       "      <th>11</th>\n",
       "      <td>0.372097</td>\n",
       "      <td>802.127</td>\n",
       "      <td>138.638</td>\n",
       "      <td>1.23169</td>\n",
       "      <td>0</td>\n",
       "    </tr>\n",
       "    <tr>\n",
       "      <th>12</th>\n",
       "      <td>0.353656</td>\n",
       "      <td>1450.13</td>\n",
       "      <td>100.318</td>\n",
       "      <td>1341.57</td>\n",
       "      <td>579.98</td>\n",
       "    </tr>\n",
       "    <tr>\n",
       "      <th>13</th>\n",
       "      <td>0.354685</td>\n",
       "      <td>732.626</td>\n",
       "      <td>70.6103</td>\n",
       "      <td>2440.17</td>\n",
       "      <td>1695.58</td>\n",
       "    </tr>\n",
       "    <tr>\n",
       "      <th>14</th>\n",
       "      <td>0.330189</td>\n",
       "      <td>809.691</td>\n",
       "      <td>13.2364</td>\n",
       "      <td>1778.61</td>\n",
       "      <td>880.455</td>\n",
       "    </tr>\n",
       "    <tr>\n",
       "      <th>15</th>\n",
       "      <td>0.371243</td>\n",
       "      <td>769.12</td>\n",
       "      <td>26.4721</td>\n",
       "      <td>1773.54</td>\n",
       "      <td>887.856</td>\n",
       "    </tr>\n",
       "    <tr>\n",
       "      <th>16</th>\n",
       "      <td>NaN</td>\n",
       "      <td>1366.48</td>\n",
       "      <td>494.083</td>\n",
       "      <td>1328.01</td>\n",
       "      <td>585.427</td>\n",
       "    </tr>\n",
       "    <tr>\n",
       "      <th>17</th>\n",
       "      <td>0.319281</td>\n",
       "      <td>738.895</td>\n",
       "      <td>1.30417</td>\n",
       "      <td>2444.16</td>\n",
       "      <td>1676.64</td>\n",
       "    </tr>\n",
       "    <tr>\n",
       "      <th>18</th>\n",
       "      <td>0.347529</td>\n",
       "      <td>670.607</td>\n",
       "      <td>10.3701</td>\n",
       "      <td>1779.52</td>\n",
       "      <td>877.502</td>\n",
       "    </tr>\n",
       "    <tr>\n",
       "      <th>19</th>\n",
       "      <td>0.367796</td>\n",
       "      <td>722.044</td>\n",
       "      <td>51.7193</td>\n",
       "      <td>1776.15</td>\n",
       "      <td>889.079</td>\n",
       "    </tr>\n",
       "    <tr>\n",
       "      <th>20</th>\n",
       "      <td>NaN</td>\n",
       "      <td>NaN</td>\n",
       "      <td>NaN</td>\n",
       "      <td>NaN</td>\n",
       "      <td>NaN</td>\n",
       "    </tr>\n",
       "  </tbody>\n",
       "</table>\n",
       "</div>"
      ],
      "text/plain": [
       "    Physiological Cost (PhC)   TRIMP1   TRIMP2   TRIMP3   TRIMP4\n",
       "11                  0.372097  802.127  138.638  1.23169        0\n",
       "12                  0.353656  1450.13  100.318  1341.57   579.98\n",
       "13                  0.354685  732.626  70.6103  2440.17  1695.58\n",
       "14                  0.330189  809.691  13.2364  1778.61  880.455\n",
       "15                  0.371243   769.12  26.4721  1773.54  887.856\n",
       "16                       NaN  1366.48  494.083  1328.01  585.427\n",
       "17                  0.319281  738.895  1.30417  2444.16  1676.64\n",
       "18                  0.347529  670.607  10.3701  1779.52  877.502\n",
       "19                  0.367796  722.044  51.7193  1776.15  889.079\n",
       "20                       NaN      NaN      NaN      NaN      NaN"
      ]
     },
     "execution_count": 9,
     "metadata": {},
     "output_type": "execute_result"
    }
   ],
   "source": [
    "errors = {}\n",
    "init_data = pd.read_excel(\"./phc_mo3_and_tripms.xls\")\n",
    "main_features = init_data.drop(columns=['day number', 'Speed','Heart rate','Load','Avg PhC 9days', 'Avg PhC 3days',\n",
    "'Avg Forecast 3 days','Unnamed: 13','Unnamed: 14','Unnamed: 15', 'Unnamed: 16', 'Unnamed: 17', 'Unnamed: 18', \n",
    "                        'Unnamed: 19'], axis=0)\n",
    "main_features.drop(labels=range(11), inplace=True)\n",
    "print(main_features.shape)\n",
    "edited_features = main_features.dropna(axis='rows', how=\"any\")\n",
    "edited_features = main_features.drop(columns=['Forecast'], axis=0)\n",
    "print(edited_features.shape)\n",
    "edited_features.head(10)"
   ]
  },
  {
   "cell_type": "code",
   "execution_count": 3,
   "metadata": {},
   "outputs": [
    {
     "name": "stdout",
     "output_type": "stream",
     "text": [
      "Physiological Cost (PhC):\n",
      "Mean: 0.335016\n",
      "STD: 0.025161\n",
      "\n",
      "TRIMP1:\n",
      "Mean: 848.360259\n",
      "STD: 461.174565\n",
      "\n",
      "TRIMP2:\n",
      "Mean: 373.103591\n",
      "STD: 333.070395\n",
      "\n",
      "TRIMP3:\n",
      "Mean: 1888.585938\n",
      "STD: 776.061225\n",
      "\n",
      "TRIMP4:\n",
      "Mean: 978.378106\n",
      "STD: 497.473287\n",
      "\n"
     ]
    }
   ],
   "source": [
    "# sns.jointplot(data=edited_features,x='Physiological Cost (PhC)', y='TRIMP1')\n",
    "for col in edited_features:\n",
    "    print(\"%s:\"%col)\n",
    "    print(\"Mean: %f\"%edited_features[col].mean())\n",
    "    print(\"STD: %f\\n\"%edited_features[col].std())"
   ]
  },
  {
   "cell_type": "code",
   "execution_count": 4,
   "metadata": {},
   "outputs": [
    {
     "data": {
      "text/plain": [
       "<matplotlib.axes._subplots.AxesSubplot at 0x7faa558b7d30>"
      ]
     },
     "execution_count": 4,
     "metadata": {},
     "output_type": "execute_result"
    },
    {
     "data": {
      "image/png": "[encoded data removed]",
      "text/plain": [
       "<Figure size 720x720 with 4 Axes>"
      ]
     },
     "metadata": {
      "needs_background": "light"
     },
     "output_type": "display_data"
    }
   ],
   "source": [
    "fig, ax = plt.subplots(2,2, figsize=(10,10))\n",
    "sns.scatterplot(x='Physiological Cost (PhC)', y='TRIMP1', data=edited_features, ax=ax[0,0])\n",
    "sns.scatterplot(x='Physiological Cost (PhC)', y='TRIMP2', data=edited_features, ax=ax[0,1])\n",
    "sns.scatterplot(x='Physiological Cost (PhC)', y='TRIMP3', data=edited_features, ax=ax[1,0])\n",
    "sns.scatterplot(x='Physiological Cost (PhC)', y='TRIMP4', data=edited_features, ax=ax[1,1])"
   ]
  },
  {
   "cell_type": "code",
   "execution_count": 4,
   "metadata": {},
   "outputs": [
    {
     "name": "stdout",
     "output_type": "stream",
     "text": [
      "среднее значение ошибки Вашего линейного предсказания: 0.05943365069409665\n"
     ]
    }
   ],
   "source": [
    "forecast = init_data[\"Forecast\"]\n",
    "forecast_loss = np.sum(edited_features[\"Physiological Cost (PhC)\"] - forecast)/len(forecast)\n",
    "errors.update({\"forecast error\":forecast_loss})\n",
    "print(\"среднее значение ошибки Вашего линейного предсказания:\", forecast_loss)"
   ]
  },
  {
   "cell_type": "code",
   "execution_count": 4,
   "metadata": {},
   "outputs": [
    {
     "data": {
      "image/png": "[encoded data removed]",
      "text/plain": [
       "<Figure size 360x360 with 1 Axes>"
      ]
     },
     "metadata": {
      "needs_background": "light"
     },
     "output_type": "display_data"
    }
   ],
   "source": [
    "fig, ax = plt.subplots(figsize=(5,5))\n",
    "forec = main_features[main_features['Forecast']!=0]\n",
    "sns.scatterplot(data=forec, x='Physiological Cost (PhC)', y='Physiological Cost (PhC)')\n",
    "sns.scatterplot(data=forec, x='Physiological Cost (PhC)', y='Forecast')\n",
    "del forec"
   ]
  },
  {
   "cell_type": "code",
   "execution_count": 6,
   "metadata": {},
   "outputs": [
    {
     "name": "stdout",
     "output_type": "stream",
     "text": [
      "using device: cpu\n"
     ]
    }
   ],
   "source": [
    "USE_GPU = False # на моём текущем устройстве не поддерживается новый пайторч\n",
    "\n",
    "if USE_GPU and torch.cuda.is_available():\n",
    "    device = torch.device('cuda')\n",
    "else:\n",
    "    device = torch.device('cpu')\n",
    "\n",
    "print('using device:', device)"
   ]
  },
  {
   "cell_type": "code",
   "execution_count": 7,
   "metadata": {},
   "outputs": [],
   "source": [
    "from networks.model import train\n",
    "from networks.Dataset import MyDataset\n",
    "\n",
    "def test_model(model, train_set, X_test, y_test, batch_size=20, num_epochs=10):\n",
    "    model.train()\n",
    "    %time train(model, train_set, batch_size, epochs=num_epochs)\n",
    "\n",
    "    model.eval()\n",
    "    y_pred = model.forward(torch.Tensor(np.asarray(X_test, dtype=np.float64))).detach().numpy().squeeze()\n",
    "    \n",
    "    sns.scatterplot(train_set.target, train_set.target)\n",
    "    sns.scatterplot(train_set.target, model.forward(torch.Tensor(np.asarray(X_train, dtype=np.float64))).detach().numpy().squeeze()) \n",
    "    sns.scatterplot(y_test, y_pred)\n",
    "    \n",
    "    return test_accuracy(y_test, y_pred)"
   ]
  },
  {
   "cell_type": "code",
   "execution_count": 8,
   "metadata": {},
   "outputs": [],
   "source": [
    "def test_accuracy(y_test, y_pred):\n",
    "#     loss = 0\n",
    "#     for i in range(len(y_test)):\n",
    "#         l = abs(y_pred[i] - y_test.values[i])\n",
    "#         loss += l\n",
    "#     loss /= len(y_test)\n",
    "    loss = np.mean(np.abs(y_pred.squeeze() - y_test.values))\n",
    "    print(\"ошибка текущей модели: %.15e\" % loss)\n",
    "    return loss\n",
    "#     print(\"относительная ошибка: %.9f\"% (loss / forecast_loss))\n",
    "#     print(\"разность ошибок: %.9f\" % abs(loss - forecast_loss))"
   ]
  },
  {
   "cell_type": "markdown",
   "metadata": {},
   "source": [
    "# Модель со входом = 4 на базовых данных"
   ]
  },
  {
   "cell_type": "code",
   "execution_count": 70,
   "metadata": {},
   "outputs": [],
   "source": [
    "model = nn.Sequential(\n",
    "    nn.BatchNorm1d(4),\n",
    "    nn.Linear(4,32),\n",
    "    nn.BatchNorm1d(32),\n",
    "    nn.LeakyReLU(),\n",
    "#     nn.Dropout(0.1),\n",
    "    nn.Linear(32,32),\n",
    "    nn.BatchNorm1d(32),\n",
    "    nn.LeakyReLU(),\n",
    "#     nn.Dropout(0.1),\n",
    "    nn.Linear(32, 64),\n",
    "    nn.BatchNorm1d(64),\n",
    "    nn.LeakyReLU(),\n",
    "#     nn.Dropout(0.1),\n",
    "    nn.Linear(64,1)\n",
    ")"
   ]
  },
  {
   "cell_type": "code",
   "execution_count": 71,
   "metadata": {},
   "outputs": [],
   "source": [
    "X = edited_features.drop(['Physiological Cost (PhC)'], axis='columns')\n",
    "y = edited_features['Physiological Cost (PhC)'].copy()\n",
    "X_train, X_test, y_train, y_test = train_test_split(X, y, test_size=0.20, random_state=42, shuffle=True)"
   ]
  },
  {
   "cell_type": "code",
   "execution_count": 72,
   "metadata": {},
   "outputs": [],
   "source": [
    "# train_set = MyDataset(train_data=X, train_target=y)\n",
    "# num_epochs = 1000\n",
    "# batch_size = 16\n",
    "# test_model(model, train_set, X, y, batch_size, num_epochs)"
   ]
  },
  {
   "cell_type": "code",
   "execution_count": 81,
   "metadata": {
    "scrolled": false
   },
   "outputs": [
    {
     "name": "stdout",
     "output_type": "stream",
     "text": [
      "CPU times: user 14 s, sys: 123 ms, total: 14.1 s\n",
      "Wall time: 2.72 s\n",
      "ошибка текущей модели: 2.182292959737723e-02\n"
     ]
    },
    {
     "data": {
      "image/png": "[encoded data removed]",
      "text/plain": [
       "<Figure size 432x288 with 1 Axes>"
      ]
     },
     "metadata": {
      "needs_background": "light"
     },
     "output_type": "display_data"
    }
   ],
   "source": [
    "train_set = MyDataset(train_data=X_train, train_target=y_train)\n",
    "num_epochs = 100\n",
    "batch_size = 16\n",
    "errors.update({\"default(4) test error\":test_model(model, train_set, X_test, y_test, batch_size, num_epochs)})"
   ]
  },
  {
   "cell_type": "code",
   "execution_count": 13,
   "metadata": {},
   "outputs": [
    {
     "name": "stdout",
     "output_type": "stream",
     "text": [
      "1.1579321359e-03\n"
     ]
    }
   ],
   "source": [
    "mask = np.argsort(y.values)\n",
    "diff = 0\n",
    "for i in range(mask.shape[0] - 1):\n",
    "    diff += y.values[mask][i + 1] - y.values[mask][i]\n",
    "diff /= y.shape[0]\n",
    "print(\"%.10e\"%diff) "
   ]
  },
  {
   "cell_type": "markdown",
   "metadata": {},
   "source": [
    "Отсюда делаем вывод, что нам необходимо преодолеть хотя бы порог точности порядка 1е-3"
   ]
  },
  {
   "cell_type": "markdown",
   "metadata": {},
   "source": [
    "Далее попробую посоздавать новых признаков из старых.\n",
    "Возможно понадобится переделать модель."
   ]
  },
  {
   "cell_type": "markdown",
   "metadata": {},
   "source": [
    "# Модель со входом=6."
   ]
  },
  {
   "cell_type": "code",
   "execution_count": 14,
   "metadata": {},
   "outputs": [],
   "source": [
    "model = nn.Sequential(\n",
    "    nn.BatchNorm1d(6),\n",
    "    nn.Linear(6,32),\n",
    "    nn.BatchNorm1d(32),\n",
    "    nn.ReLU(),\n",
    "    nn.Dropout(0.1),\n",
    "    nn.Linear(32,32),\n",
    "    nn.BatchNorm1d(32),\n",
    "    nn.ReLU(),\n",
    "    nn.Dropout(0.1),\n",
    "    nn.Linear(32, 64),\n",
    "    nn.BatchNorm1d(64),\n",
    "    nn.ReLU(),\n",
    "    nn.Dropout(0.1),\n",
    "    nn.Linear(64,1)\n",
    ")"
   ]
  },
  {
   "cell_type": "code",
   "execution_count": 15,
   "metadata": {},
   "outputs": [],
   "source": [
    "X_sum = pd.DataFrame()\n",
    "X_sum[\"1,2\"] = X['TRIMP1'] + X['TRIMP2']\n",
    "X_sum[\"1,3\"] = X['TRIMP1'] + X['TRIMP3']\n",
    "X_sum[\"1,4\"] = X['TRIMP1'] + X['TRIMP4']\n",
    "X_sum[\"2,3\"] = X['TRIMP2'] + X['TRIMP3']\n",
    "X_sum[\"2,4\"] = X['TRIMP2'] + X['TRIMP4']\n",
    "X_sum[\"3,4\"] = X['TRIMP3'] + X['TRIMP4']"
   ]
  },
  {
   "cell_type": "code",
   "execution_count": 16,
   "metadata": {},
   "outputs": [
    {
     "name": "stdout",
     "output_type": "stream",
     "text": [
      "CPU times: user 14.4 s, sys: 104 ms, total: 14.5 s\n",
      "Wall time: 2.87 s\n",
      "ошибка текущей модели: 2.665566685203261e-02\n"
     ]
    },
    {
     "data": {
      "image/png": "[encoded data removed]",
      "text/plain": [
       "<Figure size 432x288 with 1 Axes>"
      ]
     },
     "metadata": {
      "needs_background": "light"
     },
     "output_type": "display_data"
    }
   ],
   "source": [
    "X_train, X_test, y_train, y_test = train_test_split(X_sum, y, test_size=0.20, random_state=42, shuffle=True)\n",
    "train_set = MyDataset(train_data=X_train, train_target=y_train)\n",
    "\n",
    "errors.update({\"sum(6) error\":test_model(model, train_set, X_test, y_test, batch_size, num_epochs)})"
   ]
  },
  {
   "cell_type": "code",
   "execution_count": 17,
   "metadata": {},
   "outputs": [],
   "source": [
    "X_prod = pd.DataFrame()\n",
    "X_prod[\"1,2\"] = X['TRIMP1'] * X['TRIMP2']\n",
    "X_prod[\"1,3\"] = X['TRIMP1'] * X['TRIMP3']\n",
    "X_prod[\"1,4\"] = X['TRIMP1'] * X['TRIMP4']\n",
    "X_prod[\"2,3\"] = X['TRIMP2'] * X['TRIMP3']\n",
    "X_prod[\"2,4\"] = X['TRIMP2'] * X['TRIMP4']\n",
    "X_prod[\"3,4\"] = X['TRIMP3'] * X['TRIMP4']"
   ]
  },
  {
   "cell_type": "code",
   "execution_count": 18,
   "metadata": {},
   "outputs": [
    {
     "name": "stdout",
     "output_type": "stream",
     "text": [
      "CPU times: user 14.4 s, sys: 93.9 ms, total: 14.5 s\n",
      "Wall time: 2.85 s\n",
      "ошибка текущей модели: 2.261592723088655e-02\n"
     ]
    },
    {
     "data": {
      "image/png": "[encoded data removed]",
      "text/plain": [
       "<Figure size 432x288 with 1 Axes>"
      ]
     },
     "metadata": {
      "needs_background": "light"
     },
     "output_type": "display_data"
    }
   ],
   "source": [
    "X_train, X_test, y_train, y_test = train_test_split(X_prod, y, test_size=0.20, random_state=42, shuffle=True)\n",
    "train_set = MyDataset(train_data=X_train, train_target=y_train)\n",
    "\n",
    "errors.update({\"product(6) error\":test_model(model, train_set, X_test, y_test, batch_size, num_epochs)})"
   ]
  },
  {
   "cell_type": "code",
   "execution_count": 19,
   "metadata": {},
   "outputs": [],
   "source": [
    "X_avg = pd.DataFrame()\n",
    "X_avg[\"1,2\"] = (X['TRIMP1'] + X['TRIMP2']) / 2\n",
    "X_avg[\"1,3\"] = (X['TRIMP1'] + X['TRIMP3']) / 2\n",
    "X_avg[\"1,4\"] = (X['TRIMP1'] + X['TRIMP4']) / 2\n",
    "X_avg[\"2,3\"] = (X['TRIMP2'] + X['TRIMP3']) / 2\n",
    "X_avg[\"2,4\"] = (X['TRIMP2'] + X['TRIMP4']) / 2\n",
    "X_avg[\"3,4\"] = (X['TRIMP3'] + X['TRIMP4']) / 2"
   ]
  },
  {
   "cell_type": "code",
   "execution_count": 20,
   "metadata": {},
   "outputs": [
    {
     "name": "stdout",
     "output_type": "stream",
     "text": [
      "CPU times: user 14.4 s, sys: 131 ms, total: 14.5 s\n",
      "Wall time: 2.84 s\n",
      "ошибка текущей модели: 2.147725752657935e-02\n"
     ]
    },
    {
     "data": {
      "image/png": "[encoded data removed]",
      "text/plain": [
       "<Figure size 432x288 with 1 Axes>"
      ]
     },
     "metadata": {
      "needs_background": "light"
     },
     "output_type": "display_data"
    }
   ],
   "source": [
    "X_train, X_test, y_train, y_test = train_test_split(X_avg, y, test_size=0.20, random_state=42, shuffle=True)\n",
    "train_set = MyDataset(train_data=X_train, train_target=y_train)\n",
    "\n",
    "errors.update({\"average(6) error\":test_model(model, train_set, X_test, y_test, batch_size, num_epochs)})"
   ]
  },
  {
   "cell_type": "markdown",
   "metadata": {},
   "source": [
    "# Модель со входом=2."
   ]
  },
  {
   "cell_type": "code",
   "execution_count": 21,
   "metadata": {},
   "outputs": [],
   "source": [
    "model = nn.Sequential(\n",
    "    nn.BatchNorm1d(2),\n",
    "    nn.Linear(2,32),\n",
    "    nn.BatchNorm1d(32),\n",
    "    nn.ReLU(),\n",
    "    nn.Dropout(0.1),\n",
    "    nn.Linear(32,32),\n",
    "    nn.BatchNorm1d(32),\n",
    "    nn.ReLU(),\n",
    "    nn.Dropout(0.1),\n",
    "    nn.Linear(32, 64),\n",
    "    nn.BatchNorm1d(64),\n",
    "    nn.ReLU(),\n",
    "    nn.Dropout(0.1),\n",
    "    nn.Linear(64,1)\n",
    ")"
   ]
  },
  {
   "cell_type": "code",
   "execution_count": 22,
   "metadata": {},
   "outputs": [],
   "source": [
    "X_sum = pd.DataFrame()\n",
    "X_sum[\"1,2\"] = X['TRIMP1'] + X['TRIMP2']\n",
    "X_sum[\"3,4\"] = X['TRIMP3'] + X['TRIMP4']"
   ]
  },
  {
   "cell_type": "code",
   "execution_count": 23,
   "metadata": {},
   "outputs": [
    {
     "name": "stdout",
     "output_type": "stream",
     "text": [
      "CPU times: user 14.4 s, sys: 97.2 ms, total: 14.5 s\n",
      "Wall time: 2.82 s\n",
      "ошибка текущей модели: 2.301563880713108e-02\n"
     ]
    },
    {
     "data": {
      "image/png": "[encoded data removed]",
      "text/plain": [
       "<Figure size 432x288 with 1 Axes>"
      ]
     },
     "metadata": {
      "needs_background": "light"
     },
     "output_type": "display_data"
    }
   ],
   "source": [
    "X_train, X_test, y_train, y_test = train_test_split(X_sum, y, test_size=0.20, random_state=42, shuffle=True)\n",
    "train_set = MyDataset(train_data=X_train, train_target=y_train)\n",
    "\n",
    "errors.update({\"sum(2) error\":test_model(model, train_set, X_test, y_test, batch_size, num_epochs)})"
   ]
  },
  {
   "cell_type": "code",
   "execution_count": 24,
   "metadata": {},
   "outputs": [],
   "source": [
    "X_prod = pd.DataFrame()\n",
    "X_prod[\"1,2\"] = X['TRIMP1'] * X['TRIMP2']\n",
    "X_prod[\"3,4\"] = X['TRIMP3'] * X['TRIMP4']"
   ]
  },
  {
   "cell_type": "code",
   "execution_count": 25,
   "metadata": {},
   "outputs": [
    {
     "name": "stdout",
     "output_type": "stream",
     "text": [
      "CPU times: user 14.4 s, sys: 92.4 ms, total: 14.5 s\n",
      "Wall time: 2.84 s\n",
      "ошибка текущей модели: 2.200618174850681e-02\n"
     ]
    },
    {
     "data": {
      "image/png": "[encoded data removed]",
      "text/plain": [
       "<Figure size 432x288 with 1 Axes>"
      ]
     },
     "metadata": {
      "needs_background": "light"
     },
     "output_type": "display_data"
    }
   ],
   "source": [
    "X_train, X_test, y_train, y_test = train_test_split(X_prod, y, test_size=0.20, random_state=42, shuffle=True)\n",
    "train_set = MyDataset(train_data=X_train, train_target=y_train)\n",
    "\n",
    "errors.update({\"product(2) error\":test_model(model, train_set, X_test, y_test, batch_size, num_epochs)})"
   ]
  },
  {
   "cell_type": "code",
   "execution_count": 26,
   "metadata": {},
   "outputs": [],
   "source": [
    "X_avg = pd.DataFrame()\n",
    "X_avg[\"1,2\"] = (X['TRIMP1'] + X['TRIMP2']) / 2\n",
    "X_avg[\"3,4\"] = (X['TRIMP3'] + X['TRIMP4']) / 2"
   ]
  },
  {
   "cell_type": "code",
   "execution_count": 27,
   "metadata": {},
   "outputs": [
    {
     "name": "stdout",
     "output_type": "stream",
     "text": [
      "CPU times: user 14.4 s, sys: 65.2 ms, total: 14.5 s\n",
      "Wall time: 2.76 s\n",
      "ошибка текущей модели: 2.204701264935447e-02\n"
     ]
    },
    {
     "data": {
      "image/png": "[encoded data removed]",
      "text/plain": [
       "<Figure size 432x288 with 1 Axes>"
      ]
     },
     "metadata": {
      "needs_background": "light"
     },
     "output_type": "display_data"
    }
   ],
   "source": [
    "X_train, X_test, y_train, y_test = train_test_split(X_avg, y, test_size=0.20, random_state=42, shuffle=True)\n",
    "train_set = MyDataset(train_data=X_train, train_target=y_train)\n",
    "\n",
    "errors.update({\"average_1(2) error\":test_model(model, train_set, X_test, y_test, batch_size, num_epochs)})"
   ]
  },
  {
   "cell_type": "code",
   "execution_count": 28,
   "metadata": {},
   "outputs": [],
   "source": [
    "X_avg = pd.DataFrame()\n",
    "X_avg[\"1,3\"] = (X['TRIMP1'] + X['TRIMP3']) / 2\n",
    "X_avg[\"2,4\"] = (X['TRIMP2'] + X['TRIMP4']) / 2"
   ]
  },
  {
   "cell_type": "code",
   "execution_count": 29,
   "metadata": {},
   "outputs": [
    {
     "name": "stdout",
     "output_type": "stream",
     "text": [
      "CPU times: user 14.4 s, sys: 90.2 ms, total: 14.5 s\n",
      "Wall time: 2.84 s\n",
      "ошибка текущей модели: 2.310739580072312e-02\n"
     ]
    },
    {
     "data": {
      "image/png": "[encoded data removed]",
      "text/plain": [
       "<Figure size 432x288 with 1 Axes>"
      ]
     },
     "metadata": {
      "needs_background": "light"
     },
     "output_type": "display_data"
    }
   ],
   "source": [
    "X_train, X_test, y_train, y_test = train_test_split(X_avg, y, test_size=0.20, random_state=42, shuffle=True)\n",
    "train_set = MyDataset(train_data=X_train, train_target=y_train)\n",
    "\n",
    "errors.update({\"average_2(2) error\":test_model(model, train_set, X_test, y_test, batch_size, num_epochs)})"
   ]
  },
  {
   "cell_type": "code",
   "execution_count": 30,
   "metadata": {},
   "outputs": [],
   "source": [
    "X_avg = pd.DataFrame()\n",
    "X_avg[\"1,4\"] = (X['TRIMP1'] + X['TRIMP4']) / 2\n",
    "X_avg[\"3,2\"] = (X['TRIMP3'] + X['TRIMP2']) / 2"
   ]
  },
  {
   "cell_type": "code",
   "execution_count": 31,
   "metadata": {},
   "outputs": [
    {
     "name": "stdout",
     "output_type": "stream",
     "text": [
      "CPU times: user 14.4 s, sys: 83 ms, total: 14.5 s\n",
      "Wall time: 2.81 s\n",
      "ошибка текущей модели: 2.193943194216773e-02\n"
     ]
    },
    {
     "data": {
      "image/png": "[encoded data removed]",
      "text/plain": [
       "<Figure size 432x288 with 1 Axes>"
      ]
     },
     "metadata": {
      "needs_background": "light"
     },
     "output_type": "display_data"
    }
   ],
   "source": [
    "X_train, X_test, y_train, y_test = train_test_split(X_avg, y, test_size=0.20, random_state=42, shuffle=True)\n",
    "train_set = MyDataset(train_data=X_train, train_target=y_train)\n",
    "\n",
    "errors.update({\"average_3(2) error\":test_model(model, train_set, X_test, y_test, batch_size, num_epochs)})"
   ]
  },
  {
   "cell_type": "code",
   "execution_count": 32,
   "metadata": {},
   "outputs": [],
   "source": [
    "# legacy на память\n",
    "# model.train()\n",
    "# trained_model = train(model, train_set, batch_size, epochs=num_epochs)\n",
    "\n",
    "# model.eval()\n",
    "# y_pred = trained_model.forward(torch.Tensor(np.asarray(X_test, dtype=np.float64))).detach().numpy()\n",
    "\n",
    "# test_accuracy(y_test, y_pred)"
   ]
  },
  {
   "cell_type": "markdown",
   "metadata": {},
   "source": [
    "# Модель со входом = 10\n"
   ]
  },
  {
   "cell_type": "code",
   "execution_count": 33,
   "metadata": {},
   "outputs": [],
   "source": [
    "model = nn.Sequential(\n",
    "    nn.BatchNorm1d(10),\n",
    "    nn.Linear(10,32),\n",
    "    nn.BatchNorm1d(32),\n",
    "    nn.ReLU(),\n",
    "    nn.Dropout(0.1),\n",
    "    nn.Linear(32,32),\n",
    "    nn.BatchNorm1d(32),\n",
    "    nn.ReLU(),\n",
    "    nn.Dropout(0.1),\n",
    "    nn.Linear(32, 64),\n",
    "    nn.BatchNorm1d(64),\n",
    "    nn.ReLU(),\n",
    "    nn.Dropout(0.1),\n",
    "    nn.Linear(64,1)\n",
    ")"
   ]
  },
  {
   "cell_type": "code",
   "execution_count": 34,
   "metadata": {},
   "outputs": [],
   "source": [
    "X_avg = pd.DataFrame()\n",
    "X_avg[\"1,2\"] = (X['TRIMP1'] + X['TRIMP2']) / 2\n",
    "X_avg[\"1,3\"] = (X['TRIMP1'] + X['TRIMP3']) / 2\n",
    "X_avg[\"1,4\"] = (X['TRIMP1'] + X['TRIMP4']) / 2\n",
    "X_avg[\"2,3\"] = (X['TRIMP2'] + X['TRIMP3']) / 2\n",
    "X_avg[\"2,4\"] = (X['TRIMP2'] + X['TRIMP4']) / 2\n",
    "X_avg[\"3,4\"] = (X['TRIMP3'] + X['TRIMP4']) / 2\n",
    "X_avg[\"1,2,3\"] = (X['TRIMP1'] + X['TRIMP2'] + X['TRIMP3']) / 3\n",
    "X_avg[\"1,2,4\"] = (X['TRIMP1'] + X['TRIMP2'] + X['TRIMP4']) / 3\n",
    "X_avg[\"2,3,4\"] = (X['TRIMP4'] + X['TRIMP2'] + X['TRIMP3']) / 3\n",
    "X_avg[\"1,2,3,4\"] = (X['TRIMP1'] + X['TRIMP2'] + X['TRIMP3'] + X['TRIMP4']) / 4"
   ]
  },
  {
   "cell_type": "code",
   "execution_count": 35,
   "metadata": {},
   "outputs": [
    {
     "name": "stdout",
     "output_type": "stream",
     "text": [
      "CPU times: user 14.5 s, sys: 42.2 ms, total: 14.5 s\n",
      "Wall time: 2.83 s\n",
      "ошибка текущей модели: 1.984423215147618e-02\n"
     ]
    },
    {
     "data": {
      "image/png": "[encoded data removed]",
      "text/plain": [
       "<Figure size 432x288 with 1 Axes>"
      ]
     },
     "metadata": {
      "needs_background": "light"
     },
     "output_type": "display_data"
    }
   ],
   "source": [
    "X_train, X_test, y_train, y_test = train_test_split(X_avg, y, test_size=0.20, random_state=42, shuffle=True)\n",
    "train_set = MyDataset(train_data=X_train, train_target=y_train)\n",
    "\n",
    "errors.update({\"average(10) error\":test_model(model, train_set, X_test, y_test, batch_size, num_epochs)})"
   ]
  },
  {
   "cell_type": "markdown",
   "metadata": {},
   "source": [
    "Сделаем модель на слой глубже"
   ]
  },
  {
   "cell_type": "code",
   "execution_count": 36,
   "metadata": {},
   "outputs": [],
   "source": [
    "model = nn.Sequential(\n",
    "    nn.BatchNorm1d(10),\n",
    "    nn.Linear(10,32),\n",
    "    nn.BatchNorm1d(32),\n",
    "    nn.ReLU(),\n",
    "#     nn.Dropout(0.1),\n",
    "    nn.Linear(32,32),\n",
    "    nn.BatchNorm1d(32),\n",
    "    nn.ReLU(),\n",
    "#     nn.Dropout(0.1),\n",
    "    nn.Linear(32, 64),\n",
    "    nn.BatchNorm1d(64),\n",
    "    nn.ReLU(),\n",
    "#     nn.Dropout(0.1),\n",
    "    nn.Linear(64, 128),\n",
    "    nn.BatchNorm1d(128),\n",
    "    nn.ReLU(),\n",
    "#     nn.Dropout(0.1),\n",
    "    nn.Linear(128,1)\n",
    ")"
   ]
  },
  {
   "cell_type": "markdown",
   "metadata": {},
   "source": [
    "Используем те же данные:"
   ]
  },
  {
   "cell_type": "code",
   "execution_count": 37,
   "metadata": {},
   "outputs": [
    {
     "name": "stdout",
     "output_type": "stream",
     "text": [
      "CPU times: user 16.5 s, sys: 78.3 ms, total: 16.6 s\n",
      "Wall time: 3.63 s\n",
      "ошибка текущей модели: 2.744499906540789e-02\n"
     ]
    },
    {
     "data": {
      "image/png": "[encoded data removed]",
      "text/plain": [
       "<Figure size 432x288 with 1 Axes>"
      ]
     },
     "metadata": {
      "needs_background": "light"
     },
     "output_type": "display_data"
    }
   ],
   "source": [
    "X_train, X_test, y_train, y_test = train_test_split(X_avg, y, test_size=0.20, random_state=42, shuffle=True)\n",
    "train_set = MyDataset(train_data=X_train, train_target=y_train)\n",
    "\n",
    "errors.update({\"4-layer default error\":test_model(model, train_set, X_test, y_test, batch_size, num_epochs)})"
   ]
  },
  {
   "cell_type": "markdown",
   "metadata": {},
   "source": [
    "Как мы успели заметить, выявление новых признаков, а также вариация количества слоёв моделей даёт точность порядка 1е-2. Далее попробуем нормализовать данные."
   ]
  },
  {
   "cell_type": "markdown",
   "metadata": {},
   "source": [
    "## Нормализация данных\n",
    "попробуем нормализовать входные данные и посмотреть, как это отразится на точночти"
   ]
  },
  {
   "cell_type": "code",
   "execution_count": 38,
   "metadata": {},
   "outputs": [
    {
     "name": "stdout",
     "output_type": "stream",
     "text": [
      "0.44544873944719426 0.21096736191494658\n",
      "X 0\n",
      "0.19195637367237225 0.1845901965760129\n",
      "X 1\n",
      "0.22354089797769086 0.19928094969895688\n",
      "X 2\n",
      "0.3856176181478605 0.15768761133772027\n",
      "X 3\n",
      "0.39717666823249553 0.20096861589333925\n"
     ]
    }
   ],
   "source": [
    "# x_maxes = np.argmax(X.values, axis=0)\n",
    "# for i in range(X.shape[1]):\n",
    "#     X.values[:,i] /= X.values[x_maxes[i], i]\n",
    "for col in range(X.shape[1]):\n",
    "    X.values[:, col] -= X.values[np.argmin(X.values[:, col]), col]\n",
    "    X.values[:, col] /= X.values[np.argmax(X.values[:, col]), col]\n",
    "y_min = y.values[np.argmin(y.values)]\n",
    "y -= y_min\n",
    "y_max = y.values[np.argmax(y.values)]\n",
    "y /= y_max\n",
    "print(y.mean(), y.std())\n",
    "for i in range(X.shape[1]):\n",
    "    print(\"X\",i)\n",
    "    print(X.values[:,i].mean(), X.values[:,i].std())"
   ]
  },
  {
   "cell_type": "code",
   "execution_count": 39,
   "metadata": {},
   "outputs": [
    {
     "name": "stdout",
     "output_type": "stream",
     "text": [
      "[ 0.00059873 -0.40570796  0.          0.0272053 ]\n"
     ]
    }
   ],
   "source": [
    "ard = ARDRegression()\n",
    "ard.fit(X, y)\n",
    "\n",
    "print(ard.coef_)"
   ]
  },
  {
   "cell_type": "markdown",
   "metadata": {},
   "source": [
    "Выходит, что больших отличий между важностью признаков нет (в ненормализованном случае они вообще не отличаются)\n",
    "\n",
    "Наиболее бесполезным оказался третий признак. в дальнейшем попробуем его исключить."
   ]
  },
  {
   "cell_type": "code",
   "execution_count": 40,
   "metadata": {},
   "outputs": [],
   "source": [
    "model = nn.Sequential(\n",
    "    nn.BatchNorm1d(4),\n",
    "    nn.Linear(4,32),\n",
    "    nn.BatchNorm1d(32),\n",
    "    nn.ReLU(),\n",
    "#     nn.Dropout(0.1),\n",
    "    nn.Linear(32,32),\n",
    "    nn.BatchNorm1d(32),\n",
    "    nn.ReLU(),\n",
    "#     nn.Dropout(0.1),\n",
    "    nn.Linear(32, 64),\n",
    "    nn.BatchNorm1d(64),\n",
    "    nn.ReLU(),\n",
    "#     nn.Dropout(0.1),\n",
    "    nn.Linear(64,1)\n",
    ")"
   ]
  },
  {
   "cell_type": "code",
   "execution_count": 41,
   "metadata": {},
   "outputs": [
    {
     "name": "stdout",
     "output_type": "stream",
     "text": [
      "CPU times: user 14.2 s, sys: 156 ms, total: 14.3 s\n",
      "Wall time: 2.81 s\n",
      "ошибка текущей модели: 1.968201832330199e-01\n"
     ]
    },
    {
     "data": {
      "image/png": "[encoded data removed]",
      "text/plain": [
       "<Figure size 432x288 with 1 Axes>"
      ]
     },
     "metadata": {
      "needs_background": "light"
     },
     "output_type": "display_data"
    }
   ],
   "source": [
    "X_train, X_test, y_train, y_test = train_test_split(X, y, test_size=0.20, random_state=42, shuffle=True)\n",
    "train_set = MyDataset(train_data=X_train, train_target=y_train)\n",
    "errors.update({\"normalized error\":test_model(model, train_set, X_test, y_test, batch_size, num_epochs)})"
   ]
  },
  {
   "cell_type": "code",
   "execution_count": 42,
   "metadata": {},
   "outputs": [],
   "source": [
    "model = nn.Sequential(\n",
    "    nn.BatchNorm1d(3),\n",
    "    nn.Linear(3,32),\n",
    "    nn.BatchNorm1d(32),\n",
    "    nn.ReLU(),\n",
    "#     nn.Dropout(0.1),\n",
    "    nn.Linear(32,32),\n",
    "    nn.BatchNorm1d(32),\n",
    "    nn.ReLU(),\n",
    "#     nn.Dropout(0.1),\n",
    "    nn.Linear(32, 64),\n",
    "    nn.BatchNorm1d(64),\n",
    "    nn.ReLU(),\n",
    "#     nn.Dropout(0.1),\n",
    "    nn.Linear(64,1)\n",
    ")"
   ]
  },
  {
   "cell_type": "code",
   "execution_count": 43,
   "metadata": {},
   "outputs": [],
   "source": [
    "X_3 = X.drop('TRIMP3', axis='columns')"
   ]
  },
  {
   "cell_type": "code",
   "execution_count": 44,
   "metadata": {},
   "outputs": [
    {
     "name": "stdout",
     "output_type": "stream",
     "text": [
      "CPU times: user 14.2 s, sys: 106 ms, total: 14.3 s\n",
      "Wall time: 2.84 s\n",
      "ошибка текущей модели: 1.866134086462969e-01\n"
     ]
    },
    {
     "data": {
      "image/png": "[encoded data removed]",
      "text/plain": [
       "<Figure size 432x288 with 1 Axes>"
      ]
     },
     "metadata": {
      "needs_background": "light"
     },
     "output_type": "display_data"
    }
   ],
   "source": [
    "X_train, X_test, y_train, y_test = train_test_split(X_3, y, test_size=0.20, random_state=42, shuffle=True)\n",
    "train_set = MyDataset(train_data=X_train, train_target=y_train)\n",
    "errors.update({\"normalized error\":test_model(model, train_set, X_test, y_test, batch_size, num_epochs)})"
   ]
  },
  {
   "cell_type": "markdown",
   "metadata": {},
   "source": [
    "Второй признак по бесполезности - первый"
   ]
  },
  {
   "cell_type": "code",
   "execution_count": 45,
   "metadata": {},
   "outputs": [],
   "source": [
    "model = nn.Sequential(\n",
    "    nn.BatchNorm1d(2),\n",
    "    nn.Linear(2,32),\n",
    "    nn.BatchNorm1d(32),\n",
    "    nn.ReLU(),\n",
    "#     nn.Dropout(0.1),\n",
    "    nn.Linear(32,32),\n",
    "    nn.BatchNorm1d(32),\n",
    "    nn.ReLU(),\n",
    "#     nn.Dropout(0.1),\n",
    "    nn.Linear(32, 64),\n",
    "    nn.BatchNorm1d(64),\n",
    "    nn.ReLU(),\n",
    "#     nn.Dropout(0.1),\n",
    "    nn.Linear(64,1)\n",
    ")"
   ]
  },
  {
   "cell_type": "code",
   "execution_count": 46,
   "metadata": {},
   "outputs": [],
   "source": [
    "X_2 = X.drop(['TRIMP3','TRIMP1'], axis='columns')"
   ]
  },
  {
   "cell_type": "code",
   "execution_count": 47,
   "metadata": {},
   "outputs": [
    {
     "name": "stdout",
     "output_type": "stream",
     "text": [
      "CPU times: user 14.2 s, sys: 111 ms, total: 14.3 s\n",
      "Wall time: 2.77 s\n",
      "ошибка текущей модели: 1.773836787436055e-01\n"
     ]
    },
    {
     "data": {
      "image/png": "[encoded data removed]",
      "text/plain": [
       "<Figure size 432x288 with 1 Axes>"
      ]
     },
     "metadata": {
      "needs_background": "light"
     },
     "output_type": "display_data"
    }
   ],
   "source": [
    "X_train, X_test, y_train, y_test = train_test_split(X_2, y, test_size=0.20, random_state=42, shuffle=True)\n",
    "train_set = MyDataset(train_data=X_train, train_target=y_train)\n",
    "errors.update({\"normalized error\":test_model(model, train_set, X_test, y_test, batch_size, num_epochs)})"
   ]
  },
  {
   "cell_type": "markdown",
   "metadata": {},
   "source": [
    "С нормализацией результаты оказались не лучше, чем без неё. Значит, отбросим эту идею.\n",
    "\n",
    "Восстановим исходный датасет."
   ]
  },
  {
   "cell_type": "code",
   "execution_count": 48,
   "metadata": {},
   "outputs": [],
   "source": [
    "X = edited_features.drop(['Physiological Cost (PhC)'], axis='columns')\n",
    "y = edited_features['Physiological Cost (PhC)'].copy()\n",
    "X_train, X_test, y_train, y_test = train_test_split(X, y, test_size=0.20, random_state=42, shuffle=True)"
   ]
  },
  {
   "cell_type": "markdown",
   "metadata": {},
   "source": [
    "Далее попробуем изменять параметры в пределах стандартного отклонения, и целевой признак в соответствии с ними же."
   ]
  },
  {
   "cell_type": "code",
   "execution_count": 49,
   "metadata": {},
   "outputs": [
    {
     "name": "stdout",
     "output_type": "stream",
     "text": [
      "(984, 4)\n",
      "(984,)\n"
     ]
    }
   ],
   "source": [
    "coefs = pd.DataFrame(data=ard.coef_.reshape(1,4), columns=('TRIMP1','TRIMP2','TRIMP3','TRIMP4'))\n",
    "# попытка домножать на коэффициенты ARD не помогла улучшить результат\n",
    "X_new = []\n",
    "y_new = []\n",
    "for i in range(3):\n",
    "    for col in X_train:\n",
    "        X_train_c = X_train.copy()\n",
    "        y_train_c = y_train.copy()\n",
    "        std = X_train_c[col].std()\n",
    "        X_chn = np.random.normal(loc=0, scale=std, size=X_train_c[col].shape) \n",
    "        y_chn = np.random.normal(loc=0, scale=y_train_c.values.std(), size=y_train_c.shape) * coefs.loc[0, col] \n",
    "        X_train_c[col] -= X_chn\n",
    "        mask = np.sign(X_chn) == np.sign(y_chn)\n",
    "        if col == 'TRIMP2':\n",
    "            y_train_c[mask] += y_chn[mask]\n",
    "        else:\n",
    "            y_train_c[mask] -= y_chn[mask]\n",
    "        mask = np.sign(X_chn) != np.sign(y_chn)\n",
    "        if col == 'TRIMP2':\n",
    "            y_train_c[mask] -= y_chn[mask]\n",
    "        else:\n",
    "            y_train_c[mask] += y_chn[mask]\n",
    "\n",
    "        X_new.append(X_train_c)\n",
    "        y_new.append(y_train_c)\n",
    "X_new = np.vstack(X_new)\n",
    "y_new = np.vstack(y_new).reshape(-1, 1).squeeze()\n",
    "print(X_new.shape)\n",
    "print(y_new.shape)"
   ]
  },
  {
   "cell_type": "code",
   "execution_count": 50,
   "metadata": {},
   "outputs": [],
   "source": [
    "model = nn.Sequential(\n",
    "    nn.BatchNorm1d(4),\n",
    "    nn.Linear(4,32),\n",
    "    nn.BatchNorm1d(32),\n",
    "    nn.ReLU(),\n",
    "#     nn.Dropout(0.1),\n",
    "    nn.Linear(32,32),\n",
    "    nn.BatchNorm1d(32),\n",
    "    nn.ReLU(),\n",
    "#     nn.Dropout(0.1),\n",
    "    nn.Linear(32, 64),\n",
    "    nn.BatchNorm1d(64),\n",
    "    nn.ReLU(),\n",
    "#     nn.Dropout(0.1),\n",
    "    nn.Linear(64,1)\n",
    ")"
   ]
  },
  {
   "cell_type": "code",
   "execution_count": 51,
   "metadata": {
    "scrolled": true
   },
   "outputs": [
    {
     "name": "stdout",
     "output_type": "stream",
     "text": [
      "Epoch [1/100], Step [10/40], Loss: 71.0992\n",
      "Epoch [1/100], Step [20/40], Loss: 16.5201\n",
      "Epoch [1/100], Step [30/40], Loss: 28.6642\n",
      "Epoch [1/100], Step [40/40], Loss: 1.8998\n",
      "Epoch [2/100], Step [10/40], Loss: 13.3420\n",
      "Epoch [2/100], Step [20/40], Loss: 12.0429\n",
      "Epoch [2/100], Step [30/40], Loss: 17.8324\n",
      "Epoch [2/100], Step [40/40], Loss: 1.9484\n",
      "Epoch [3/100], Step [10/40], Loss: 15.5679\n",
      "Epoch [3/100], Step [20/40], Loss: 12.8349\n",
      "Epoch [3/100], Step [30/40], Loss: 12.8598\n",
      "Epoch [3/100], Step [40/40], Loss: 1.9985\n",
      "Epoch [4/100], Step [10/40], Loss: 10.3065\n",
      "Epoch [4/100], Step [20/40], Loss: 11.9314\n",
      "Epoch [4/100], Step [30/40], Loss: 12.1689\n",
      "Epoch [4/100], Step [40/40], Loss: 1.9300\n",
      "Epoch [5/100], Step [10/40], Loss: 13.7990\n",
      "Epoch [5/100], Step [20/40], Loss: 13.4665\n",
      "Epoch [5/100], Step [30/40], Loss: 14.5787\n",
      "Epoch [5/100], Step [40/40], Loss: 1.5935\n",
      "Epoch [6/100], Step [10/40], Loss: 12.1528\n",
      "Epoch [6/100], Step [20/40], Loss: 11.1217\n",
      "Epoch [6/100], Step [30/40], Loss: 10.4543\n",
      "Epoch [6/100], Step [40/40], Loss: 1.0443\n",
      "Epoch [7/100], Step [10/40], Loss: 11.9013\n",
      "Epoch [7/100], Step [20/40], Loss: 10.4354\n",
      "Epoch [7/100], Step [30/40], Loss: 12.1797\n",
      "Epoch [7/100], Step [40/40], Loss: 1.6366\n",
      "Epoch [8/100], Step [10/40], Loss: 9.8602\n",
      "Epoch [8/100], Step [20/40], Loss: 11.0744\n",
      "Epoch [8/100], Step [30/40], Loss: 11.3507\n",
      "Epoch [8/100], Step [40/40], Loss: 1.7417\n",
      "Epoch [9/100], Step [10/40], Loss: 12.1714\n",
      "Epoch [9/100], Step [20/40], Loss: 11.1804\n",
      "Epoch [9/100], Step [30/40], Loss: 8.2097\n",
      "Epoch [9/100], Step [40/40], Loss: 2.0851\n",
      "Epoch [10/100], Step [10/40], Loss: 10.1844\n",
      "Epoch [10/100], Step [20/40], Loss: 11.6826\n",
      "Epoch [10/100], Step [30/40], Loss: 9.6739\n",
      "Epoch [10/100], Step [40/40], Loss: 1.6556\n",
      "Epoch [11/100], Step [10/40], Loss: 9.3306\n",
      "Epoch [11/100], Step [20/40], Loss: 10.9447\n",
      "Epoch [11/100], Step [30/40], Loss: 7.1001\n",
      "Epoch [11/100], Step [40/40], Loss: 1.7963\n",
      "Epoch [12/100], Step [10/40], Loss: 9.9770\n",
      "Epoch [12/100], Step [20/40], Loss: 9.6029\n",
      "Epoch [12/100], Step [30/40], Loss: 12.4389\n",
      "Epoch [12/100], Step [40/40], Loss: 1.5478\n",
      "Epoch [13/100], Step [10/40], Loss: 11.3268\n",
      "Epoch [13/100], Step [20/40], Loss: 10.4183\n",
      "Epoch [13/100], Step [30/40], Loss: 11.0515\n",
      "Epoch [13/100], Step [40/40], Loss: 1.2873\n",
      "Epoch [14/100], Step [10/40], Loss: 9.4503\n",
      "Epoch [14/100], Step [20/40], Loss: 9.6292\n",
      "Epoch [14/100], Step [30/40], Loss: 7.4270\n",
      "Epoch [14/100], Step [40/40], Loss: 1.1405\n",
      "Epoch [15/100], Step [10/40], Loss: 10.2895\n",
      "Epoch [15/100], Step [20/40], Loss: 10.9392\n",
      "Epoch [15/100], Step [30/40], Loss: 13.2339\n",
      "Epoch [15/100], Step [40/40], Loss: 0.7226\n",
      "Epoch [16/100], Step [10/40], Loss: 8.0625\n",
      "Epoch [16/100], Step [20/40], Loss: 9.8952\n",
      "Epoch [16/100], Step [30/40], Loss: 8.5246\n",
      "Epoch [16/100], Step [40/40], Loss: 1.7070\n",
      "Epoch [17/100], Step [10/40], Loss: 9.4427\n",
      "Epoch [17/100], Step [20/40], Loss: 10.1415\n",
      "Epoch [17/100], Step [30/40], Loss: 10.9938\n",
      "Epoch [17/100], Step [40/40], Loss: 1.8960\n",
      "Epoch [18/100], Step [10/40], Loss: 9.4468\n",
      "Epoch [18/100], Step [20/40], Loss: 9.7790\n",
      "Epoch [18/100], Step [30/40], Loss: 8.4574\n",
      "Epoch [18/100], Step [40/40], Loss: 0.8602\n",
      "Epoch [19/100], Step [10/40], Loss: 8.1077\n",
      "Epoch [19/100], Step [20/40], Loss: 8.2181\n",
      "Epoch [19/100], Step [30/40], Loss: 11.5338\n",
      "Epoch [19/100], Step [40/40], Loss: 1.6905\n",
      "Epoch [20/100], Step [10/40], Loss: 7.7528\n",
      "Epoch [20/100], Step [20/40], Loss: 8.2098\n",
      "Epoch [20/100], Step [30/40], Loss: 8.3610\n",
      "Epoch [20/100], Step [40/40], Loss: 1.0062\n",
      "Epoch [21/100], Step [10/40], Loss: 8.8731\n",
      "Epoch [21/100], Step [20/40], Loss: 8.3414\n",
      "Epoch [21/100], Step [30/40], Loss: 8.9772\n",
      "Epoch [21/100], Step [40/40], Loss: 1.2101\n",
      "Epoch [22/100], Step [10/40], Loss: 9.2244\n",
      "Epoch [22/100], Step [20/40], Loss: 10.0501\n",
      "Epoch [22/100], Step [30/40], Loss: 7.7669\n",
      "Epoch [22/100], Step [40/40], Loss: 0.9951\n",
      "Epoch [23/100], Step [10/40], Loss: 7.9103\n",
      "Epoch [23/100], Step [20/40], Loss: 8.5932\n",
      "Epoch [23/100], Step [30/40], Loss: 8.8242\n",
      "Epoch [23/100], Step [40/40], Loss: 1.0958\n",
      "Epoch [24/100], Step [10/40], Loss: 8.0065\n",
      "Epoch [24/100], Step [20/40], Loss: 8.7325\n",
      "Epoch [24/100], Step [30/40], Loss: 6.9780\n",
      "Epoch [24/100], Step [40/40], Loss: 1.6031\n",
      "Epoch [25/100], Step [10/40], Loss: 9.0928\n",
      "Epoch [25/100], Step [20/40], Loss: 10.5413\n",
      "Epoch [25/100], Step [30/40], Loss: 12.0167\n",
      "Epoch [25/100], Step [40/40], Loss: 0.9810\n",
      "Epoch [26/100], Step [10/40], Loss: 9.6984\n",
      "Epoch [26/100], Step [20/40], Loss: 8.0519\n",
      "Epoch [26/100], Step [30/40], Loss: 9.7760\n",
      "Epoch [26/100], Step [40/40], Loss: 1.6865\n",
      "Epoch [27/100], Step [10/40], Loss: 7.6036\n",
      "Epoch [27/100], Step [20/40], Loss: 8.1509\n",
      "Epoch [27/100], Step [30/40], Loss: 10.1105\n",
      "Epoch [27/100], Step [40/40], Loss: 1.3444\n",
      "Epoch [28/100], Step [10/40], Loss: 9.6077\n",
      "Epoch [28/100], Step [20/40], Loss: 9.7422\n",
      "Epoch [28/100], Step [30/40], Loss: 8.8230\n",
      "Epoch [28/100], Step [40/40], Loss: 1.7221\n",
      "Epoch [29/100], Step [10/40], Loss: 9.6825\n",
      "Epoch [29/100], Step [20/40], Loss: 7.6603\n",
      "Epoch [29/100], Step [30/40], Loss: 9.8080\n",
      "Epoch [29/100], Step [40/40], Loss: 0.8268\n",
      "Epoch [30/100], Step [10/40], Loss: 9.2543\n",
      "Epoch [30/100], Step [20/40], Loss: 8.9672\n",
      "Epoch [30/100], Step [30/40], Loss: 7.1643\n",
      "Epoch [30/100], Step [40/40], Loss: 0.8292\n",
      "Epoch [31/100], Step [10/40], Loss: 9.3280\n",
      "Epoch [31/100], Step [20/40], Loss: 7.6792\n",
      "Epoch [31/100], Step [30/40], Loss: 9.5611\n",
      "Epoch [31/100], Step [40/40], Loss: 0.9647\n",
      "Epoch [32/100], Step [10/40], Loss: 8.7824\n",
      "Epoch [32/100], Step [20/40], Loss: 12.4132\n",
      "Epoch [32/100], Step [30/40], Loss: 9.3776\n",
      "Epoch [32/100], Step [40/40], Loss: 1.6416\n",
      "Epoch [33/100], Step [10/40], Loss: 8.0097\n",
      "Epoch [33/100], Step [20/40], Loss: 9.2125\n",
      "Epoch [33/100], Step [30/40], Loss: 9.7176\n",
      "Epoch [33/100], Step [40/40], Loss: 0.9582\n",
      "Epoch [34/100], Step [10/40], Loss: 9.7985\n",
      "Epoch [34/100], Step [20/40], Loss: 9.6196\n",
      "Epoch [34/100], Step [30/40], Loss: 9.5327\n",
      "Epoch [34/100], Step [40/40], Loss: 1.0305\n",
      "Epoch [35/100], Step [10/40], Loss: 8.2292\n",
      "Epoch [35/100], Step [20/40], Loss: 6.7311\n",
      "Epoch [35/100], Step [30/40], Loss: 9.4452\n",
      "Epoch [35/100], Step [40/40], Loss: 1.0913\n",
      "Epoch [36/100], Step [10/40], Loss: 8.7989\n",
      "Epoch [36/100], Step [20/40], Loss: 15.4697\n",
      "Epoch [36/100], Step [30/40], Loss: 7.7300\n",
      "Epoch [36/100], Step [40/40], Loss: 1.5546\n",
      "Epoch [37/100], Step [10/40], Loss: 11.9188\n",
      "Epoch [37/100], Step [20/40], Loss: 7.3387\n",
      "Epoch [37/100], Step [30/40], Loss: 9.1961\n",
      "Epoch [37/100], Step [40/40], Loss: 1.5576\n",
      "Epoch [38/100], Step [10/40], Loss: 9.4193\n",
      "Epoch [38/100], Step [20/40], Loss: 10.1187\n",
      "Epoch [38/100], Step [30/40], Loss: 8.4003\n",
      "Epoch [38/100], Step [40/40], Loss: 1.7746\n",
      "Epoch [39/100], Step [10/40], Loss: 8.4918\n",
      "Epoch [39/100], Step [20/40], Loss: 10.3357\n",
      "Epoch [39/100], Step [30/40], Loss: 7.3158\n",
      "Epoch [39/100], Step [40/40], Loss: 1.5950\n",
      "Epoch [40/100], Step [10/40], Loss: 9.8590\n",
      "Epoch [40/100], Step [20/40], Loss: 11.2925\n",
      "Epoch [40/100], Step [30/40], Loss: 8.6363\n",
      "Epoch [40/100], Step [40/40], Loss: 0.9426\n",
      "Epoch [41/100], Step [10/40], Loss: 9.5304\n",
      "Epoch [41/100], Step [20/40], Loss: 6.4545\n",
      "Epoch [41/100], Step [30/40], Loss: 8.6143\n",
      "Epoch [41/100], Step [40/40], Loss: 1.0857\n",
      "Epoch [42/100], Step [10/40], Loss: 9.0468\n",
      "Epoch [42/100], Step [20/40], Loss: 7.2606\n",
      "Epoch [42/100], Step [30/40], Loss: 9.3059\n",
      "Epoch [42/100], Step [40/40], Loss: 0.9729\n",
      "Epoch [43/100], Step [10/40], Loss: 11.0940\n",
      "Epoch [43/100], Step [20/40], Loss: 9.5481\n",
      "Epoch [43/100], Step [30/40], Loss: 5.5721\n",
      "Epoch [43/100], Step [40/40], Loss: 1.1026\n",
      "Epoch [44/100], Step [10/40], Loss: 6.1811\n",
      "Epoch [44/100], Step [20/40], Loss: 7.9719\n",
      "Epoch [44/100], Step [30/40], Loss: 7.2950\n",
      "Epoch [44/100], Step [40/40], Loss: 1.8272\n",
      "Epoch [45/100], Step [10/40], Loss: 11.8187\n",
      "Epoch [45/100], Step [20/40], Loss: 9.3494\n",
      "Epoch [45/100], Step [30/40], Loss: 9.4252\n",
      "Epoch [45/100], Step [40/40], Loss: 1.5806\n",
      "Epoch [46/100], Step [10/40], Loss: 8.6231\n",
      "Epoch [46/100], Step [20/40], Loss: 7.9711\n",
      "Epoch [46/100], Step [30/40], Loss: 9.1886\n",
      "Epoch [46/100], Step [40/40], Loss: 0.7936\n",
      "Epoch [47/100], Step [10/40], Loss: 8.7636\n",
      "Epoch [47/100], Step [20/40], Loss: 9.4630\n",
      "Epoch [47/100], Step [30/40], Loss: 6.5641\n",
      "Epoch [47/100], Step [40/40], Loss: 0.7942\n",
      "Epoch [48/100], Step [10/40], Loss: 9.8373\n",
      "Epoch [48/100], Step [20/40], Loss: 6.8850\n",
      "Epoch [48/100], Step [30/40], Loss: 7.2675\n",
      "Epoch [48/100], Step [40/40], Loss: 2.1282\n"
     ]
    },
    {
     "name": "stdout",
     "output_type": "stream",
     "text": [
      "Epoch [49/100], Step [10/40], Loss: 8.8274\n",
      "Epoch [49/100], Step [20/40], Loss: 7.7615\n",
      "Epoch [49/100], Step [30/40], Loss: 8.7888\n",
      "Epoch [49/100], Step [40/40], Loss: 1.1063\n",
      "Epoch [50/100], Step [10/40], Loss: 8.6585\n",
      "Epoch [50/100], Step [20/40], Loss: 9.0517\n",
      "Epoch [50/100], Step [30/40], Loss: 7.7906\n",
      "Epoch [50/100], Step [40/40], Loss: 1.1295\n",
      "Epoch [51/100], Step [10/40], Loss: 7.3405\n",
      "Epoch [51/100], Step [20/40], Loss: 10.1711\n",
      "Epoch [51/100], Step [30/40], Loss: 8.8597\n",
      "Epoch [51/100], Step [40/40], Loss: 2.1103\n",
      "Epoch [52/100], Step [10/40], Loss: 8.3562\n",
      "Epoch [52/100], Step [20/40], Loss: 11.9704\n",
      "Epoch [52/100], Step [30/40], Loss: 9.8095\n",
      "Epoch [52/100], Step [40/40], Loss: 0.9890\n",
      "Epoch [53/100], Step [10/40], Loss: 9.4454\n",
      "Epoch [53/100], Step [20/40], Loss: 8.8733\n",
      "Epoch [53/100], Step [30/40], Loss: 8.7015\n",
      "Epoch [53/100], Step [40/40], Loss: 1.0952\n",
      "Epoch [54/100], Step [10/40], Loss: 7.1169\n",
      "Epoch [54/100], Step [20/40], Loss: 7.4060\n",
      "Epoch [54/100], Step [30/40], Loss: 9.5968\n",
      "Epoch [54/100], Step [40/40], Loss: 1.5142\n",
      "Epoch [55/100], Step [10/40], Loss: 11.6423\n",
      "Epoch [55/100], Step [20/40], Loss: 7.3505\n",
      "Epoch [55/100], Step [30/40], Loss: 8.2811\n",
      "Epoch [55/100], Step [40/40], Loss: 1.1126\n",
      "Epoch [56/100], Step [10/40], Loss: 8.4120\n",
      "Epoch [56/100], Step [20/40], Loss: 9.5673\n",
      "Epoch [56/100], Step [30/40], Loss: 8.2027\n",
      "Epoch [56/100], Step [40/40], Loss: 1.1007\n",
      "Epoch [57/100], Step [10/40], Loss: 7.9313\n",
      "Epoch [57/100], Step [20/40], Loss: 7.9016\n",
      "Epoch [57/100], Step [30/40], Loss: 8.6800\n",
      "Epoch [57/100], Step [40/40], Loss: 0.7309\n",
      "Epoch [58/100], Step [10/40], Loss: 7.4424\n",
      "Epoch [58/100], Step [20/40], Loss: 9.6406\n",
      "Epoch [58/100], Step [30/40], Loss: 7.9680\n",
      "Epoch [58/100], Step [40/40], Loss: 1.0030\n",
      "Epoch [59/100], Step [10/40], Loss: 5.9112\n",
      "Epoch [59/100], Step [20/40], Loss: 8.8707\n",
      "Epoch [59/100], Step [30/40], Loss: 7.2766\n",
      "Epoch [59/100], Step [40/40], Loss: 1.0507\n",
      "Epoch [60/100], Step [10/40], Loss: 8.9296\n",
      "Epoch [60/100], Step [20/40], Loss: 8.6883\n",
      "Epoch [60/100], Step [30/40], Loss: 8.7281\n",
      "Epoch [60/100], Step [40/40], Loss: 1.9461\n",
      "Epoch [61/100], Step [10/40], Loss: 7.2666\n",
      "Epoch [61/100], Step [20/40], Loss: 9.1919\n",
      "Epoch [61/100], Step [30/40], Loss: 10.3109\n",
      "Epoch [61/100], Step [40/40], Loss: 0.9803\n",
      "Epoch [62/100], Step [10/40], Loss: 7.2781\n",
      "Epoch [62/100], Step [20/40], Loss: 9.6128\n",
      "Epoch [62/100], Step [30/40], Loss: 8.5507\n",
      "Epoch [62/100], Step [40/40], Loss: 1.1999\n",
      "Epoch [63/100], Step [10/40], Loss: 7.1355\n",
      "Epoch [63/100], Step [20/40], Loss: 7.0314\n",
      "Epoch [63/100], Step [30/40], Loss: 6.5559\n",
      "Epoch [63/100], Step [40/40], Loss: 0.7659\n",
      "Epoch [64/100], Step [10/40], Loss: 7.6128\n",
      "Epoch [64/100], Step [20/40], Loss: 7.6059\n",
      "Epoch [64/100], Step [30/40], Loss: 9.5478\n",
      "Epoch [64/100], Step [40/40], Loss: 0.9609\n",
      "Epoch [65/100], Step [10/40], Loss: 8.5582\n",
      "Epoch [65/100], Step [20/40], Loss: 7.8875\n",
      "Epoch [65/100], Step [30/40], Loss: 7.8175\n",
      "Epoch [65/100], Step [40/40], Loss: 0.9397\n",
      "Epoch [66/100], Step [10/40], Loss: 9.1842\n",
      "Epoch [66/100], Step [20/40], Loss: 9.0386\n",
      "Epoch [66/100], Step [30/40], Loss: 7.3210\n",
      "Epoch [66/100], Step [40/40], Loss: 1.3703\n",
      "Epoch [67/100], Step [10/40], Loss: 8.7582\n",
      "Epoch [67/100], Step [20/40], Loss: 10.8184\n",
      "Epoch [67/100], Step [30/40], Loss: 9.8637\n",
      "Epoch [67/100], Step [40/40], Loss: 1.2858\n",
      "Epoch [68/100], Step [10/40], Loss: 7.4398\n",
      "Epoch [68/100], Step [20/40], Loss: 7.1994\n",
      "Epoch [68/100], Step [30/40], Loss: 9.1841\n",
      "Epoch [68/100], Step [40/40], Loss: 1.3135\n",
      "Epoch [69/100], Step [10/40], Loss: 9.1926\n",
      "Epoch [69/100], Step [20/40], Loss: 10.1084\n",
      "Epoch [69/100], Step [30/40], Loss: 10.0327\n",
      "Epoch [69/100], Step [40/40], Loss: 0.4919\n",
      "Epoch [70/100], Step [10/40], Loss: 8.5567\n",
      "Epoch [70/100], Step [20/40], Loss: 7.9476\n",
      "Epoch [70/100], Step [30/40], Loss: 9.4611\n",
      "Epoch [70/100], Step [40/40], Loss: 0.7956\n",
      "Epoch [71/100], Step [10/40], Loss: 8.2077\n",
      "Epoch [71/100], Step [20/40], Loss: 8.1335\n",
      "Epoch [71/100], Step [30/40], Loss: 7.9721\n",
      "Epoch [71/100], Step [40/40], Loss: 0.9155\n",
      "Epoch [72/100], Step [10/40], Loss: 8.6107\n",
      "Epoch [72/100], Step [20/40], Loss: 9.7015\n",
      "Epoch [72/100], Step [30/40], Loss: 8.2276\n",
      "Epoch [72/100], Step [40/40], Loss: 0.8026\n",
      "Epoch [73/100], Step [10/40], Loss: 8.2382\n",
      "Epoch [73/100], Step [20/40], Loss: 9.6891\n",
      "Epoch [73/100], Step [30/40], Loss: 10.1533\n",
      "Epoch [73/100], Step [40/40], Loss: 1.4996\n",
      "Epoch [74/100], Step [10/40], Loss: 8.6858\n",
      "Epoch [74/100], Step [20/40], Loss: 7.6981\n",
      "Epoch [74/100], Step [30/40], Loss: 8.4865\n",
      "Epoch [74/100], Step [40/40], Loss: 1.1584\n",
      "Epoch [75/100], Step [10/40], Loss: 5.8091\n",
      "Epoch [75/100], Step [20/40], Loss: 8.7404\n",
      "Epoch [75/100], Step [30/40], Loss: 7.6487\n",
      "Epoch [75/100], Step [40/40], Loss: 0.6984\n",
      "Epoch [76/100], Step [10/40], Loss: 9.4162\n",
      "Epoch [76/100], Step [20/40], Loss: 8.4937\n",
      "Epoch [76/100], Step [30/40], Loss: 9.8147\n",
      "Epoch [76/100], Step [40/40], Loss: 1.0758\n",
      "Epoch [77/100], Step [10/40], Loss: 8.7619\n",
      "Epoch [77/100], Step [20/40], Loss: 8.0859\n",
      "Epoch [77/100], Step [30/40], Loss: 5.5915\n",
      "Epoch [77/100], Step [40/40], Loss: 0.7939\n",
      "Epoch [78/100], Step [10/40], Loss: 9.9740\n",
      "Epoch [78/100], Step [20/40], Loss: 7.1583\n",
      "Epoch [78/100], Step [30/40], Loss: 6.5959\n",
      "Epoch [78/100], Step [40/40], Loss: 0.8211\n",
      "Epoch [79/100], Step [10/40], Loss: 9.7531\n",
      "Epoch [79/100], Step [20/40], Loss: 9.8105\n",
      "Epoch [79/100], Step [30/40], Loss: 8.0887\n",
      "Epoch [79/100], Step [40/40], Loss: 1.0508\n",
      "Epoch [80/100], Step [10/40], Loss: 10.2705\n",
      "Epoch [80/100], Step [20/40], Loss: 8.7217\n",
      "Epoch [80/100], Step [30/40], Loss: 7.2432\n",
      "Epoch [80/100], Step [40/40], Loss: 0.7144\n",
      "Epoch [81/100], Step [10/40], Loss: 6.6759\n",
      "Epoch [81/100], Step [20/40], Loss: 8.4413\n",
      "Epoch [81/100], Step [30/40], Loss: 8.3978\n",
      "Epoch [81/100], Step [40/40], Loss: 1.2416\n",
      "Epoch [82/100], Step [10/40], Loss: 8.9796\n",
      "Epoch [82/100], Step [20/40], Loss: 9.9759\n",
      "Epoch [82/100], Step [30/40], Loss: 8.3527\n",
      "Epoch [82/100], Step [40/40], Loss: 1.2300\n",
      "Epoch [83/100], Step [10/40], Loss: 9.6289\n",
      "Epoch [83/100], Step [20/40], Loss: 8.5931\n",
      "Epoch [83/100], Step [30/40], Loss: 8.7792\n",
      "Epoch [83/100], Step [40/40], Loss: 1.3743\n",
      "Epoch [84/100], Step [10/40], Loss: 9.4015\n",
      "Epoch [84/100], Step [20/40], Loss: 10.5259\n",
      "Epoch [84/100], Step [30/40], Loss: 8.5905\n",
      "Epoch [84/100], Step [40/40], Loss: 0.5927\n",
      "Epoch [85/100], Step [10/40], Loss: 8.5446\n",
      "Epoch [85/100], Step [20/40], Loss: 8.8665\n",
      "Epoch [85/100], Step [30/40], Loss: 7.6962\n",
      "Epoch [85/100], Step [40/40], Loss: 0.9130\n",
      "Epoch [86/100], Step [10/40], Loss: 9.2067\n",
      "Epoch [86/100], Step [20/40], Loss: 8.8742\n",
      "Epoch [86/100], Step [30/40], Loss: 9.7402\n",
      "Epoch [86/100], Step [40/40], Loss: 0.8866\n",
      "Epoch [87/100], Step [10/40], Loss: 7.1562\n",
      "Epoch [87/100], Step [20/40], Loss: 9.7044\n",
      "Epoch [87/100], Step [30/40], Loss: 6.7888\n",
      "Epoch [87/100], Step [40/40], Loss: 0.4467\n",
      "Epoch [88/100], Step [10/40], Loss: 9.2584\n",
      "Epoch [88/100], Step [20/40], Loss: 8.6006\n",
      "Epoch [88/100], Step [30/40], Loss: 11.0856\n",
      "Epoch [88/100], Step [40/40], Loss: 0.7508\n",
      "Epoch [89/100], Step [10/40], Loss: 8.1798\n",
      "Epoch [89/100], Step [20/40], Loss: 7.4399\n",
      "Epoch [89/100], Step [30/40], Loss: 6.8071\n",
      "Epoch [89/100], Step [40/40], Loss: 1.7078\n",
      "Epoch [90/100], Step [10/40], Loss: 8.4333\n",
      "Epoch [90/100], Step [20/40], Loss: 10.2221\n",
      "Epoch [90/100], Step [30/40], Loss: 9.1806\n",
      "Epoch [90/100], Step [40/40], Loss: 0.8205\n",
      "Epoch [91/100], Step [10/40], Loss: 10.4781\n",
      "Epoch [91/100], Step [20/40], Loss: 6.3299\n",
      "Epoch [91/100], Step [30/40], Loss: 9.8426\n",
      "Epoch [91/100], Step [40/40], Loss: 1.0858\n",
      "Epoch [92/100], Step [10/40], Loss: 10.5659\n",
      "Epoch [92/100], Step [20/40], Loss: 9.1582\n",
      "Epoch [92/100], Step [30/40], Loss: 6.9579\n",
      "Epoch [92/100], Step [40/40], Loss: 1.1119\n",
      "Epoch [93/100], Step [10/40], Loss: 9.3688\n",
      "Epoch [93/100], Step [20/40], Loss: 7.2304\n",
      "Epoch [93/100], Step [30/40], Loss: 8.5884\n",
      "Epoch [93/100], Step [40/40], Loss: 1.3940\n",
      "Epoch [94/100], Step [10/40], Loss: 7.8572\n",
      "Epoch [94/100], Step [20/40], Loss: 9.8396\n",
      "Epoch [94/100], Step [30/40], Loss: 7.3911\n",
      "Epoch [94/100], Step [40/40], Loss: 0.8740\n",
      "Epoch [95/100], Step [10/40], Loss: 8.0321\n",
      "Epoch [95/100], Step [20/40], Loss: 9.1621\n",
      "Epoch [95/100], Step [30/40], Loss: 7.9848\n",
      "Epoch [95/100], Step [40/40], Loss: 0.7437\n",
      "Epoch [96/100], Step [10/40], Loss: 8.4812\n",
      "Epoch [96/100], Step [20/40], Loss: 7.8614\n",
      "Epoch [96/100], Step [30/40], Loss: 6.5977\n",
      "Epoch [96/100], Step [40/40], Loss: 1.0223\n"
     ]
    },
    {
     "name": "stdout",
     "output_type": "stream",
     "text": [
      "Epoch [97/100], Step [10/40], Loss: 7.9661\n",
      "Epoch [97/100], Step [20/40], Loss: 6.3463\n",
      "Epoch [97/100], Step [30/40], Loss: 9.3852\n",
      "Epoch [97/100], Step [40/40], Loss: 1.0459\n",
      "Epoch [98/100], Step [10/40], Loss: 6.6307\n",
      "Epoch [98/100], Step [20/40], Loss: 9.4869\n",
      "Epoch [98/100], Step [30/40], Loss: 9.6037\n",
      "Epoch [98/100], Step [40/40], Loss: 1.4727\n",
      "Epoch [99/100], Step [10/40], Loss: 8.7879\n",
      "Epoch [99/100], Step [20/40], Loss: 8.1700\n",
      "Epoch [99/100], Step [30/40], Loss: 10.6551\n",
      "Epoch [99/100], Step [40/40], Loss: 1.0380\n",
      "Epoch [100/100], Step [10/40], Loss: 8.3435\n",
      "Epoch [100/100], Step [20/40], Loss: 9.0585\n",
      "Epoch [100/100], Step [30/40], Loss: 9.7495\n",
      "Epoch [100/100], Step [40/40], Loss: 1.0284\n",
      "CPU times: user 1min 38s, sys: 772 ms, total: 1min 39s\n",
      "Wall time: 20.9 s\n",
      "ошибка текущей модели: 2.038148893817583e-02\n"
     ]
    },
    {
     "data": {
      "image/png": "[encoded data removed]",
      "text/plain": [
       "<Figure size 432x288 with 1 Axes>"
      ]
     },
     "metadata": {
      "needs_background": "light"
     },
     "output_type": "display_data"
    }
   ],
   "source": [
    "batch_size = 20\n",
    "X_train, X_test, y_train, y_test = train_test_split(X_new, y_new, test_size=0.20, random_state=42, shuffle=True)\n",
    "train_set = MyDataset(train_data=X_train, train_target=y_train)\n",
    "\n",
    "errors.update({\"modified-extended error\":test_model(model, train_set, X, y, batch_size, num_epochs)})"
   ]
  },
  {
   "cell_type": "markdown",
   "metadata": {},
   "source": [
    "Я не смог добиться точности выше, чем 1е-2."
   ]
  },
  {
   "cell_type": "code",
   "execution_count": 52,
   "metadata": {},
   "outputs": [],
   "source": [
    "# def test_model(model, train_set, X_test, y_test, batch_size=20, num_epochs=10):\n",
    "#     model.train()\n",
    "#     %time train(model, train_set, batch_size, epochs=num_epochs)\n",
    "\n",
    "#     model.eval()\n",
    "#     y_pred = model.forward(torch.Tensor(np.asarray(X_test, dtype=np.float64))).detach().numpy()\n",
    "\n",
    "#     test_accuracy(y_test, y_pred)"
   ]
  },
  {
   "cell_type": "code",
   "execution_count": 53,
   "metadata": {},
   "outputs": [],
   "source": [
    "X_rel = np.zeros((X.shape[0] - 2, 3, X.shape[1]), dtype=np.float64)\n",
    "y_rel = y[2::]\n",
    "for i in range(2, X.shape[0]):\n",
    "    for j in range(3):\n",
    "        X_rel[i - 2, j] = X.values[i - 2 + j]"
   ]
  },
  {
   "cell_type": "code",
   "execution_count": 54,
   "metadata": {},
   "outputs": [
    {
     "name": "stdout",
     "output_type": "stream",
     "text": [
      "(101, 3, 4)\n"
     ]
    }
   ],
   "source": [
    "print(X_rel.shape)"
   ]
  },
  {
   "cell_type": "code",
   "execution_count": 55,
   "metadata": {},
   "outputs": [],
   "source": [
    "class UnRNN(nn.Module):\n",
    "    def forward(self, out):\n",
    "#         return out[0][:, -1, : ]\n",
    "        return out[1][-1, -1, : ]\n",
    "#         return torch.cat((out[0],out[1]), 2)"
   ]
  },
  {
   "cell_type": "code",
   "execution_count": 56,
   "metadata": {},
   "outputs": [],
   "source": [
    "batch_size = 20\n",
    "model = nn.Sequential(\n",
    "    nn.RNN(input_size=4, hidden_size=16, num_layers=2, dropout=0, batch_first=True),\n",
    "    UnRNN(),\n",
    "    nn.ReLU(),\n",
    "    nn.Linear(16,1)\n",
    ")"
   ]
  },
  {
   "cell_type": "code",
   "execution_count": 57,
   "metadata": {
    "scrolled": false
   },
   "outputs": [
    {
     "name": "stdout",
     "output_type": "stream",
     "text": [
      "CPU times: user 5.41 s, sys: 43.8 ms, total: 5.45 s\n",
      "Wall time: 1.95 s\n",
      "ошибка текущей модели: 2.021634989476812e-02\n"
     ]
    },
    {
     "data": {
      "image/png": "[encoded data removed]",
      "text/plain": [
       "<Figure size 432x288 with 1 Axes>"
      ]
     },
     "metadata": {
      "needs_background": "light"
     },
     "output_type": "display_data"
    }
   ],
   "source": [
    "X_train, X_test, y_train, y_test = train_test_split(X_rel, y_rel, test_size=0.20, random_state=42, shuffle=True)\n",
    "train_set = MyDataset(train_data=X_train, train_target=y_train)\n",
    "\n",
    "errors.update({\"rnn error\":test_model(model, train_set, X_test, y_test, batch_size, num_epochs)})"
   ]
  },
  {
   "cell_type": "markdown",
   "metadata": {},
   "source": [
    "От запоминания последних трёх дней лучше не стало."
   ]
  },
  {
   "cell_type": "code",
   "execution_count": 58,
   "metadata": {},
   "outputs": [
    {
     "name": "stderr",
     "output_type": "stream",
     "text": [
      "/home/vyacheslav/.local/lib/python3.6/site-packages/ipykernel_launcher.py:5: SettingWithCopyWarning: \n",
      "A value is trying to be set on a copy of a slice from a DataFrame\n",
      "\n",
      "See the caveats in the documentation: http://pandas.pydata.org/pandas-docs/stable/indexing.html#indexing-view-versus-copy\n",
      "  \"\"\"\n"
     ]
    },
    {
     "data": {
      "text/html": [
       "<div>\n",
       "<style scoped>\n",
       "    .dataframe tbody tr th:only-of-type {\n",
       "        vertical-align: middle;\n",
       "    }\n",
       "\n",
       "    .dataframe tbody tr th {\n",
       "        vertical-align: top;\n",
       "    }\n",
       "\n",
       "    .dataframe thead th {\n",
       "        text-align: right;\n",
       "    }\n",
       "</style>\n",
       "<table border=\"1\" class=\"dataframe\">\n",
       "  <thead>\n",
       "    <tr style=\"text-align: right;\">\n",
       "      <th></th>\n",
       "      <th>Physiological Cost (PhC)</th>\n",
       "      <th>TRIMP1</th>\n",
       "      <th>TRIMP2</th>\n",
       "      <th>TRIMP3</th>\n",
       "      <th>TRIMP4</th>\n",
       "      <th>skipped</th>\n",
       "    </tr>\n",
       "  </thead>\n",
       "  <tbody>\n",
       "    <tr>\n",
       "      <th>11</th>\n",
       "      <td>0.372097</td>\n",
       "      <td>802.127</td>\n",
       "      <td>138.638</td>\n",
       "      <td>1.23169</td>\n",
       "      <td>0</td>\n",
       "      <td>0</td>\n",
       "    </tr>\n",
       "    <tr>\n",
       "      <th>12</th>\n",
       "      <td>0.353656</td>\n",
       "      <td>1450.13</td>\n",
       "      <td>100.318</td>\n",
       "      <td>1341.57</td>\n",
       "      <td>579.98</td>\n",
       "      <td>0</td>\n",
       "    </tr>\n",
       "    <tr>\n",
       "      <th>13</th>\n",
       "      <td>0.354685</td>\n",
       "      <td>732.626</td>\n",
       "      <td>70.6103</td>\n",
       "      <td>2440.17</td>\n",
       "      <td>1695.58</td>\n",
       "      <td>0</td>\n",
       "    </tr>\n",
       "    <tr>\n",
       "      <th>14</th>\n",
       "      <td>0.330189</td>\n",
       "      <td>809.691</td>\n",
       "      <td>13.2364</td>\n",
       "      <td>1778.61</td>\n",
       "      <td>880.455</td>\n",
       "      <td>0</td>\n",
       "    </tr>\n",
       "    <tr>\n",
       "      <th>15</th>\n",
       "      <td>0.371243</td>\n",
       "      <td>769.12</td>\n",
       "      <td>26.4721</td>\n",
       "      <td>1773.54</td>\n",
       "      <td>887.856</td>\n",
       "      <td>0</td>\n",
       "    </tr>\n",
       "    <tr>\n",
       "      <th>16</th>\n",
       "      <td>NaN</td>\n",
       "      <td>1366.48</td>\n",
       "      <td>494.083</td>\n",
       "      <td>1328.01</td>\n",
       "      <td>585.427</td>\n",
       "      <td>0</td>\n",
       "    </tr>\n",
       "    <tr>\n",
       "      <th>17</th>\n",
       "      <td>0.319281</td>\n",
       "      <td>738.895</td>\n",
       "      <td>1.30417</td>\n",
       "      <td>2444.16</td>\n",
       "      <td>1676.64</td>\n",
       "      <td>1</td>\n",
       "    </tr>\n",
       "    <tr>\n",
       "      <th>18</th>\n",
       "      <td>0.347529</td>\n",
       "      <td>670.607</td>\n",
       "      <td>10.3701</td>\n",
       "      <td>1779.52</td>\n",
       "      <td>877.502</td>\n",
       "      <td>0</td>\n",
       "    </tr>\n",
       "    <tr>\n",
       "      <th>19</th>\n",
       "      <td>0.367796</td>\n",
       "      <td>722.044</td>\n",
       "      <td>51.7193</td>\n",
       "      <td>1776.15</td>\n",
       "      <td>889.079</td>\n",
       "      <td>0</td>\n",
       "    </tr>\n",
       "    <tr>\n",
       "      <th>20</th>\n",
       "      <td>NaN</td>\n",
       "      <td>NaN</td>\n",
       "      <td>NaN</td>\n",
       "      <td>NaN</td>\n",
       "      <td>NaN</td>\n",
       "      <td>0</td>\n",
       "    </tr>\n",
       "  </tbody>\n",
       "</table>\n",
       "</div>"
      ],
      "text/plain": [
       "    Physiological Cost (PhC)   TRIMP1   TRIMP2   TRIMP3   TRIMP4  skipped\n",
       "11                  0.372097  802.127  138.638  1.23169        0        0\n",
       "12                  0.353656  1450.13  100.318  1341.57   579.98        0\n",
       "13                  0.354685  732.626  70.6103  2440.17  1695.58        0\n",
       "14                  0.330189  809.691  13.2364  1778.61  880.455        0\n",
       "15                  0.371243   769.12  26.4721  1773.54  887.856        0\n",
       "16                       NaN  1366.48  494.083  1328.01  585.427        0\n",
       "17                  0.319281  738.895  1.30417  2444.16  1676.64        1\n",
       "18                  0.347529  670.607  10.3701  1779.52  877.502        0\n",
       "19                  0.367796  722.044  51.7193  1776.15  889.079        0\n",
       "20                       NaN      NaN      NaN      NaN      NaN        0"
      ]
     },
     "execution_count": 58,
     "metadata": {},
     "output_type": "execute_result"
    }
   ],
   "source": [
    "skipped_days = main_features.copy()\n",
    "skipped_days['skipped'] = pd.Series(data=np.zeros(skipped_days.shape[0]), index=skipped_days.index, dtype=np.int32)\n",
    "for day in range(12, skipped_days.shape[0]):\n",
    "    if np.isnan(skipped_days['Physiological Cost (PhC)'][day - 1]):\n",
    "        skipped_days['skipped'][day] = skipped_days['skipped'][day - 1] + 1\n",
    "skipped_days.head(10)"
   ]
  },
  {
   "cell_type": "code",
   "execution_count": 59,
   "metadata": {},
   "outputs": [],
   "source": [
    "model = nn.Sequential(\n",
    "    nn.BatchNorm1d(5),\n",
    "    nn.Linear(5,32),\n",
    "    nn.BatchNorm1d(32),\n",
    "    nn.ReLU(),\n",
    "    nn.Linear(32,32),\n",
    "    nn.BatchNorm1d(32),\n",
    "    nn.ReLU(),\n",
    "    nn.Linear(32, 64),\n",
    "    nn.BatchNorm1d(64),\n",
    "    nn.ReLU(),\n",
    "    nn.Linear(64,1)\n",
    ")"
   ]
  },
  {
   "cell_type": "code",
   "execution_count": 60,
   "metadata": {},
   "outputs": [],
   "source": [
    "skipped_days.dropna(axis=0, inplace=True)\n",
    "X_skip = skipped_days.drop(['Physiological Cost (PhC)'], axis='columns')\n",
    "y_skip = skipped_days['Physiological Cost (PhC)'].copy()"
   ]
  },
  {
   "cell_type": "code",
   "execution_count": 61,
   "metadata": {},
   "outputs": [
    {
     "name": "stdout",
     "output_type": "stream",
     "text": [
      "CPU times: user 11.8 s, sys: 110 ms, total: 11.9 s\n",
      "Wall time: 2.32 s\n",
      "ошибка текущей модели: 2.613377906444731e-02\n"
     ]
    },
    {
     "data": {
      "image/png": "[encoded data removed]",
      "text/plain": [
       "<Figure size 432x288 with 1 Axes>"
      ]
     },
     "metadata": {
      "needs_background": "light"
     },
     "output_type": "display_data"
    }
   ],
   "source": [
    "X_train, X_test, y_train, y_test = train_test_split(X_skip, y_skip, test_size=0.20, random_state=42, shuffle=True)\n",
    "train_set = MyDataset(train_data=X_train, train_target=y_train)\n",
    "\n",
    "errors.update({\"skipped error\":test_model(model, train_set, X_test, y_test, batch_size, num_epochs)})"
   ]
  },
  {
   "cell_type": "code",
   "execution_count": 62,
   "metadata": {},
   "outputs": [],
   "source": [
    "# я устал\n",
    "del model\n",
    "del train_set\n",
    "del X\n",
    "del X_2\n",
    "del X_3\n",
    "del X_avg\n",
    "del X_chn\n",
    "del X_new\n",
    "del X_prod\n",
    "del X_rel\n",
    "del X_skip\n",
    "del X_sum\n",
    "del X_train\n",
    "del X_train_c\n",
    "del y\n",
    "del y_chn\n",
    "del y_new\n",
    "del y_rel\n",
    "del y_skip\n",
    "del y_train\n",
    "del y_train_c"
   ]
  },
  {
   "cell_type": "markdown",
   "metadata": {},
   "source": [
    "Далее попробуем применить деревья"
   ]
  },
  {
   "cell_type": "code",
   "execution_count": 4,
   "metadata": {},
   "outputs": [],
   "source": [
    "X = edited_features.drop(['Physiological Cost (PhC)'], axis='columns')\n",
    "y = edited_features['Physiological Cost (PhC)'].copy()\n",
    "X_train, X_test, y_train, y_test = train_test_split(X, y, test_size=0.2, random_state=42, shuffle=True)"
   ]
  },
  {
   "cell_type": "code",
   "execution_count": 5,
   "metadata": {},
   "outputs": [
    {
     "ename": "ValueError",
     "evalue": "Input contains NaN, infinity or a value too large for dtype('float32').",
     "output_type": "error",
     "traceback": [
      "\u001b[0;31m---------------------------------------------------------------------------\u001b[0m",
      "\u001b[0;31mValueError\u001b[0m                                Traceback (most recent call last)",
      "\u001b[0;32m<ipython-input-5-b35aa532e00f>\u001b[0m in \u001b[0;36m<module>\u001b[0;34m\u001b[0m\n\u001b[1;32m      1\u001b[0m \u001b[0;32mfrom\u001b[0m \u001b[0msklearn\u001b[0m\u001b[0;34m.\u001b[0m\u001b[0mtree\u001b[0m \u001b[0;32mimport\u001b[0m \u001b[0mDecisionTreeRegressor\u001b[0m\u001b[0;34m\u001b[0m\u001b[0;34m\u001b[0m\u001b[0m\n\u001b[1;32m      2\u001b[0m \u001b[0mtree\u001b[0m \u001b[0;34m=\u001b[0m \u001b[0mDecisionTreeRegressor\u001b[0m\u001b[0;34m(\u001b[0m\u001b[0mcriterion\u001b[0m\u001b[0;34m=\u001b[0m\u001b[0;34m'mae'\u001b[0m\u001b[0;34m,\u001b[0m \u001b[0mrandom_state\u001b[0m\u001b[0;34m=\u001b[0m\u001b[0;36m42\u001b[0m\u001b[0;34m)\u001b[0m\u001b[0;34m\u001b[0m\u001b[0;34m\u001b[0m\u001b[0m\n\u001b[0;32m----> 3\u001b[0;31m \u001b[0mtree\u001b[0m\u001b[0;34m.\u001b[0m\u001b[0mfit\u001b[0m\u001b[0;34m(\u001b[0m\u001b[0mX\u001b[0m\u001b[0;34m=\u001b[0m\u001b[0mX_train\u001b[0m\u001b[0;34m,\u001b[0m \u001b[0my\u001b[0m\u001b[0;34m=\u001b[0m\u001b[0my_train\u001b[0m\u001b[0;34m)\u001b[0m\u001b[0;34m\u001b[0m\u001b[0;34m\u001b[0m\u001b[0m\n\u001b[0m\u001b[1;32m      4\u001b[0m \u001b[0my_pred\u001b[0m \u001b[0;34m=\u001b[0m \u001b[0mtree\u001b[0m\u001b[0;34m.\u001b[0m\u001b[0mpredict\u001b[0m\u001b[0;34m(\u001b[0m\u001b[0mX_test\u001b[0m\u001b[0;34m)\u001b[0m\u001b[0;34m\u001b[0m\u001b[0;34m\u001b[0m\u001b[0m\n\u001b[1;32m      5\u001b[0m \u001b[0msns\u001b[0m\u001b[0;34m.\u001b[0m\u001b[0mscatterplot\u001b[0m\u001b[0;34m(\u001b[0m\u001b[0my_train\u001b[0m\u001b[0;34m,\u001b[0m \u001b[0mtree\u001b[0m\u001b[0;34m.\u001b[0m\u001b[0mpredict\u001b[0m\u001b[0;34m(\u001b[0m\u001b[0mX_train\u001b[0m\u001b[0;34m)\u001b[0m\u001b[0;34m)\u001b[0m\u001b[0;34m\u001b[0m\u001b[0;34m\u001b[0m\u001b[0m\n",
      "\u001b[0;32m~/.local/lib/python3.6/site-packages/sklearn/tree/tree.py\u001b[0m in \u001b[0;36mfit\u001b[0;34m(self, X, y, sample_weight, check_input, X_idx_sorted)\u001b[0m\n\u001b[1;32m   1137\u001b[0m             \u001b[0msample_weight\u001b[0m\u001b[0;34m=\u001b[0m\u001b[0msample_weight\u001b[0m\u001b[0;34m,\u001b[0m\u001b[0;34m\u001b[0m\u001b[0;34m\u001b[0m\u001b[0m\n\u001b[1;32m   1138\u001b[0m             \u001b[0mcheck_input\u001b[0m\u001b[0;34m=\u001b[0m\u001b[0mcheck_input\u001b[0m\u001b[0;34m,\u001b[0m\u001b[0;34m\u001b[0m\u001b[0;34m\u001b[0m\u001b[0m\n\u001b[0;32m-> 1139\u001b[0;31m             X_idx_sorted=X_idx_sorted)\n\u001b[0m\u001b[1;32m   1140\u001b[0m         \u001b[0;32mreturn\u001b[0m \u001b[0mself\u001b[0m\u001b[0;34m\u001b[0m\u001b[0;34m\u001b[0m\u001b[0m\n\u001b[1;32m   1141\u001b[0m \u001b[0;34m\u001b[0m\u001b[0m\n",
      "\u001b[0;32m~/.local/lib/python3.6/site-packages/sklearn/tree/tree.py\u001b[0m in \u001b[0;36mfit\u001b[0;34m(self, X, y, sample_weight, check_input, X_idx_sorted)\u001b[0m\n\u001b[1;32m    114\u001b[0m         \u001b[0mrandom_state\u001b[0m \u001b[0;34m=\u001b[0m \u001b[0mcheck_random_state\u001b[0m\u001b[0;34m(\u001b[0m\u001b[0mself\u001b[0m\u001b[0;34m.\u001b[0m\u001b[0mrandom_state\u001b[0m\u001b[0;34m)\u001b[0m\u001b[0;34m\u001b[0m\u001b[0;34m\u001b[0m\u001b[0m\n\u001b[1;32m    115\u001b[0m         \u001b[0;32mif\u001b[0m \u001b[0mcheck_input\u001b[0m\u001b[0;34m:\u001b[0m\u001b[0;34m\u001b[0m\u001b[0;34m\u001b[0m\u001b[0m\n\u001b[0;32m--> 116\u001b[0;31m             \u001b[0mX\u001b[0m \u001b[0;34m=\u001b[0m \u001b[0mcheck_array\u001b[0m\u001b[0;34m(\u001b[0m\u001b[0mX\u001b[0m\u001b[0;34m,\u001b[0m \u001b[0mdtype\u001b[0m\u001b[0;34m=\u001b[0m\u001b[0mDTYPE\u001b[0m\u001b[0;34m,\u001b[0m \u001b[0maccept_sparse\u001b[0m\u001b[0;34m=\u001b[0m\u001b[0;34m\"csc\"\u001b[0m\u001b[0;34m)\u001b[0m\u001b[0;34m\u001b[0m\u001b[0;34m\u001b[0m\u001b[0m\n\u001b[0m\u001b[1;32m    117\u001b[0m             \u001b[0my\u001b[0m \u001b[0;34m=\u001b[0m \u001b[0mcheck_array\u001b[0m\u001b[0;34m(\u001b[0m\u001b[0my\u001b[0m\u001b[0;34m,\u001b[0m \u001b[0mensure_2d\u001b[0m\u001b[0;34m=\u001b[0m\u001b[0;32mFalse\u001b[0m\u001b[0;34m,\u001b[0m \u001b[0mdtype\u001b[0m\u001b[0;34m=\u001b[0m\u001b[0;32mNone\u001b[0m\u001b[0;34m)\u001b[0m\u001b[0;34m\u001b[0m\u001b[0;34m\u001b[0m\u001b[0m\n\u001b[1;32m    118\u001b[0m             \u001b[0;32mif\u001b[0m \u001b[0missparse\u001b[0m\u001b[0;34m(\u001b[0m\u001b[0mX\u001b[0m\u001b[0;34m)\u001b[0m\u001b[0;34m:\u001b[0m\u001b[0;34m\u001b[0m\u001b[0;34m\u001b[0m\u001b[0m\n",
      "\u001b[0;32m~/.local/lib/python3.6/site-packages/sklearn/utils/validation.py\u001b[0m in \u001b[0;36mcheck_array\u001b[0;34m(array, accept_sparse, accept_large_sparse, dtype, order, copy, force_all_finite, ensure_2d, allow_nd, ensure_min_samples, ensure_min_features, warn_on_dtype, estimator)\u001b[0m\n\u001b[1;32m    566\u001b[0m         \u001b[0;32mif\u001b[0m \u001b[0mforce_all_finite\u001b[0m\u001b[0;34m:\u001b[0m\u001b[0;34m\u001b[0m\u001b[0;34m\u001b[0m\u001b[0m\n\u001b[1;32m    567\u001b[0m             _assert_all_finite(array,\n\u001b[0;32m--> 568\u001b[0;31m                                allow_nan=force_all_finite == 'allow-nan')\n\u001b[0m\u001b[1;32m    569\u001b[0m \u001b[0;34m\u001b[0m\u001b[0m\n\u001b[1;32m    570\u001b[0m     \u001b[0mshape_repr\u001b[0m \u001b[0;34m=\u001b[0m \u001b[0m_shape_repr\u001b[0m\u001b[0;34m(\u001b[0m\u001b[0marray\u001b[0m\u001b[0;34m.\u001b[0m\u001b[0mshape\u001b[0m\u001b[0;34m)\u001b[0m\u001b[0;34m\u001b[0m\u001b[0;34m\u001b[0m\u001b[0m\n",
      "\u001b[0;32m~/.local/lib/python3.6/site-packages/sklearn/utils/validation.py\u001b[0m in \u001b[0;36m_assert_all_finite\u001b[0;34m(X, allow_nan)\u001b[0m\n\u001b[1;32m     54\u001b[0m                 not allow_nan and not np.isfinite(X).all()):\n\u001b[1;32m     55\u001b[0m             \u001b[0mtype_err\u001b[0m \u001b[0;34m=\u001b[0m \u001b[0;34m'infinity'\u001b[0m \u001b[0;32mif\u001b[0m \u001b[0mallow_nan\u001b[0m \u001b[0;32melse\u001b[0m \u001b[0;34m'NaN, infinity'\u001b[0m\u001b[0;34m\u001b[0m\u001b[0;34m\u001b[0m\u001b[0m\n\u001b[0;32m---> 56\u001b[0;31m             \u001b[0;32mraise\u001b[0m \u001b[0mValueError\u001b[0m\u001b[0;34m(\u001b[0m\u001b[0mmsg_err\u001b[0m\u001b[0;34m.\u001b[0m\u001b[0mformat\u001b[0m\u001b[0;34m(\u001b[0m\u001b[0mtype_err\u001b[0m\u001b[0;34m,\u001b[0m \u001b[0mX\u001b[0m\u001b[0;34m.\u001b[0m\u001b[0mdtype\u001b[0m\u001b[0;34m)\u001b[0m\u001b[0;34m)\u001b[0m\u001b[0;34m\u001b[0m\u001b[0;34m\u001b[0m\u001b[0m\n\u001b[0m\u001b[1;32m     57\u001b[0m \u001b[0;34m\u001b[0m\u001b[0m\n\u001b[1;32m     58\u001b[0m \u001b[0;34m\u001b[0m\u001b[0m\n",
      "\u001b[0;31mValueError\u001b[0m: Input contains NaN, infinity or a value too large for dtype('float32')."
     ]
    }
   ],
   "source": [
    "from sklearn.tree import DecisionTreeRegressor\n",
    "tree = DecisionTreeRegressor(criterion='mae', random_state=42)\n",
    "tree.fit(X=X_train, y=y_train)\n",
    "y_pred = tree.predict(X_test)\n",
    "sns.scatterplot(y_train, tree.predict(X_train)) \n",
    "sns.scatterplot(y_test, y_pred)\n",
    "errors.update({\"tree error\":test_accuracy(y_test, y_pred)})"
   ]
  },
  {
   "cell_type": "code",
   "execution_count": 65,
   "metadata": {},
   "outputs": [
    {
     "data": {
      "text/plain": [
       "0.22597719395158777"
      ]
     },
     "execution_count": 65,
     "metadata": {},
     "output_type": "execute_result"
    }
   ],
   "source": [
    "tree.score(X_test, y_test)"
   ]
  },
  {
   "cell_type": "code",
   "execution_count": 66,
   "metadata": {},
   "outputs": [],
   "source": [
    "X_skip = skipped_days.drop(['Physiological Cost (PhC)'], axis='columns')\n",
    "y_skip = skipped_days['Physiological Cost (PhC)'].copy()\n",
    "X_train, X_test, y_train, y_test = train_test_split(X_skip, y_skip, test_size=0.20, random_state=42, shuffle=True)"
   ]
  },
  {
   "cell_type": "code",
   "execution_count": 67,
   "metadata": {},
   "outputs": [
    {
     "name": "stdout",
     "output_type": "stream",
     "text": [
      "ошибка текущей модели: 1.932309366666666e-02\n"
     ]
    },
    {
     "data": {
      "image/png": "[encoded data removed]",
      "text/plain": [
       "<Figure size 432x288 with 1 Axes>"
      ]
     },
     "metadata": {
      "needs_background": "light"
     },
     "output_type": "display_data"
    }
   ],
   "source": [
    "tree = DecisionTreeRegressor(criterion='mae', random_state=42)\n",
    "tree.fit(X=X_train, y=y_train)\n",
    "y_pred = tree.predict(X_test)\n",
    "sns.scatterplot(y_train, tree.predict(X_train)) \n",
    "sns.scatterplot(y_test, y_pred)\n",
    "errors.update({\"tree skipped error\":test_accuracy(y_test, y_pred)})"
   ]
  },
  {
   "cell_type": "code",
   "execution_count": 68,
   "metadata": {},
   "outputs": [
    {
     "name": "stdout",
     "output_type": "stream",
     "text": [
      "forecast error 0.05943365069409665\n",
      "default(4) test error 0.02745405015195138\n",
      "sum(6) error 0.02665566685203261\n",
      "product(6) error 0.022615927230886547\n",
      "average(6) error 0.021477257526579353\n",
      "sum(2) error 0.02301563880713108\n",
      "product(2) error 0.022006181748506812\n",
      "average_1(2) error 0.022047012649354474\n",
      "average_2(2) error 0.023107395800723116\n",
      "average_3(2) error 0.02193943194216773\n",
      "average(10) error 0.019844232151476175\n",
      "4-layer default error 0.02744499906540789\n",
      "normalized error 0.17738367874360547\n",
      "modified-extended error 0.020381488938175832\n",
      "rnn error 0.020216349894768122\n",
      "skipped error 0.026133779064447308\n",
      "tree error 0.01832631619047619\n",
      "tree skipped error 0.019323093666666662\n"
     ]
    }
   ],
   "source": [
    "for key, value in errors.items():\n",
    "    print(key, value)"
   ]
  }
 ],
 "metadata": {
  "kernelspec": {
   "display_name": "Python 3",
   "language": "python",
   "name": "python3"
  },
  "language_info": {
   "codemirror_mode": {
    "name": "ipython",
    "version": 3
   },
   "file_extension": ".py",
   "mimetype": "text/x-python",
   "name": "python",
   "nbconvert_exporter": "python",
   "pygments_lexer": "ipython3",
   "version": "3.6.9"
  }
 },
 "nbformat": 4,
 "nbformat_minor": 2
}
