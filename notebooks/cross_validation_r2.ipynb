{
 "cells": [
  {
   "cell_type": "code",
   "execution_count": 1,
   "metadata": {},
   "outputs": [],
   "source": [
    "from sklearn.tree import DecisionTreeRegressor\n",
    "from sklearn.linear_model import LinearRegression\n",
    "from sklearn.model_selection import train_test_split\n",
    "from sklearn.metrics import r2_score\n",
    "\n",
    "import pandas as pd\n",
    "import numpy as np\n",
    "import seaborn as sns\n",
    "from matplotlib import pyplot as plt\n",
    "from pprint import pprint\n",
    "\n",
    "# magic to import packages from parent directory\n",
    "import os,sys,inspect\n",
    "current_dir = os.path.dirname(os.path.abspath(inspect.getfile(inspect.currentframe())))\n",
    "parent_dir = os.path.dirname(current_dir)\n",
    "sys.path.insert(0, parent_dir)\n",
    "\n",
    "from src.tree_boosting import TreeBoosting\n",
    "from src import utils \n",
    "\n",
    "%load_ext autoreload\n",
    "%autoreload 2"
   ]
  },
  {
   "cell_type": "code",
   "execution_count": 2,
   "metadata": {},
   "outputs": [],
   "source": [
    "models = {\"hybrid-1\": TreeBoosting(1), \n",
    "          \"hybrid-2\": TreeBoosting(2),\n",
    "          \"tree-1\": DecisionTreeRegressor(max_depth=1),\n",
    "          \"tree-2\": DecisionTreeRegressor(max_depth=2),\n",
    "          \"linear\": LinearRegression(fit_intercept=True)}\n",
    "\n",
    "prokopbev, volkov = utils.load_others()\n",
    "\n",
    "spacemen = {\"Artem'ev\":utils.load_artembev(), \"Prokop'ev\":prokopbev, \"Volkov\":volkov}\n",
    "\n",
    "del volkov\n",
    "del prokopbev"
   ]
  },
  {
   "cell_type": "code",
   "execution_count": 6,
   "metadata": {
    "scrolled": true
   },
   "outputs": [],
   "source": [
    "ITERATIONS = 100\n",
    "TEST_SIZE = 0.2\n",
    "r2_scores = {}\n",
    "\n",
    "for man in spacemen:\n",
    "    r2_scores.update({man:{}})\n",
    "    X, y = utils.convert_to_3day_mean_format(spacemen.get(man))\n",
    "    for model in models:\n",
    "        r2_scores_for_this_experiment = []\n",
    "        for i in range(ITERATIONS):\n",
    "            r2_scores_for_this_experiment.append(\n",
    "                utils.train_and_test(\n",
    "                    models.get(model), X, y, test_size=0.2, random_state=i, draw=False)\n",
    "            )\n",
    "        r2_scores.get(man).update({model:r2_scores_for_this_experiment})"
   ]
  },
  {
   "cell_type": "code",
   "execution_count": 7,
   "metadata": {
    "scrolled": false
   },
   "outputs": [
    {
     "name": "stdout",
     "output_type": "stream",
     "text": [
      "Artem'ev\n",
      "\thybrid-1, mean R²: 0.4312508779596116\n",
      "\thybrid-1, median R²: 0.4634969994613857\n",
      "\thybrid-2, mean R²: -64.33949207998296\n",
      "\thybrid-2, median R²: 0.1882860371283558\n",
      "\ttree-1, mean R²: 0.3873911446890223\n",
      "\ttree-1, median R²: 0.4447447993627317\n",
      "\ttree-2, mean R²: 0.34048471296543875\n",
      "\ttree-2, median R²: 0.3725570537557276\n",
      "\tlinear, mean R²: 0.30871940261046854\n",
      "\tlinear, median R²: 0.35828392495495454\n",
      "Prokop'ev\n",
      "\thybrid-1, mean R²: -4.146005973561607\n",
      "\thybrid-1, median R²: -0.45281953330908153\n",
      "\thybrid-2, mean R²: -13.559059108261662\n",
      "\thybrid-2, median R²: -0.8004112508730982\n",
      "\ttree-1, mean R²: -0.2758867846071075\n",
      "\ttree-1, median R²: -0.18987317509712154\n",
      "\ttree-2, mean R²: -0.48897805061262695\n",
      "\ttree-2, median R²: -0.315138208229243\n",
      "\tlinear, mean R²: -0.09023833455781341\n",
      "\tlinear, median R²: -0.06583388599459461\n",
      "Volkov\n",
      "\thybrid-1, mean R²: 0.013341414021308728\n",
      "\thybrid-1, median R²: 0.07016961608556987\n",
      "\thybrid-2, mean R²: -273.3350580321083\n",
      "\thybrid-2, median R²: -0.2571510060216823\n",
      "\ttree-1, mean R²: -0.030715444843823915\n",
      "\ttree-1, median R²: 0.002596378424453538\n",
      "\ttree-2, mean R²: 0.04814119381679824\n",
      "\ttree-2, median R²: 0.08928650798589444\n",
      "\tlinear, mean R²: 0.1431386024596093\n",
      "\tlinear, median R²: 0.16240784409979203\n"
     ]
    }
   ],
   "source": [
    "for man in r2_scores:\n",
    "    print(man)\n",
    "    for model in r2_scores.get(man):\n",
    "        print(f'\\t{model}, mean R²: {np.mean(r2_scores.get(man).get(model))}')\n",
    "        print(f'\\t{model}, median R²: {np.median(r2_scores.get(man).get(model))}')"
   ]
  },
  {
   "cell_type": "code",
   "execution_count": 8,
   "metadata": {},
   "outputs": [],
   "source": [
    "ITERATIONS = 100\n",
    "TEST_SIZE = 0.2\n",
    "r2_scores_full = {}\n",
    "\n",
    "for man in spacemen:\n",
    "    r2_scores_full.update({man:{}})\n",
    "    X, y = utils.convert_to_3day_mean_format(spacemen.get(man))\n",
    "    for model in models:\n",
    "        r2_scores_full.get(man).update({model:utils.train_and_test_nosplit(models.get(model), X, y, draw=False)})"
   ]
  },
  {
   "cell_type": "code",
   "execution_count": 9,
   "metadata": {},
   "outputs": [
    {
     "name": "stdout",
     "output_type": "stream",
     "text": [
      "Artem'ev\n",
      "\thybrid-1, full dataset R²: 0.5939718234582889\n",
      "\thybrid-2, full dataset R²: 0.73420692109285\n",
      "\ttree-1, full dataset R²: 0.4849412315933995\n",
      "\ttree-2, full dataset R²: 0.5641018259868231\n",
      "\tlinear, full dataset R²: 0.43314979962526834\n",
      "Prokop'ev\n",
      "\thybrid-1, full dataset R²: 0.3050793438602635\n",
      "\thybrid-2, full dataset R²: 0.45245318008099866\n",
      "\ttree-1, full dataset R²: 0.1406997597694174\n",
      "\ttree-2, full dataset R²: 0.2893713124948889\n",
      "\tlinear, full dataset R²: 0.15250963531658135\n",
      "Volkov\n",
      "\thybrid-1, full dataset R²: 0.38449794492821143\n",
      "\thybrid-2, full dataset R²: 0.48228666592234715\n",
      "\ttree-1, full dataset R²: 0.2018263369941642\n",
      "\ttree-2, full dataset R²: 0.3833255655932254\n",
      "\tlinear, full dataset R²: 0.2765216064736745\n"
     ]
    }
   ],
   "source": [
    "for man in r2_scores_full:\n",
    "    print(man)\n",
    "    for model in r2_scores_full.get(man):\n",
    "        print(f'\\t{model}, full dataset R²: {r2_scores_full.get(man).get(model)}')"
   ]
  }
 ],
 "metadata": {
  "kernelspec": {
   "display_name": "Python 3",
   "language": "python",
   "name": "python3"
  },
  "language_info": {
   "codemirror_mode": {
    "name": "ipython",
    "version": 3
   },
   "file_extension": ".py",
   "mimetype": "text/x-python",
   "name": "python",
   "nbconvert_exporter": "python",
   "pygments_lexer": "ipython3",
   "version": "3.6.9"
  }
 },
 "nbformat": 4,
 "nbformat_minor": 2
}
