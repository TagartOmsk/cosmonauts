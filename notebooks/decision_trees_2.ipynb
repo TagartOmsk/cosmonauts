{
 "cells": [
  {
   "cell_type": "code",
   "execution_count": 1,
   "metadata": {},
   "outputs": [],
   "source": [
    "from sklearn.tree import DecisionTreeRegressor\n",
    "from sklearn.model_selection import train_test_split\n",
    "from sklearn.metrics import r2_score\n",
    "import pandas as pd\n",
    "import numpy as np\n",
    "import seaborn as sns\n",
    "from matplotlib import pyplot as plt"
   ]
  },
  {
   "cell_type": "code",
   "execution_count": 2,
   "metadata": {},
   "outputs": [],
   "source": [
    "def load_and_prepare_data(filename, header=False):\n",
    "    res = pd.read_excel('../data/1Artembev_PhC_sport_and_tripms.xls', header=header)\n",
    "    res = res[['Physiological Cost (PhC)', 'TRIMP1', 'TRIMP2', 'TRIMP3', 'TRIMP4', 'day number']]\n",
    "    return res[11::]"
   ]
  },
  {
   "cell_type": "code",
   "execution_count": 3,
   "metadata": {},
   "outputs": [
    {
     "data": {
      "text/html": [
       "<div>\n",
       "<style scoped>\n",
       "    .dataframe tbody tr th:only-of-type {\n",
       "        vertical-align: middle;\n",
       "    }\n",
       "\n",
       "    .dataframe tbody tr th {\n",
       "        vertical-align: top;\n",
       "    }\n",
       "\n",
       "    .dataframe thead th {\n",
       "        text-align: right;\n",
       "    }\n",
       "</style>\n",
       "<table border=\"1\" class=\"dataframe\">\n",
       "  <thead>\n",
       "    <tr style=\"text-align: right;\">\n",
       "      <th></th>\n",
       "      <th>Physiological Cost (PhC)</th>\n",
       "      <th>TRIMP1</th>\n",
       "      <th>TRIMP2</th>\n",
       "      <th>TRIMP3</th>\n",
       "      <th>TRIMP4</th>\n",
       "      <th>day number</th>\n",
       "    </tr>\n",
       "  </thead>\n",
       "  <tbody>\n",
       "    <tr>\n",
       "      <th>11</th>\n",
       "      <td>0.411155</td>\n",
       "      <td>802.127</td>\n",
       "      <td>138.638</td>\n",
       "      <td>1.23169</td>\n",
       "      <td>0</td>\n",
       "      <td>1.0</td>\n",
       "    </tr>\n",
       "    <tr>\n",
       "      <th>12</th>\n",
       "      <td>0.395014</td>\n",
       "      <td>1450.13</td>\n",
       "      <td>100.318</td>\n",
       "      <td>1341.57</td>\n",
       "      <td>579.98</td>\n",
       "      <td>2.0</td>\n",
       "    </tr>\n",
       "    <tr>\n",
       "      <th>13</th>\n",
       "      <td>0.392351</td>\n",
       "      <td>732.626</td>\n",
       "      <td>70.6103</td>\n",
       "      <td>2440.17</td>\n",
       "      <td>1695.58</td>\n",
       "      <td>3.0</td>\n",
       "    </tr>\n",
       "    <tr>\n",
       "      <th>14</th>\n",
       "      <td>NaN</td>\n",
       "      <td>809.691</td>\n",
       "      <td>13.2364</td>\n",
       "      <td>1778.61</td>\n",
       "      <td>880.455</td>\n",
       "      <td>4.0</td>\n",
       "    </tr>\n",
       "    <tr>\n",
       "      <th>15</th>\n",
       "      <td>0.408444</td>\n",
       "      <td>769.12</td>\n",
       "      <td>26.4721</td>\n",
       "      <td>1773.54</td>\n",
       "      <td>887.856</td>\n",
       "      <td>5.0</td>\n",
       "    </tr>\n",
       "  </tbody>\n",
       "</table>\n",
       "</div>"
      ],
      "text/plain": [
       "    Physiological Cost (PhC)   TRIMP1   TRIMP2   TRIMP3   TRIMP4  day number\n",
       "11                  0.411155  802.127  138.638  1.23169        0         1.0\n",
       "12                  0.395014  1450.13  100.318  1341.57   579.98         2.0\n",
       "13                  0.392351  732.626  70.6103  2440.17  1695.58         3.0\n",
       "14                       NaN  809.691  13.2364  1778.61  880.455         4.0\n",
       "15                  0.408444   769.12  26.4721  1773.54  887.856         5.0"
      ]
     },
     "execution_count": 3,
     "metadata": {},
     "output_type": "execute_result"
    }
   ],
   "source": [
    "artembev = load_and_prepare_data('../data/1Artembev_PhC_sport_and_tripms.xls', header=0)\n",
    "artembev.head()"
   ]
  },
  {
   "cell_type": "code",
   "execution_count": 4,
   "metadata": {},
   "outputs": [
    {
     "data": {
      "text/html": [
       "<div>\n",
       "<style scoped>\n",
       "    .dataframe tbody tr th:only-of-type {\n",
       "        vertical-align: middle;\n",
       "    }\n",
       "\n",
       "    .dataframe tbody tr th {\n",
       "        vertical-align: top;\n",
       "    }\n",
       "\n",
       "    .dataframe thead th {\n",
       "        text-align: right;\n",
       "    }\n",
       "</style>\n",
       "<table border=\"1\" class=\"dataframe\">\n",
       "  <thead>\n",
       "    <tr style=\"text-align: right;\">\n",
       "      <th></th>\n",
       "      <th>Physiological Cost (PhC)_mean_3_days</th>\n",
       "      <th>TRIMP1_mean_3_days</th>\n",
       "      <th>TRIMP2_mean_3_days</th>\n",
       "      <th>TRIMP3_mean_3_days</th>\n",
       "      <th>TRIMP4_mean_3_days</th>\n",
       "      <th>PhC_mean_target_3_days</th>\n",
       "    </tr>\n",
       "  </thead>\n",
       "  <tbody>\n",
       "    <tr>\n",
       "      <th>12</th>\n",
       "      <td>0.395014</td>\n",
       "      <td>994.960748</td>\n",
       "      <td>103.188621</td>\n",
       "      <td>1260.987536</td>\n",
       "      <td>758.520146</td>\n",
       "      <td>0.408444</td>\n",
       "    </tr>\n",
       "    <tr>\n",
       "      <th>13</th>\n",
       "      <td>0.393683</td>\n",
       "      <td>997.482226</td>\n",
       "      <td>61.388053</td>\n",
       "      <td>1853.448052</td>\n",
       "      <td>1052.005165</td>\n",
       "      <td>0.378842</td>\n",
       "    </tr>\n",
       "    <tr>\n",
       "      <th>14</th>\n",
       "      <td>0.393683</td>\n",
       "      <td>770.478993</td>\n",
       "      <td>36.772901</td>\n",
       "      <td>1997.440934</td>\n",
       "      <td>1154.630564</td>\n",
       "      <td>0.349240</td>\n",
       "    </tr>\n",
       "    <tr>\n",
       "      <th>15</th>\n",
       "      <td>0.400398</td>\n",
       "      <td>981.762669</td>\n",
       "      <td>177.930531</td>\n",
       "      <td>1626.721428</td>\n",
       "      <td>784.579500</td>\n",
       "      <td>0.372751</td>\n",
       "    </tr>\n",
       "    <tr>\n",
       "      <th>16</th>\n",
       "      <td>0.408444</td>\n",
       "      <td>958.164133</td>\n",
       "      <td>173.953128</td>\n",
       "      <td>1848.569418</td>\n",
       "      <td>1049.974340</td>\n",
       "      <td>0.396262</td>\n",
       "    </tr>\n",
       "  </tbody>\n",
       "</table>\n",
       "</div>"
      ],
      "text/plain": [
       "    Physiological Cost (PhC)_mean_3_days  TRIMP1_mean_3_days  \\\n",
       "12                              0.395014          994.960748   \n",
       "13                              0.393683          997.482226   \n",
       "14                              0.393683          770.478993   \n",
       "15                              0.400398          981.762669   \n",
       "16                              0.408444          958.164133   \n",
       "\n",
       "    TRIMP2_mean_3_days  TRIMP3_mean_3_days  TRIMP4_mean_3_days  \\\n",
       "12          103.188621         1260.987536          758.520146   \n",
       "13           61.388053         1853.448052         1052.005165   \n",
       "14           36.772901         1997.440934         1154.630564   \n",
       "15          177.930531         1626.721428          784.579500   \n",
       "16          173.953128         1848.569418         1049.974340   \n",
       "\n",
       "    PhC_mean_target_3_days  \n",
       "12                0.408444  \n",
       "13                0.378842  \n",
       "14                0.349240  \n",
       "15                0.372751  \n",
       "16                0.396262  "
      ]
     },
     "execution_count": 4,
     "metadata": {},
     "output_type": "execute_result"
    }
   ],
   "source": [
    "data = artembev.copy()\n",
    "data.drop(columns=['day number'], inplace=True)\n",
    "data[\"Physiological Cost (PhC)\"] = data[\"Physiological Cost (PhC)\"][1::]\n",
    "cols_to_drop = []\n",
    "for col in data.columns:\n",
    "    data[col+'_mean_3_days'] = np.asarray([data.loc[i-1:i+1, col].mean() for i in data.index])\n",
    "#     data.drop(columns=[col], inplace=True)\n",
    "    cols_to_drop.append(col)\n",
    "OLD_PHC_COLNAME = \"Physiological Cost (PhC)_mean_3_days\"\n",
    "NEW_PHC_COLNAME = 'PhC_mean_target_3_days'\n",
    "data[NEW_PHC_COLNAME] = data[OLD_PHC_COLNAME][3::].tolist() + 3*[np.nan]\n",
    "data[OLD_PHC_COLNAME] = np.asarray([data.loc[i-2:i, \"Physiological Cost (PhC)\"].mean() for i in data.index])\n",
    "# data['const'] = np.full(data.shape[0], 1)\n",
    "# cols_to_drop.append(OLD_PHC_COLNAME)\n",
    "data.drop(columns=cols_to_drop, inplace=True)\n",
    "data.dropna(inplace=True)\n",
    "data.head()"
   ]
  },
  {
   "cell_type": "code",
   "execution_count": 5,
   "metadata": {},
   "outputs": [
    {
     "data": {
      "text/plain": [
       "(Index(['Physiological Cost (PhC)_mean_3_days', 'TRIMP1_mean_3_days',\n",
       "        'TRIMP2_mean_3_days', 'TRIMP3_mean_3_days', 'TRIMP4_mean_3_days'],\n",
       "       dtype='object'), 'PhC_mean_target_3_days')"
      ]
     },
     "execution_count": 5,
     "metadata": {},
     "output_type": "execute_result"
    }
   ],
   "source": [
    "y = data[NEW_PHC_COLNAME]\n",
    "X = data.drop(columns=[NEW_PHC_COLNAME])\n",
    "X.columns, y.name"
   ]
  },
  {
   "cell_type": "code",
   "execution_count": 6,
   "metadata": {},
   "outputs": [],
   "source": [
    "def train_and_test(X, y, max_depth=None, draw=False):\n",
    "#     X_train, X_test, y_train, y_test = train_test_split(X, y, test_size=0.2, random_state=42, shuffle=True)\n",
    "    X_train, X_test, y_train, y_test = X[:70], X[70:], y[:70], y[70:]\n",
    "    tree = DecisionTreeRegressor(max_depth=max_depth)\n",
    "    tree = tree.fit(X_train, y_train)\n",
    "    y_pred = tree.predict(X_test)\n",
    "    r2 = r2_score(y_test, y_pred)\n",
    "    mae = np.mean(np.abs(y_test - y_pred))\n",
    "    if draw:\n",
    "        print(f'R^2 = {r2}')\n",
    "        print(f'MAE = {mae}')\n",
    "        plt.figure(figsize=(7,7))\n",
    "        sns.scatterplot(y_test, y_pred)\n",
    "    return r2, mae"
   ]
  },
  {
   "cell_type": "code",
   "execution_count": 7,
   "metadata": {},
   "outputs": [],
   "source": [
    "def train_and_test_shuffled(X, y, max_depth=None, draw=False):\n",
    "    X_train, X_test, y_train, y_test = train_test_split(X, y, test_size=0.2, random_state=42, shuffle=True)\n",
    "#     X_train, X_test, y_train, y_test = X[:70], X[70:], y[:70], y[70:]\n",
    "    tree = DecisionTreeRegressor(max_depth=max_depth)\n",
    "    tree = tree.fit(X_train, y_train)\n",
    "    y_pred = tree.predict(X_test)\n",
    "    r2 = r2_score(y_test, y_pred)\n",
    "    mae = np.mean(np.abs(y_test - y_pred))\n",
    "    if draw:\n",
    "        print(f'R^2 = {r2}')\n",
    "        print(f'MAE = {mae}')\n",
    "        plt.figure(figsize=(7,7))\n",
    "        sns.scatterplot(y_test, y_pred)\n",
    "    return r2, mae"
   ]
  },
  {
   "cell_type": "code",
   "execution_count": 8,
   "metadata": {},
   "outputs": [
    {
     "data": {
      "text/plain": [
       "<matplotlib.axes._subplots.AxesSubplot at 0x7fd9d25ebb38>"
      ]
     },
     "execution_count": 8,
     "metadata": {},
     "output_type": "execute_result"
    },
    {
     "data": {
      "image/png": "[encoded data removed]",
      "text/plain": [
       "<Figure size 1008x504 with 1 Axes>"
      ]
     },
     "metadata": {
      "needs_background": "light"
     },
     "output_type": "display_data"
    }
   ],
   "source": [
    "r_scores = []\n",
    "depths = []\n",
    "for i in range(1, 100):\n",
    "    depths.append(i)\n",
    "    r_scores.append(train_and_test(X, y, i)[0])\n",
    "plt.figure(figsize=(14, 7))    \n",
    "sns.lineplot(depths, r_scores)"
   ]
  },
  {
   "cell_type": "code",
   "execution_count": 9,
   "metadata": {},
   "outputs": [
    {
     "data": {
      "text/plain": [
       "<matplotlib.axes._subplots.AxesSubplot at 0x7fd9d2655470>"
      ]
     },
     "execution_count": 9,
     "metadata": {},
     "output_type": "execute_result"
    },
    {
     "data": {
      "image/png": "[encoded data removed]",
      "text/plain": [
       "<Figure size 1008x504 with 1 Axes>"
      ]
     },
     "metadata": {
      "needs_background": "light"
     },
     "output_type": "display_data"
    }
   ],
   "source": [
    "r_scores_shuffled = []\n",
    "depths_shuffled = []\n",
    "for i in range(1, 100):\n",
    "    depths_shuffled.append(i)\n",
    "    r_scores_shuffled.append(train_and_test_shuffled(X, y, i)[0])\n",
    "plt.figure(figsize=(14, 7))    \n",
    "sns.lineplot(depths_shuffled, r_scores_shuffled)"
   ]
  },
  {
   "cell_type": "code",
   "execution_count": 10,
   "metadata": {},
   "outputs": [
    {
     "name": "stdout",
     "output_type": "stream",
     "text": [
      "Maximum R2 score = 0.4917421118237927\n",
      "Corresponding tree depth is 1\n"
     ]
    }
   ],
   "source": [
    "max_index = np.asarray(r_scores_shuffled).argmax()\n",
    "print(f'Maximum R2 score = {r_scores_shuffled[max_index]}')\n",
    "print(f'Corresponding tree depth is {depths_shuffled[max_index]}')"
   ]
  },
  {
   "cell_type": "code",
   "execution_count": 12,
   "metadata": {},
   "outputs": [],
   "source": [
    "from sklearn.linear_model import LinearRegression\n",
    "def train_and_test_shuffled_linear(X, y, draw=False):\n",
    "    X_train, X_test, y_train, y_test = train_test_split(X, y, test_size=0.2, random_state=42, shuffle=True)\n",
    "#     X_train, X_test, y_train, y_test = X[:70], X[70:], y[:70], y[70:]\n",
    "    tree = LinearRegression()\n",
    "    tree = tree.fit(X_train, y_train)\n",
    "    y_pred = tree.predict(X_test)\n",
    "    r2 = r2_score(y_test, y_pred)\n",
    "    mae = np.mean(np.abs(y_test - y_pred))\n",
    "    if draw:\n",
    "        print(f'R^2 = {r2}')\n",
    "        print(f'MAE = {mae}')\n",
    "        print(f'regression coeficients are {tree.coef_}')\n",
    "        print(f'intercept is {tree.intercept_}')\n",
    "        plt.figure(figsize=(7,7))\n",
    "        sns.scatterplot(y_test, y_pred)\n",
    "    return r2, mae"
   ]
  },
  {
   "cell_type": "code",
   "execution_count": 13,
   "metadata": {},
   "outputs": [
    {
     "name": "stdout",
     "output_type": "stream",
     "text": [
      "R^2 = 0.4317978806020937\n",
      "MAE = 0.01781487509855324\n",
      "regression coeficients are [ 2.95814777e-02  2.21403972e-05 -6.66657670e-05  1.54515684e-06\n",
      "  4.37210443e-07]\n",
      "intercept is 0.3517545337370113\n"
     ]
    },
    {
     "data": {
      "text/plain": [
       "(0.4317978806020937, 0.01781487509855324)"
      ]
     },
     "execution_count": 13,
     "metadata": {},
     "output_type": "execute_result"
    },
    {
     "data": {
      "image/png": "[encoded data removed]",
      "text/plain": [
       "<Figure size 504x504 with 1 Axes>"
      ]
     },
     "metadata": {
      "needs_background": "light"
     },
     "output_type": "display_data"
    }
   ],
   "source": [
    "train_and_test_shuffled_linear(X, y, True)"
   ]
  },
  {
   "cell_type": "code",
   "execution_count": 54,
   "metadata": {},
   "outputs": [],
   "source": [
    "from statsmodels.regression import linear_model as sm\n",
    "import statsmodels.api as smapi"
   ]
  },
  {
   "cell_type": "code",
   "execution_count": 55,
   "metadata": {},
   "outputs": [
    {
     "data": {
      "text/html": [
       "<div>\n",
       "<style scoped>\n",
       "    .dataframe tbody tr th:only-of-type {\n",
       "        vertical-align: middle;\n",
       "    }\n",
       "\n",
       "    .dataframe tbody tr th {\n",
       "        vertical-align: top;\n",
       "    }\n",
       "\n",
       "    .dataframe thead th {\n",
       "        text-align: right;\n",
       "    }\n",
       "</style>\n",
       "<table border=\"1\" class=\"dataframe\">\n",
       "  <thead>\n",
       "    <tr style=\"text-align: right;\">\n",
       "      <th></th>\n",
       "      <th>const</th>\n",
       "      <th>Physiological Cost (PhC)_mean_3_days</th>\n",
       "      <th>TRIMP1_mean_3_days</th>\n",
       "      <th>TRIMP2_mean_3_days</th>\n",
       "      <th>TRIMP3_mean_3_days</th>\n",
       "      <th>TRIMP4_mean_3_days</th>\n",
       "    </tr>\n",
       "  </thead>\n",
       "  <tbody>\n",
       "    <tr>\n",
       "      <th>12</th>\n",
       "      <td>1.0</td>\n",
       "      <td>0.395014</td>\n",
       "      <td>994.960748</td>\n",
       "      <td>103.188621</td>\n",
       "      <td>1260.987536</td>\n",
       "      <td>758.520146</td>\n",
       "    </tr>\n",
       "    <tr>\n",
       "      <th>13</th>\n",
       "      <td>1.0</td>\n",
       "      <td>0.393683</td>\n",
       "      <td>997.482226</td>\n",
       "      <td>61.388053</td>\n",
       "      <td>1853.448052</td>\n",
       "      <td>1052.005165</td>\n",
       "    </tr>\n",
       "    <tr>\n",
       "      <th>14</th>\n",
       "      <td>1.0</td>\n",
       "      <td>0.393683</td>\n",
       "      <td>770.478993</td>\n",
       "      <td>36.772901</td>\n",
       "      <td>1997.440934</td>\n",
       "      <td>1154.630564</td>\n",
       "    </tr>\n",
       "    <tr>\n",
       "      <th>15</th>\n",
       "      <td>1.0</td>\n",
       "      <td>0.400398</td>\n",
       "      <td>981.762669</td>\n",
       "      <td>177.930531</td>\n",
       "      <td>1626.721428</td>\n",
       "      <td>784.579500</td>\n",
       "    </tr>\n",
       "    <tr>\n",
       "      <th>16</th>\n",
       "      <td>1.0</td>\n",
       "      <td>0.408444</td>\n",
       "      <td>958.164133</td>\n",
       "      <td>173.953128</td>\n",
       "      <td>1848.569418</td>\n",
       "      <td>1049.974340</td>\n",
       "    </tr>\n",
       "  </tbody>\n",
       "</table>\n",
       "</div>"
      ],
      "text/plain": [
       "    const  Physiological Cost (PhC)_mean_3_days  TRIMP1_mean_3_days  \\\n",
       "12    1.0                              0.395014          994.960748   \n",
       "13    1.0                              0.393683          997.482226   \n",
       "14    1.0                              0.393683          770.478993   \n",
       "15    1.0                              0.400398          981.762669   \n",
       "16    1.0                              0.408444          958.164133   \n",
       "\n",
       "    TRIMP2_mean_3_days  TRIMP3_mean_3_days  TRIMP4_mean_3_days  \n",
       "12          103.188621         1260.987536          758.520146  \n",
       "13           61.388053         1853.448052         1052.005165  \n",
       "14           36.772901         1997.440934         1154.630564  \n",
       "15          177.930531         1626.721428          784.579500  \n",
       "16          173.953128         1848.569418         1049.974340  "
      ]
     },
     "execution_count": 55,
     "metadata": {},
     "output_type": "execute_result"
    }
   ],
   "source": [
    "X = smapi.add_constant(X)\n",
    "X.head()"
   ]
  },
  {
   "cell_type": "code",
   "execution_count": 56,
   "metadata": {},
   "outputs": [
    {
     "name": "stdout",
     "output_type": "stream",
     "text": [
      "                              OLS Regression Results                              \n",
      "==================================================================================\n",
      "Dep. Variable:     PhC_mean_target_3_days   R-squared:                       0.433\n",
      "Model:                                OLS   Adj. R-squared:                  0.409\n",
      "Method:                     Least Squares   F-statistic:                     18.03\n",
      "Date:                    Sun, 05 Apr 2020   Prob (F-statistic):           2.95e-13\n",
      "Time:                            21:03:19   Log-Likelihood:                 320.73\n",
      "No. Observations:                     124   AIC:                            -629.5\n",
      "Df Residuals:                         118   BIC:                            -612.5\n",
      "Df Model:                               5                                         \n",
      "Covariance Type:                nonrobust                                         \n",
      "========================================================================================================\n",
      "                                           coef    std err          t      P>|t|      [0.025      0.975]\n",
      "--------------------------------------------------------------------------------------------------------\n",
      "const                                    0.3459      0.037      9.311      0.000       0.272       0.419\n",
      "Physiological Cost (PhC)_mean_3_days     0.0548      0.102      0.538      0.592      -0.147       0.257\n",
      "TRIMP1_mean_3_days                    2.376e-05    8.2e-06      2.896      0.005    7.51e-06       4e-05\n",
      "TRIMP2_mean_3_days                   -6.588e-05   1.13e-05     -5.854      0.000   -8.82e-05   -4.36e-05\n",
      "TRIMP3_mean_3_days                    2.596e-06   8.71e-06      0.298      0.766   -1.47e-05    1.98e-05\n",
      "TRIMP4_mean_3_days                   -6.395e-06   1.38e-05     -0.462      0.645   -3.38e-05     2.1e-05\n",
      "==============================================================================\n",
      "Omnibus:                        1.867   Durbin-Watson:                   0.889\n",
      "Prob(Omnibus):                  0.393   Jarque-Bera (JB):                1.585\n",
      "Skew:                           0.132   Prob(JB):                        0.453\n",
      "Kurtosis:                       2.513   Cond. No.                     1.54e+05\n",
      "==============================================================================\n",
      "\n",
      "Warnings:\n",
      "[1] Standard Errors assume that the covariance matrix of the errors is correctly specified.\n",
      "[2] The condition number is large, 1.54e+05. This might indicate that there are\n",
      "strong multicollinearity or other numerical problems.\n"
     ]
    }
   ],
   "source": [
    "result = sm.OLS(y, X).fit()\n",
    "print(result.summary())"
   ]
  },
  {
   "cell_type": "code",
   "execution_count": 58,
   "metadata": {},
   "outputs": [
    {
     "data": {
      "text/plain": [
       "0.3591327200652174"
      ]
     },
     "execution_count": 58,
     "metadata": {},
     "output_type": "execute_result"
    }
   ],
   "source": [
    "artembev['Physiological Cost (PhC)'].mean()"
   ]
  }
 ],
 "metadata": {
  "kernelspec": {
   "display_name": "Python 3",
   "language": "python",
   "name": "python3"
  },
  "language_info": {
   "codemirror_mode": {
    "name": "ipython",
    "version": 3
   },
   "file_extension": ".py",
   "mimetype": "text/x-python",
   "name": "python",
   "nbconvert_exporter": "python",
   "pygments_lexer": "ipython3",
   "version": "3.6.9"
  }
 },
 "nbformat": 4,
 "nbformat_minor": 2
}
