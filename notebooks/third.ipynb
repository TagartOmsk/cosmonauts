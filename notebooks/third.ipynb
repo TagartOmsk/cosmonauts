{
 "cells": [
  {
   "cell_type": "code",
   "execution_count": 2,
   "metadata": {},
   "outputs": [],
   "source": [
    "import torch\n",
    "import torch.nn as nn\n",
    "import torch.optim as optim\n",
    "from torch.utils.data import DataLoader\n",
    "from torch.utils.data import sampler\n",
    "\n",
    "import torchvision.datasets as dset\n",
    "import torchvision.transforms as T\n",
    "\n",
    "import numpy as np\n",
    "import pandas as pd\n",
    "from matplotlib import pyplot as plt\n",
    "import seaborn as sns\n",
    "from sklearn.model_selection import train_test_split\n",
    "from sklearn.tree import DecisionTreeRegressor, export_graphviz\n",
    "import random\n",
    "random.seed(42)\n",
    "\n",
    "%load_ext autoreload\n",
    "%autoreload 2"
   ]
  },
  {
   "cell_type": "code",
   "execution_count": 4,
   "metadata": {},
   "outputs": [
    {
     "name": "stdout",
     "output_type": "stream",
     "text": [
      "(184, 6)\n",
      "(184, 5)\n"
     ]
    },
    {
     "data": {
      "text/html": [
       "<div>\n",
       "<style scoped>\n",
       "    .dataframe tbody tr th:only-of-type {\n",
       "        vertical-align: middle;\n",
       "    }\n",
       "\n",
       "    .dataframe tbody tr th {\n",
       "        vertical-align: top;\n",
       "    }\n",
       "\n",
       "    .dataframe thead th {\n",
       "        text-align: right;\n",
       "    }\n",
       "</style>\n",
       "<table border=\"1\" class=\"dataframe\">\n",
       "  <thead>\n",
       "    <tr style=\"text-align: right;\">\n",
       "      <th></th>\n",
       "      <th>Physiological Cost (PhC)</th>\n",
       "      <th>TRIMP1</th>\n",
       "      <th>TRIMP2</th>\n",
       "      <th>TRIMP3</th>\n",
       "      <th>TRIMP4</th>\n",
       "    </tr>\n",
       "  </thead>\n",
       "  <tbody>\n",
       "    <tr>\n",
       "      <th>11</th>\n",
       "      <td>0.411155</td>\n",
       "      <td>802.127</td>\n",
       "      <td>138.638</td>\n",
       "      <td>1.23169</td>\n",
       "      <td>0</td>\n",
       "    </tr>\n",
       "    <tr>\n",
       "      <th>12</th>\n",
       "      <td>0.395014</td>\n",
       "      <td>1450.13</td>\n",
       "      <td>100.318</td>\n",
       "      <td>1341.57</td>\n",
       "      <td>579.98</td>\n",
       "    </tr>\n",
       "    <tr>\n",
       "      <th>13</th>\n",
       "      <td>0.392351</td>\n",
       "      <td>732.626</td>\n",
       "      <td>70.6103</td>\n",
       "      <td>2440.17</td>\n",
       "      <td>1695.58</td>\n",
       "    </tr>\n",
       "    <tr>\n",
       "      <th>14</th>\n",
       "      <td>NaN</td>\n",
       "      <td>809.691</td>\n",
       "      <td>13.2364</td>\n",
       "      <td>1778.61</td>\n",
       "      <td>880.455</td>\n",
       "    </tr>\n",
       "    <tr>\n",
       "      <th>15</th>\n",
       "      <td>0.408444</td>\n",
       "      <td>769.12</td>\n",
       "      <td>26.4721</td>\n",
       "      <td>1773.54</td>\n",
       "      <td>887.856</td>\n",
       "    </tr>\n",
       "    <tr>\n",
       "      <th>16</th>\n",
       "      <td>NaN</td>\n",
       "      <td>1366.48</td>\n",
       "      <td>494.083</td>\n",
       "      <td>1328.01</td>\n",
       "      <td>585.427</td>\n",
       "    </tr>\n",
       "    <tr>\n",
       "      <th>17</th>\n",
       "      <td>0.349240</td>\n",
       "      <td>738.895</td>\n",
       "      <td>1.30417</td>\n",
       "      <td>2444.16</td>\n",
       "      <td>1676.64</td>\n",
       "    </tr>\n",
       "    <tr>\n",
       "      <th>18</th>\n",
       "      <td>NaN</td>\n",
       "      <td>670.607</td>\n",
       "      <td>10.3701</td>\n",
       "      <td>1779.52</td>\n",
       "      <td>877.502</td>\n",
       "    </tr>\n",
       "    <tr>\n",
       "      <th>19</th>\n",
       "      <td>0.396262</td>\n",
       "      <td>722.044</td>\n",
       "      <td>51.7193</td>\n",
       "      <td>1776.15</td>\n",
       "      <td>889.079</td>\n",
       "    </tr>\n",
       "    <tr>\n",
       "      <th>20</th>\n",
       "      <td>NaN</td>\n",
       "      <td>NaN</td>\n",
       "      <td>NaN</td>\n",
       "      <td>NaN</td>\n",
       "      <td>NaN</td>\n",
       "    </tr>\n",
       "  </tbody>\n",
       "</table>\n",
       "</div>"
      ],
      "text/plain": [
       "    Physiological Cost (PhC)   TRIMP1   TRIMP2   TRIMP3   TRIMP4\n",
       "11                  0.411155  802.127  138.638  1.23169        0\n",
       "12                  0.395014  1450.13  100.318  1341.57   579.98\n",
       "13                  0.392351  732.626  70.6103  2440.17  1695.58\n",
       "14                       NaN  809.691  13.2364  1778.61  880.455\n",
       "15                  0.408444   769.12  26.4721  1773.54  887.856\n",
       "16                       NaN  1366.48  494.083  1328.01  585.427\n",
       "17                  0.349240  738.895  1.30417  2444.16  1676.64\n",
       "18                       NaN  670.607  10.3701  1779.52  877.502\n",
       "19                  0.396262  722.044  51.7193  1776.15  889.079\n",
       "20                       NaN      NaN      NaN      NaN      NaN"
      ]
     },
     "execution_count": 4,
     "metadata": {},
     "output_type": "execute_result"
    }
   ],
   "source": [
    "errors = {}\n",
    "init_data = pd.read_excel(\"../data/1Artembev_PhC_sport_and_tripms.xls\")\n",
    "main_features = init_data.drop(columns=['day number', 'Speed','Heart rate','Load','Avg PhC 9days', 'Avg PhC 3days',\n",
    "                                        'Unnamed: 13','Unnamed: 14','Unnamed: 15', 'Unnamed: 16', 'Unnamed: 17', 'Unnamed: 18', \n",
    "                        'Unnamed: 19', 'Unnamed: 8'], axis=0)\n",
    "main_features.drop(labels=range(11), inplace=True)\n",
    "print(main_features.shape)\n",
    "edited_features = main_features.dropna(axis='rows', how=\"any\")\n",
    "edited_features = main_features.drop(columns=['Forecast'], axis=0)\n",
    "print(edited_features.shape)\n",
    "edited_features.head(10)"
   ]
  },
  {
   "cell_type": "code",
   "execution_count": 5,
   "metadata": {
    "scrolled": true
   },
   "outputs": [
    {
     "data": {
      "text/html": [
       "<div>\n",
       "<style scoped>\n",
       "    .dataframe tbody tr th:only-of-type {\n",
       "        vertical-align: middle;\n",
       "    }\n",
       "\n",
       "    .dataframe tbody tr th {\n",
       "        vertical-align: top;\n",
       "    }\n",
       "\n",
       "    .dataframe thead th {\n",
       "        text-align: right;\n",
       "    }\n",
       "</style>\n",
       "<table border=\"1\" class=\"dataframe\">\n",
       "  <thead>\n",
       "    <tr style=\"text-align: right;\">\n",
       "      <th></th>\n",
       "      <th>Mean Physiological Cost (PhC)</th>\n",
       "      <th>Mean TRIMP1</th>\n",
       "      <th>Mean TRIMP2</th>\n",
       "      <th>Mean TRIMP3</th>\n",
       "      <th>Mean TRIMP4</th>\n",
       "    </tr>\n",
       "  </thead>\n",
       "  <tbody>\n",
       "    <tr>\n",
       "      <th>0</th>\n",
       "      <td>0.000000</td>\n",
       "      <td>0.000000</td>\n",
       "      <td>0.000000</td>\n",
       "      <td>0.000000</td>\n",
       "      <td>0.000000</td>\n",
       "    </tr>\n",
       "    <tr>\n",
       "      <th>1</th>\n",
       "      <td>0.399507</td>\n",
       "      <td>994.960748</td>\n",
       "      <td>103.188621</td>\n",
       "      <td>1260.987536</td>\n",
       "      <td>758.520146</td>\n",
       "    </tr>\n",
       "    <tr>\n",
       "      <th>2</th>\n",
       "      <td>0.393683</td>\n",
       "      <td>997.482226</td>\n",
       "      <td>61.388053</td>\n",
       "      <td>1853.448052</td>\n",
       "      <td>1052.005165</td>\n",
       "    </tr>\n",
       "    <tr>\n",
       "      <th>3</th>\n",
       "      <td>0.400398</td>\n",
       "      <td>770.478993</td>\n",
       "      <td>36.772901</td>\n",
       "      <td>1997.440934</td>\n",
       "      <td>1154.630564</td>\n",
       "    </tr>\n",
       "    <tr>\n",
       "      <th>4</th>\n",
       "      <td>0.408444</td>\n",
       "      <td>981.762669</td>\n",
       "      <td>177.930531</td>\n",
       "      <td>1626.721428</td>\n",
       "      <td>784.579500</td>\n",
       "    </tr>\n",
       "    <tr>\n",
       "      <th>5</th>\n",
       "      <td>0.378842</td>\n",
       "      <td>958.164133</td>\n",
       "      <td>173.953128</td>\n",
       "      <td>1848.569418</td>\n",
       "      <td>1049.974340</td>\n",
       "    </tr>\n",
       "    <tr>\n",
       "      <th>6</th>\n",
       "      <td>0.349240</td>\n",
       "      <td>925.326415</td>\n",
       "      <td>168.585802</td>\n",
       "      <td>1850.559948</td>\n",
       "      <td>1046.523011</td>\n",
       "    </tr>\n",
       "    <tr>\n",
       "      <th>7</th>\n",
       "      <td>0.372751</td>\n",
       "      <td>710.515419</td>\n",
       "      <td>21.131176</td>\n",
       "      <td>1999.940352</td>\n",
       "      <td>1147.740144</td>\n",
       "    </tr>\n",
       "    <tr>\n",
       "      <th>8</th>\n",
       "      <td>0.396262</td>\n",
       "      <td>696.325461</td>\n",
       "      <td>31.044680</td>\n",
       "      <td>1777.831922</td>\n",
       "      <td>883.290428</td>\n",
       "    </tr>\n",
       "    <tr>\n",
       "      <th>9</th>\n",
       "      <td>0.398011</td>\n",
       "      <td>767.086336</td>\n",
       "      <td>33.416780</td>\n",
       "      <td>2104.758831</td>\n",
       "      <td>1301.230254</td>\n",
       "    </tr>\n",
       "  </tbody>\n",
       "</table>\n",
       "</div>"
      ],
      "text/plain": [
       "   Mean Physiological Cost (PhC)  Mean TRIMP1  Mean TRIMP2  Mean TRIMP3  \\\n",
       "0                       0.000000     0.000000     0.000000     0.000000   \n",
       "1                       0.399507   994.960748   103.188621  1260.987536   \n",
       "2                       0.393683   997.482226    61.388053  1853.448052   \n",
       "3                       0.400398   770.478993    36.772901  1997.440934   \n",
       "4                       0.408444   981.762669   177.930531  1626.721428   \n",
       "5                       0.378842   958.164133   173.953128  1848.569418   \n",
       "6                       0.349240   925.326415   168.585802  1850.559948   \n",
       "7                       0.372751   710.515419    21.131176  1999.940352   \n",
       "8                       0.396262   696.325461    31.044680  1777.831922   \n",
       "9                       0.398011   767.086336    33.416780  2104.758831   \n",
       "\n",
       "   Mean TRIMP4  \n",
       "0     0.000000  \n",
       "1   758.520146  \n",
       "2  1052.005165  \n",
       "3  1154.630564  \n",
       "4   784.579500  \n",
       "5  1049.974340  \n",
       "6  1046.523011  \n",
       "7  1147.740144  \n",
       "8   883.290428  \n",
       "9  1301.230254  "
      ]
     },
     "execution_count": 5,
     "metadata": {},
     "output_type": "execute_result"
    }
   ],
   "source": [
    "colsDict = {}\n",
    "means = pd.DataFrame()\n",
    "for col in edited_features.columns:\n",
    "    new = f'Mean {col}'\n",
    "    means[new] = np.zeros(edited_features.shape[0])\n",
    "    colsDict.update({col:new})\n",
    "\n",
    "for i in range(1, edited_features.shape[0]):\n",
    "    for col in colsDict:\n",
    "        means[colsDict.get(col)].iloc[i] = edited_features[col].iloc[i-1:i+2].mean()\n",
    "means.head(10)"
   ]
  },
  {
   "cell_type": "code",
   "execution_count": 6,
   "metadata": {},
   "outputs": [
    {
     "name": "stdout",
     "output_type": "stream",
     "text": [
      "<class 'pandas.core.frame.DataFrame'>\n",
      "RangeIndex: 184 entries, 0 to 183\n",
      "Data columns (total 5 columns):\n",
      "Mean Physiological Cost (PhC)    151 non-null float64\n",
      "Mean TRIMP1                      179 non-null float64\n",
      "Mean TRIMP2                      179 non-null float64\n",
      "Mean TRIMP3                      179 non-null float64\n",
      "Mean TRIMP4                      179 non-null float64\n",
      "dtypes: float64(5)\n",
      "memory usage: 7.3 KB\n"
     ]
    }
   ],
   "source": [
    "means.info()"
   ]
  },
  {
   "cell_type": "code",
   "execution_count": 7,
   "metadata": {},
   "outputs": [
    {
     "name": "stdout",
     "output_type": "stream",
     "text": [
      "<class 'pandas.core.frame.DataFrame'>\n",
      "Int64Index: 151 entries, 0 to 183\n",
      "Data columns (total 5 columns):\n",
      "Mean Physiological Cost (PhC)    151 non-null float64\n",
      "Mean TRIMP1                      151 non-null float64\n",
      "Mean TRIMP2                      151 non-null float64\n",
      "Mean TRIMP3                      151 non-null float64\n",
      "Mean TRIMP4                      151 non-null float64\n",
      "dtypes: float64(5)\n",
      "memory usage: 7.1 KB\n"
     ]
    }
   ],
   "source": [
    "means.dropna(inplace=True)\n",
    "means.info()"
   ]
  },
  {
   "cell_type": "code",
   "execution_count": 12,
   "metadata": {},
   "outputs": [],
   "source": [
    "tree = DecisionTreeRegressor(max_depth=1)\n",
    "X = means.drop(columns=['Mean Physiological Cost (PhC)'])\n",
    "y = means['Mean Physiological Cost (PhC)']\n",
    "X_train, X_test, y_train, y_test = train_test_split(X, y, test_size = 0.2, random_state=42)"
   ]
  },
  {
   "cell_type": "code",
   "execution_count": 13,
   "metadata": {},
   "outputs": [
    {
     "data": {
      "text/plain": [
       "array([0.35855528, 0.35855528, 0.35855528, 0.35855528, 0.35855528,\n",
       "       0.35855528, 0.35855528, 0.35855528, 0.35855528, 0.35855528,\n",
       "       0.35855528, 0.35855528, 0.35855528, 0.35855528, 0.35855528,\n",
       "       0.35855528, 0.35855528, 0.35855528, 0.35855528, 0.35855528,\n",
       "       0.35855528, 0.35855528, 0.35855528, 0.35855528, 0.35855528,\n",
       "       0.35855528, 0.35855528, 0.35855528, 0.35855528, 0.35855528,\n",
       "       0.35855528])"
      ]
     },
     "execution_count": 13,
     "metadata": {},
     "output_type": "execute_result"
    }
   ],
   "source": [
    "tree.fit(X_train, y_train)\n",
    "y_pred = tree.predict(X_test)\n",
    "y_pred"
   ]
  },
  {
   "cell_type": "code",
   "execution_count": 14,
   "metadata": {},
   "outputs": [
    {
     "data": {
      "text/plain": [
       "<matplotlib.axes._subplots.AxesSubplot at 0x7fbf4c8052b0>"
      ]
     },
     "execution_count": 14,
     "metadata": {},
     "output_type": "execute_result"
    },
    {
     "data": {
      "image/png": "[encoded data removed]",
      "text/plain": [
       "<Figure size 1080x360 with 1 Axes>"
      ]
     },
     "metadata": {
      "needs_background": "light"
     },
     "output_type": "display_data"
    }
   ],
   "source": [
    "res = pd.DataFrame(columns=['3 days average PhC', 'Forecast'])\n",
    "res['3 days average PhC'] = y_test\n",
    "res['Forecast'] = y_pred\n",
    "figure = plt.figure(figsize=(15,5))\n",
    "sns.scatterplot(data=res, hue='columns')\n",
    "# sns.scatterplot(y_test.index, y_test)\n",
    "# sns.scatterplot(y_test.index, y_pred)"
   ]
  },
  {
   "cell_type": "code",
   "execution_count": 15,
   "metadata": {},
   "outputs": [
    {
     "data": {
      "text/plain": [
       "0"
      ]
     },
     "execution_count": 15,
     "metadata": {},
     "output_type": "execute_result"
    }
   ],
   "source": [
    "export_graphviz(tree, out_file='tree.dot', \n",
    "                feature_names = X.columns,\n",
    "                class_names = y.name,\n",
    "                rounded = True, proportion = False, \n",
    "                precision = 2, filled = True)\n",
    "\n",
    "# Convert to png using system command (requires Graphviz)\n",
    "from subprocess import call\n",
    "call(['dot', '-Tpng', 'tree.dot', '-o', 'tree.png', '-Gdpi=600'])"
   ]
  },
  {
   "cell_type": "code",
   "execution_count": null,
   "metadata": {},
   "outputs": [],
   "source": []
  }
 ],
 "metadata": {
  "kernelspec": {
   "display_name": "Python 3",
   "language": "python",
   "name": "python3"
  },
  "language_info": {
   "codemirror_mode": {
    "name": "ipython",
    "version": 3
   },
   "file_extension": ".py",
   "mimetype": "text/x-python",
   "name": "python",
   "nbconvert_exporter": "python",
   "pygments_lexer": "ipython3",
   "version": "3.6.9"
  }
 },
 "nbformat": 4,
 "nbformat_minor": 2
}
